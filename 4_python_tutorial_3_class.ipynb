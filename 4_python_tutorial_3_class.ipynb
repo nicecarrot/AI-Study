{
  "nbformat": 4,
  "nbformat_minor": 0,
  "metadata": {
    "colab": {
      "name": "4_python_tutorial_3_class.ipynb",
      "provenance": [],
      "include_colab_link": true
    },
    "kernelspec": {
      "name": "python3",
      "display_name": "Python 3"
    },
    "language_info": {
      "name": "python"
    }
  },
  "cells": [
    {
      "cell_type": "markdown",
      "metadata": {
        "id": "view-in-github",
        "colab_type": "text"
      },
      "source": [
        "<a href=\"https://colab.research.google.com/github/nicecarrot/AI-Study/blob/main/4_python_tutorial_3_class.ipynb\" target=\"_parent\"><img src=\"https://colab.research.google.com/assets/colab-badge.svg\" alt=\"Open In Colab\"/></a>"
      ]
    },
    {
      "cell_type": "markdown",
      "metadata": {
        "id": "uqBqnihs6oKQ"
      },
      "source": [
        "# 클래스"
      ]
    },
    {
      "cell_type": "markdown",
      "metadata": {
        "id": "JgBltBAW6rmh"
      },
      "source": [
        "- 클래스 : 과자틀, 템플릿\n",
        "\n",
        "- 객체 : 과자 (피조물)\n",
        "\n",
        "클래스 변화 -> 객체 전체의 변화.  \n",
        "객체가 변화 -> 다른 객체에는 영향이 x"
      ]
    },
    {
      "cell_type": "code",
      "metadata": {
        "id": "wP8OIVqq6rMb"
      },
      "source": [
        "class test():\n",
        "  pass"
      ],
      "execution_count": null,
      "outputs": []
    },
    {
      "cell_type": "code",
      "metadata": {
        "id": "9B4-YM846kb7"
      },
      "source": [
        "test1 = test()\n",
        "test2 = test()"
      ],
      "execution_count": null,
      "outputs": []
    },
    {
      "cell_type": "code",
      "metadata": {
        "id": "N6-oQTpZ7SuJ"
      },
      "source": [
        "test1.greeting = \"Hi\""
      ],
      "execution_count": null,
      "outputs": []
    },
    {
      "cell_type": "code",
      "metadata": {
        "id": "uE-QJF627b2c"
      },
      "source": [
        "test2.greeting = \"Hello\""
      ],
      "execution_count": null,
      "outputs": []
    },
    {
      "cell_type": "code",
      "metadata": {
        "colab": {
          "base_uri": "https://localhost:8080/"
        },
        "id": "wjp10VUI7eMn",
        "outputId": "8fdab889-861a-4888-cf94-bbc7b9705dc1"
      },
      "source": [
        "print(test1.greeting)\n",
        "print(test2.greeting)"
      ],
      "execution_count": null,
      "outputs": [
        {
          "output_type": "stream",
          "text": [
            "Hi\n",
            "Hello\n"
          ],
          "name": "stdout"
        }
      ]
    },
    {
      "cell_type": "markdown",
      "metadata": {
        "id": "mH9M7ybk7tx-"
      },
      "source": [
        "## 클래스의 대표적 예시: 계산기"
      ]
    },
    {
      "cell_type": "code",
      "metadata": {
        "id": "nL__QIhV7s0Y"
      },
      "source": [
        "def (save_v, value):\n",
        "  save_v += value\n",
        "  return save_v"
      ],
      "execution_count": null,
      "outputs": []
    },
    {
      "cell_type": "code",
      "metadata": {
        "id": "QmbRdW4z8Rmd"
      },
      "source": [
        "save_v2 = 0\n",
        "def add_2(value):\n",
        "  global save_v2\n",
        "  save_v2 = save_v2 + value\n",
        "  return save_v2\n",
        "\n",
        "save_v3 = 0\n",
        "def add_3(value):\n",
        "  global save_v3\n",
        "  save_v3 = save_v3 + value\n",
        "  return save_v3\n",
        "\n",
        "save_v4 = 0\n",
        "def add_4(value):\n",
        "  global save_v4\n",
        "  save_v4 = save_v4 + value\n",
        "  return save_v4"
      ],
      "execution_count": null,
      "outputs": []
    },
    {
      "cell_type": "code",
      "metadata": {
        "colab": {
          "base_uri": "https://localhost:8080/"
        },
        "id": "Jxjrko_c8ggP",
        "outputId": "a1549117-6f0a-4a91-fad4-95242df9e19d"
      },
      "source": [
        "print(add_2(3))"
      ],
      "execution_count": null,
      "outputs": [
        {
          "output_type": "stream",
          "text": [
            "9\n"
          ],
          "name": "stdout"
        }
      ]
    },
    {
      "cell_type": "code",
      "metadata": {
        "id": "v7yLySAP9dbL"
      },
      "source": [
        "cal1 = calculator()\n",
        "cal2 = calculator()"
      ],
      "execution_count": null,
      "outputs": []
    },
    {
      "cell_type": "code",
      "metadata": {
        "colab": {
          "base_uri": "https://localhost:8080/"
        },
        "id": "CFBX193lAH6U",
        "outputId": "4d15adf5-9cdd-4eea-b0a0-44a6b8331d9a"
      },
      "source": [
        "cal1.update(0.3)"
      ],
      "execution_count": null,
      "outputs": [
        {
          "output_type": "execute_result",
          "data": {
            "text/plain": [
              "1.4000000000000001"
            ]
          },
          "metadata": {
            "tags": []
          },
          "execution_count": 39
        }
      ]
    },
    {
      "cell_type": "code",
      "metadata": {
        "colab": {
          "base_uri": "https://localhost:8080/"
        },
        "id": "Zj1ZwHYW_qyB",
        "outputId": "480b88d9-1949-4395-92f9-e7d1dc9a1b99"
      },
      "source": [
        "print(cal1.version)\n",
        "print(cal2.version)"
      ],
      "execution_count": null,
      "outputs": [
        {
          "output_type": "stream",
          "text": [
            "1.4000000000000001\n",
            "1.4000000000000001\n"
          ],
          "name": "stdout"
        }
      ]
    },
    {
      "cell_type": "code",
      "metadata": {
        "colab": {
          "base_uri": "https://localhost:8080/"
        },
        "id": "5OCzIiK8_xcg",
        "outputId": "9efe058c-8dd6-4067-c9bf-035a8fee7c8a"
      },
      "source": [
        "print(cal1.result)\n",
        "print(cal2.result)"
      ],
      "execution_count": null,
      "outputs": [
        {
          "output_type": "stream",
          "text": [
            "0\n",
            "0\n"
          ],
          "name": "stdout"
        }
      ]
    },
    {
      "cell_type": "code",
      "metadata": {
        "colab": {
          "base_uri": "https://localhost:8080/"
        },
        "id": "iM1gq4H09i3X",
        "outputId": "4d84f80f-22e9-47e9-fe3e-81c61bcd3833"
      },
      "source": [
        "# 객체.함수이름(인수)\n",
        "cal1.add(3)\n",
        "print(cal1.result)"
      ],
      "execution_count": null,
      "outputs": [
        {
          "output_type": "stream",
          "text": [
            "3\n"
          ],
          "name": "stdout"
        }
      ]
    },
    {
      "cell_type": "code",
      "metadata": {
        "colab": {
          "base_uri": "https://localhost:8080/"
        },
        "id": "4iVp3aXS-GKr",
        "outputId": "af146cf1-bf2f-4562-afbc-0fbd729698ec"
      },
      "source": [
        "print(cal2.sub(2))"
      ],
      "execution_count": null,
      "outputs": [
        {
          "output_type": "stream",
          "text": [
            "-2\n"
          ],
          "name": "stdout"
        }
      ]
    },
    {
      "cell_type": "code",
      "metadata": {
        "colab": {
          "base_uri": "https://localhost:8080/"
        },
        "id": "O8DvdwnO-yNB",
        "outputId": "04be3bd5-0d73-4a39-e845-09b96f088ccf"
      },
      "source": [
        "print(cal2.mul(4))"
      ],
      "execution_count": null,
      "outputs": [
        {
          "output_type": "stream",
          "text": [
            "-8\n"
          ],
          "name": "stdout"
        }
      ]
    },
    {
      "cell_type": "code",
      "metadata": {
        "id": "jZjNojy4-Mnq"
      },
      "source": [
        "cal3 = calculator()"
      ],
      "execution_count": null,
      "outputs": []
    },
    {
      "cell_type": "markdown",
      "metadata": {
        "id": "LdtJ1cqCAcbR"
      },
      "source": [
        "- 인스턴스 변수\n",
        "\n",
        "- 클래스 변수\n",
        "\n",
        "- 메소드"
      ]
    },
    {
      "cell_type": "code",
      "metadata": {
        "colab": {
          "base_uri": "https://localhost:8080/"
        },
        "id": "Qpxck9eNAbwb",
        "outputId": "52fc67a0-b134-4bfa-de12-9f1cdc6e8980"
      },
      "source": [
        "myList = [1,2, 3]\n",
        "myDict = {'key1': 1}\n",
        "\n",
        "print(type(1))\n",
        "print(type(3.2))\n",
        "print(type('python'))\n",
        "print(type(myList))\n",
        "print(type(myDict))\n",
        "print(type(cal1))"
      ],
      "execution_count": null,
      "outputs": [
        {
          "output_type": "stream",
          "text": [
            "<class 'int'>\n",
            "<class 'float'>\n",
            "<class 'str'>\n",
            "<class 'list'>\n",
            "<class 'dict'>\n",
            "<class '__main__.calculator'>\n"
          ],
          "name": "stdout"
        }
      ]
    },
    {
      "cell_type": "code",
      "metadata": {
        "colab": {
          "base_uri": "https://localhost:8080/"
        },
        "id": "PKuYMYutBOn2",
        "outputId": "e78f0700-dd55-46d2-981f-78ef208e6269"
      },
      "source": [
        "print(dir(myList))"
      ],
      "execution_count": null,
      "outputs": [
        {
          "output_type": "stream",
          "text": [
            "['__add__', '__class__', '__contains__', '__delattr__', '__delitem__', '__dir__', '__doc__', '__eq__', '__format__', '__ge__', '__getattribute__', '__getitem__', '__gt__', '__hash__', '__iadd__', '__imul__', '__init__', '__init_subclass__', '__iter__', '__le__', '__len__', '__lt__', '__mul__', '__ne__', '__new__', '__reduce__', '__reduce_ex__', '__repr__', '__reversed__', '__rmul__', '__setattr__', '__setitem__', '__sizeof__', '__str__', '__subclasshook__', 'append', 'clear', 'copy', 'count', 'extend', 'index', 'insert', 'pop', 'remove', 'reverse', 'sort']\n"
          ],
          "name": "stdout"
        }
      ]
    },
    {
      "cell_type": "markdown",
      "metadata": {
        "id": "SahZvZ1KCOBs"
      },
      "source": [
        "상속 & 오버라이딩"
      ]
    },
    {
      "cell_type": "code",
      "metadata": {
        "id": "Zvtnrfvt887z"
      },
      "source": [
        "class calculator():\n",
        "  version = 1.0\n",
        "\n",
        "  def __init__(self, initial = 0):\n",
        "    self.result = initial\n",
        "\n",
        "  def add(self, value):\n",
        "    self.result = self.result + value\n",
        "    return self.result\n",
        "\n",
        "  def sub(self, value):\n",
        "    self.result = self.result - value\n",
        "    return self.result\n",
        "\n",
        "  def mul(self, value):\n",
        "    self.result = self.result * value\n",
        "    return self.result\n",
        "\n",
        "  def div(self, value):\n",
        "    self.result = self.result / value\n",
        "    return self.result\n",
        "\n",
        "  def update(self, value):\n",
        "    calculator.version += value\n",
        "    return calculator.version"
      ],
      "execution_count": null,
      "outputs": []
    },
    {
      "cell_type": "code",
      "metadata": {
        "id": "DeQKPbH_CSk_"
      },
      "source": [
        "class calculator2(calculator):\n",
        "  def pow(self, value):\n",
        "    self.result = self.result**value\n",
        "    return self.result\n",
        "\n",
        "  def div(self, value):\n",
        "    if value == 0.0:\n",
        "      print(\"error!\")\n",
        "    else:\n",
        "      self.result = self.result / value\n",
        "    return self.result"
      ],
      "execution_count": null,
      "outputs": []
    },
    {
      "cell_type": "code",
      "metadata": {
        "id": "p6PTo3EnC5l0"
      },
      "source": [
        "cal_1 = calculator2()"
      ],
      "execution_count": null,
      "outputs": []
    },
    {
      "cell_type": "code",
      "metadata": {
        "colab": {
          "base_uri": "https://localhost:8080/"
        },
        "id": "5oO-0xnbDQUp",
        "outputId": "2944c103-01f8-4ea3-ecdf-626be3619bb8"
      },
      "source": [
        "print(cal_1.result)"
      ],
      "execution_count": null,
      "outputs": [
        {
          "output_type": "stream",
          "text": [
            "0\n"
          ],
          "name": "stdout"
        }
      ]
    },
    {
      "cell_type": "code",
      "metadata": {
        "colab": {
          "base_uri": "https://localhost:8080/"
        },
        "id": "5JUMSbfiC-gd",
        "outputId": "aab5da6b-986f-49a1-cd1c-6979ed82265f"
      },
      "source": [
        "print(cal_1.add(4))\n",
        "print(cal_1.pow(3))\n",
        "print(cal_1.div(0))"
      ],
      "execution_count": null,
      "outputs": [
        {
          "output_type": "stream",
          "text": [
            "4\n",
            "64\n",
            "error!\n",
            "64\n"
          ],
          "name": "stdout"
        }
      ]
    },
    {
      "cell_type": "markdown",
      "metadata": {
        "id": "osutIdLWUrar"
      },
      "source": [
        "## 상속과 오버라이딩, super()"
      ]
    },
    {
      "cell_type": "code",
      "metadata": {
        "id": "qaNdBp_XUq6S"
      },
      "source": [
        "class parents():\n",
        "  def handsome(self):\n",
        "    print(\"잘 생겼다!\")"
      ],
      "execution_count": null,
      "outputs": []
    },
    {
      "cell_type": "code",
      "metadata": {
        "id": "ccIpGgjLEDHI",
        "colab": {
          "base_uri": "https://localhost:8080/"
        },
        "outputId": "9611e3af-2731-48e9-c8f1-05536a9d8f02"
      },
      "source": [
        "father = parents()\n",
        "father.handsome()"
      ],
      "execution_count": null,
      "outputs": [
        {
          "output_type": "stream",
          "text": [
            "잘 생겼다!\n"
          ],
          "name": "stdout"
        }
      ]
    },
    {
      "cell_type": "code",
      "metadata": {
        "id": "Yzmz7B2hcbtf"
      },
      "source": [
        "class child_m(parents):\n",
        "  def handsome(self):\n",
        "    super().handsome()\n",
        "    print(\"부모님 닮아서\")"
      ],
      "execution_count": null,
      "outputs": []
    },
    {
      "cell_type": "code",
      "metadata": {
        "id": "5nQjVPZwctce"
      },
      "source": [
        "class child_f(parents):\n",
        "  def handsome(self):\n",
        "    pass\n",
        "  def pretty(self):\n",
        "    print(\"예쁘다!\")"
      ],
      "execution_count": null,
      "outputs": []
    },
    {
      "cell_type": "code",
      "metadata": {
        "colab": {
          "base_uri": "https://localhost:8080/"
        },
        "id": "c_BGJRhociNx",
        "outputId": "3aa1f201-081b-4082-818b-137624f010c5"
      },
      "source": [
        "boy = child_m()\n",
        "boy.handsome()"
      ],
      "execution_count": null,
      "outputs": [
        {
          "output_type": "stream",
          "text": [
            "잘 생겼다!\n",
            "부모님 닮아서\n"
          ],
          "name": "stdout"
        }
      ]
    },
    {
      "cell_type": "code",
      "metadata": {
        "colab": {
          "base_uri": "https://localhost:8080/"
        },
        "id": "c-p6FLhEdC5Q",
        "outputId": "031ae3bf-ba31-4217-a9c5-1035d4036904"
      },
      "source": [
        "girl = child_f()\n",
        "girl.handsome()\n",
        "girl.pretty()"
      ],
      "execution_count": null,
      "outputs": [
        {
          "output_type": "stream",
          "text": [
            "예쁘다!\n"
          ],
          "name": "stdout"
        }
      ]
    },
    {
      "cell_type": "code",
      "metadata": {
        "id": "5-eKrmZ4dCae"
      },
      "source": [
        "class child():\n",
        "  def __init__(self, who): # 매직 메소드, 특별(special) 메소드 중 하나. 특히 __init__ = 생성자라고 불린다!\n",
        "    self.who = who\n",
        "\n",
        "  def handsome(self):\n",
        "    print(f\"{self.who}를 닮아, 잘 생겼다!\")\n",
        "\n",
        "  def pretty(self):\n",
        "    print(f\"{who}를 닮아, 예쁘다!\")"
      ],
      "execution_count": null,
      "outputs": []
    },
    {
      "cell_type": "code",
      "metadata": {
        "id": "zY5BDeHmfjjJ"
      },
      "source": [
        "class boy(child):\n",
        "  def __init__(self, who, where):\n",
        "    super().__init__(who)\n",
        "    self.where = where\n",
        "\n",
        "  def handsome(self):\n",
        "    super().handsome()\n",
        "    print(f\"특히 {self.where}(이)가 닮았어.\")"
      ],
      "execution_count": null,
      "outputs": []
    },
    {
      "cell_type": "code",
      "metadata": {
        "id": "zn49-O3jej8t"
      },
      "source": [
        "son_1 = child(\"아버지\")"
      ],
      "execution_count": null,
      "outputs": []
    },
    {
      "cell_type": "code",
      "metadata": {
        "colab": {
          "base_uri": "https://localhost:8080/"
        },
        "id": "1zE9ASnhevV4",
        "outputId": "726afb30-efcd-4db9-ec9d-a4e3bbd6d19a"
      },
      "source": [
        "son_1.handsome()"
      ],
      "execution_count": null,
      "outputs": [
        {
          "output_type": "stream",
          "text": [
            "아버지를 닮아, 잘 생겼다!\n"
          ],
          "name": "stdout"
        }
      ]
    },
    {
      "cell_type": "code",
      "metadata": {
        "id": "5nYyMgfBfWss"
      },
      "source": [
        "son_2 = boy(\"아버지\", \"팔뚝\")"
      ],
      "execution_count": null,
      "outputs": []
    },
    {
      "cell_type": "code",
      "metadata": {
        "colab": {
          "base_uri": "https://localhost:8080/"
        },
        "id": "Czv0UeD2f8Ri",
        "outputId": "c0c75128-5ccb-4361-e2dc-3bd741a5ea27"
      },
      "source": [
        "son_2.handsome()"
      ],
      "execution_count": null,
      "outputs": [
        {
          "output_type": "stream",
          "text": [
            "아버지를 닮아, 잘 생겼다!\n",
            "특히 팔뚝(이)가 닮았어.\n"
          ],
          "name": "stdout"
        }
      ]
    },
    {
      "cell_type": "markdown",
      "metadata": {
        "id": "Xo4hFmeejGXD"
      },
      "source": [
        "## 클래스 예제"
      ]
    },
    {
      "cell_type": "code",
      "metadata": {
        "id": "0Ri_IJRNjGFt"
      },
      "source": [
        "# 0\n",
        "class calculator():\n",
        "  def __init__(self, initial = 0):\n",
        "    self.result = initial\n",
        "\n",
        "  def add(self, value):\n",
        "    self.result = self.result + value\n",
        "    return self.result\n",
        "\n",
        "  def sub(self, value):\n",
        "    self.result = self.result - value\n",
        "    return self.result\n",
        "\n",
        "  def mul(self, value):\n",
        "    self.result = self.result * value\n",
        "    return self.result\n",
        "\n",
        "  def div(self, value):\n",
        "    self.result = self.result / value\n",
        "    return self.result"
      ],
      "execution_count": null,
      "outputs": []
    },
    {
      "cell_type": "code",
      "metadata": {
        "id": "yfp9lN15gr4V"
      },
      "source": [
        "# 1\n",
        "class calculator_v2(calculator):\n",
        "  def __init__(self):\n",
        "  def pow(self, value):\n",
        "    self.result = self.result ** value\n",
        "    return self.result\n",
        "\n",
        "  def root(self, value=2):\n",
        "    if value == 0.0:\n",
        "      print(\"error!\")\n",
        "    else:\n",
        "      self.result = self.result ** (1/value)\n",
        "    return self.result\n",
        "\n",
        "  def div(self, value):\n",
        "    if value == 0.0:\n",
        "      print(\"error!\")\n",
        "    else:\n",
        "      self.result = self.result / value\n",
        "    return self.result"
      ],
      "execution_count": null,
      "outputs": []
    },
    {
      "cell_type": "code",
      "metadata": {
        "id": "iicb89hkoj9M"
      },
      "source": [
        "# 2\n",
        "class calculator_v3(calculator_v2):\n",
        "  def clear(self):\n",
        "    self.result = self.result * 0.0"
      ],
      "execution_count": null,
      "outputs": []
    },
    {
      "cell_type": "code",
      "metadata": {
        "id": "ycuEWvM2ovnC"
      },
      "source": [
        "calc1 = calculator_v3()"
      ],
      "execution_count": null,
      "outputs": []
    },
    {
      "cell_type": "code",
      "metadata": {
        "colab": {
          "base_uri": "https://localhost:8080/"
        },
        "id": "8QuMZnvMpMLO",
        "outputId": "daab3113-f571-4bc5-ba40-58b820388917"
      },
      "source": [
        "calc1.add(3)"
      ],
      "execution_count": null,
      "outputs": [
        {
          "output_type": "execute_result",
          "data": {
            "text/plain": [
              "3"
            ]
          },
          "metadata": {
            "tags": []
          },
          "execution_count": 77
        }
      ]
    },
    {
      "cell_type": "code",
      "metadata": {
        "colab": {
          "base_uri": "https://localhost:8080/"
        },
        "id": "G0JIY3w0pQGY",
        "outputId": "00983a44-df05-4645-99b3-5ec871dfa11f"
      },
      "source": [
        "print(calc1.result)"
      ],
      "execution_count": null,
      "outputs": [
        {
          "output_type": "stream",
          "text": [
            "0.0\n"
          ],
          "name": "stdout"
        }
      ]
    },
    {
      "cell_type": "code",
      "metadata": {
        "id": "919BOsDEpVjP"
      },
      "source": [
        "calc1.clear()"
      ],
      "execution_count": null,
      "outputs": []
    },
    {
      "cell_type": "code",
      "metadata": {
        "id": "nF7BwGK5pmfp"
      },
      "source": [
        "# 3\n",
        "class company():\n",
        "  num_employee = 0\n",
        "  # 생년, 입사 년도, 기초 점수, 평가 점수\n",
        "  def __init__(self, birth=1900, join=2021, basic_score=0, eval_score=0):\n",
        "    self.birth = birth\n",
        "    self.join = join\n",
        "    self.basic_score = basic_score\n",
        "    self.eval_score = eval_score\n",
        "\n",
        "    # 4\n",
        "    self.age = None\n",
        "    self.cyear = None\n",
        "    self.calc_info()\n",
        "\n",
        "    company.num_employee += 1 # 5\n",
        "\n",
        "  def calc_info(self):\n",
        "    today = 2021\n",
        "    self.age = today - self.birth + 1\n",
        "    self.cyear = today - self.join + 1\n",
        "\n",
        "    self.total_score = self.basic_score + self.eval_score\n",
        "\n",
        "  # 6\n",
        "  def print_num_employee():\n",
        "    print(f\"총 사원의 수는 {company.num_employee}명 입니다.\")\n",
        "\n",
        "  def modify_score(self, basic_score=None, eval_score=None):\n",
        "    if basic_score:\n",
        "      self.basic_score = basic_score\n",
        "    if eval_score:\n",
        "      self.eval_score = eval_score\n",
        "\n",
        "    self.total_score = self.basic_score + self.eval_score\n",
        "\n",
        "  def print_employee_info(self):\n",
        "    print(f\"나이:\\t{self.age} 살 ({self.birth}년 출생)\")\n",
        "    print(f\"경력:\\t{self.cyear} 년차 ({self.join}년 입사)\")\n",
        "    print(f\"총점수:\\t{self.total_score} 점 (기초: {self.basic_score} 점 / 평가: {self.eval_score} 점)\")"
      ],
      "execution_count": null,
      "outputs": []
    },
    {
      "cell_type": "code",
      "metadata": {
        "id": "K8ypw3_Aw4BN"
      },
      "source": [
        "jack = company(1992, 2018, 8.5, 7)"
      ],
      "execution_count": null,
      "outputs": []
    },
    {
      "cell_type": "code",
      "metadata": {
        "id": "Nc363uSKvBR_"
      },
      "source": [
        "mary = company(1995, 2017, 8 , 9)"
      ],
      "execution_count": null,
      "outputs": []
    },
    {
      "cell_type": "code",
      "metadata": {
        "id": "BJ82POa8w_fq"
      },
      "source": [
        "paseco = company(1986, 2003, 3, 10)"
      ],
      "execution_count": null,
      "outputs": []
    },
    {
      "cell_type": "code",
      "metadata": {
        "id": "n04z6QzFxOqy"
      },
      "source": [
        "blokus = company(1997, 2021, 8)"
      ],
      "execution_count": null,
      "outputs": []
    },
    {
      "cell_type": "code",
      "metadata": {
        "colab": {
          "base_uri": "https://localhost:8080/"
        },
        "id": "NKisYrLzw5Vp",
        "outputId": "318a35e4-4f10-481f-f3aa-5d25c87e4485"
      },
      "source": [
        "company.print_num_employee()"
      ],
      "execution_count": null,
      "outputs": [
        {
          "output_type": "stream",
          "text": [
            "총 사원의 수는 4명 입니다.\n"
          ],
          "name": "stdout"
        }
      ]
    },
    {
      "cell_type": "code",
      "metadata": {
        "colab": {
          "base_uri": "https://localhost:8080/"
        },
        "id": "OBBriPNcvLj3",
        "outputId": "f74f951a-f9e6-412e-af9f-f5b261e09227"
      },
      "source": [
        "print(jack.birth)\n",
        "print(mary.basic_score)"
      ],
      "execution_count": null,
      "outputs": [
        {
          "output_type": "stream",
          "text": [
            "1992\n",
            "8\n"
          ],
          "name": "stdout"
        }
      ]
    },
    {
      "cell_type": "code",
      "metadata": {
        "colab": {
          "base_uri": "https://localhost:8080/"
        },
        "id": "3XqEqQRjvrfE",
        "outputId": "800f775f-e5f5-4f22-acb2-ed47ab434c16"
      },
      "source": [
        "print(jack.age)\n",
        "print(mary.cyear)"
      ],
      "execution_count": null,
      "outputs": [
        {
          "output_type": "stream",
          "text": [
            "30\n",
            "5\n"
          ],
          "name": "stdout"
        }
      ]
    },
    {
      "cell_type": "code",
      "metadata": {
        "id": "TC026jE5vNpn"
      },
      "source": [
        "mary = company(1995, 2017, 8 , 9)"
      ],
      "execution_count": null,
      "outputs": []
    },
    {
      "cell_type": "code",
      "metadata": {
        "colab": {
          "base_uri": "https://localhost:8080/"
        },
        "id": "cDsAqbWW20OW",
        "outputId": "01ecacd0-0743-437f-fb3a-985a6035642a"
      },
      "source": [
        "mary.print_employee_info()"
      ],
      "execution_count": null,
      "outputs": [
        {
          "output_type": "stream",
          "text": [
            "나이:\t27 살 (1995년 출생)\n",
            "경력:\t5 년차 (2017년 입사)\n",
            "총점수:\t17 점 (기초: 8 점 / 평가: 9 점)\n"
          ],
          "name": "stdout"
        }
      ]
    },
    {
      "cell_type": "code",
      "metadata": {
        "id": "CX_3gre32-Pj"
      },
      "source": [
        "mary.modify_score(eval_score=7)"
      ],
      "execution_count": null,
      "outputs": []
    },
    {
      "cell_type": "code",
      "metadata": {
        "colab": {
          "base_uri": "https://localhost:8080/"
        },
        "id": "58o3VE5k3DoP",
        "outputId": "accc8665-baea-403d-8ae2-3c396c6335e4"
      },
      "source": [
        "mary.print_employee_info()"
      ],
      "execution_count": null,
      "outputs": [
        {
          "output_type": "stream",
          "text": [
            "나이:\t27 살 (1995년 출생)\n",
            "경력:\t5 년차 (2017년 입사)\n",
            "총점수:\t15 점 (기초: 8 점 / 평가: 7 점)\n"
          ],
          "name": "stdout"
        }
      ]
    }
  ]
}