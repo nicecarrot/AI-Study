{
  "nbformat": 4,
  "nbformat_minor": 0,
  "metadata": {
    "colab": {
      "name": "acc_score",
      "provenance": [],
      "include_colab_link": true
    },
    "kernelspec": {
      "name": "python3",
      "display_name": "Python 3"
    },
    "language_info": {
      "name": "python"
    }
  },
  "cells": [
    {
      "cell_type": "markdown",
      "metadata": {
        "id": "view-in-github",
        "colab_type": "text"
      },
      "source": [
        "<a href=\"https://colab.research.google.com/github/nicecarrot/AI-Study/blob/main/acc_score.ipynb\" target=\"_parent\"><img src=\"https://colab.research.google.com/assets/colab-badge.svg\" alt=\"Open In Colab\"/></a>"
      ]
    },
    {
      "cell_type": "code",
      "metadata": {
        "colab": {
          "base_uri": "https://localhost:8080/"
        },
        "id": "IlICa2f-dbuQ",
        "outputId": "2645e824-94f6-4d68-d353-a1c6d74bf7b5"
      },
      "source": [
        "#패키지(라이브러리) 불러오는 문장 \n",
        "#numpy 불러오는데 np 라고 별명 \n",
        "\n",
        "# 패키지 설치 : pip install 패키지명  \n",
        "# 패키지를 불러오는 것 : 설치 (패키지가 이미 설치 되어있다는 가정하... )\n",
        "\n",
        "import numpy as np\n",
        "import sklearn.metrics as metrics\n",
        "\n",
        "\n",
        "#0 : 암이 아니다 라고 예측 \n",
        "#1 : 암이다 라고 예측 경우 \n",
        "\n",
        "# Y : 실제로 답 \n",
        "# P : 예측하는 값 (모델)\n",
        "\n",
        "y = np.array([1,1,1,1,0,0]) #0은 암이 아님, 1은 암\n",
        "p = np.array([1,0,1,1,0,0]) #나의 예측\n",
        "\n",
        "#직접 구하는 방법 : ) \n",
        "#정확도\n",
        "accuracy = np.mean(np.equal(y,p))\n",
        "right = np.sum(y * p == 1)\n",
        "#정밀도\n",
        "precision = right / np.sum(p)\n",
        "#재현율\n",
        "recall = right / np.sum(y)\n",
        "#f1-score \n",
        "f1 = 2 * precision*recall/(precision+recall)\n",
        "\n",
        "print('accuracy',accuracy)\n",
        "print('precision', precision)\n",
        "print('recall', recall)\n",
        "print('f1', f1)\n",
        "\n",
        "print('_패키지를 통해서 구하는 부분 _______________')\n",
        "\n",
        "\n",
        "# sklearn 을 이용하면 전부 계산해준다.\n",
        "# print : 프린트 해주는 문 (출력해주려고)\n",
        "# 문자 '' , \n",
        "\n",
        "#사이킷런 패키지를 이용해서 구하는 방법\n",
        "\n",
        "print('accuracy', metrics.accuracy_score(y,p) )\n",
        "print('precision', metrics.precision_score(y,p) )\n",
        "print('recall', metrics.recall_score(y,p) )\n",
        "print('f1', metrics.f1_score(y,p) )\n",
        "\n",
        "print('_패키지를 통해서 구하는 부분 ___________________')\n",
        "\n",
        "print(metrics.classification_report(y,p))\n",
        "print(metrics.confusion_matrix(y,p))"
      ],
      "execution_count": null,
      "outputs": [
        {
          "output_type": "stream",
          "text": [
            "accuracy 0.8333333333333334\n",
            "precision 1.0\n",
            "recall 0.75\n",
            "f1 0.8571428571428571\n",
            "_패키지를 통해서 구하는 부분 _______________\n",
            "accuracy 0.8333333333333334\n",
            "precision 1.0\n",
            "recall 0.75\n",
            "f1 0.8571428571428571\n",
            "_패키지를 통해서 구하는 부분 ___________________\n",
            "              precision    recall  f1-score   support\n",
            "\n",
            "           0       0.67      1.00      0.80         2\n",
            "           1       1.00      0.75      0.86         4\n",
            "\n",
            "    accuracy                           0.83         6\n",
            "   macro avg       0.83      0.88      0.83         6\n",
            "weighted avg       0.89      0.83      0.84         6\n",
            "\n",
            "[[2 0]\n",
            " [1 3]]\n"
          ],
          "name": "stdout"
        }
      ]
    },
    {
      "cell_type": "code",
      "metadata": {
        "id": "O1OycRw4dnJF",
        "colab": {
          "base_uri": "https://localhost:8080/"
        },
        "outputId": "93c926a2-a54c-408c-c688-edd02a01ee1f"
      },
      "source": [
        "print('정확도:', metrics.accuracy_score(y,p) )"
      ],
      "execution_count": null,
      "outputs": [
        {
          "output_type": "stream",
          "text": [
            "정확도: 0.8333333333333334\n"
          ],
          "name": "stdout"
        }
      ]
    },
    {
      "cell_type": "code",
      "metadata": {
        "colab": {
          "base_uri": "https://localhost:8080/"
        },
        "id": "GYD37qRvVUJ-",
        "outputId": "65ede0df-8816-4b26-e07f-f1a9f4ef018a"
      },
      "source": [
        "\n",
        "y = np.array([1,1,1,1,0,0]) #0은 암이 아님, 1은 암\n",
        "p = np.array([1,1,1,1,1,0]) #나의 예측\n",
        "\n",
        "\n",
        "print('accuracy', metrics.accuracy_score(y,p) )\n",
        "print('precision', metrics.precision_score(y,p) )\n",
        "print('recall', metrics.recall_score(y,p) )\n",
        "print('f1', metrics.f1_score(y,p) )\n"
      ],
      "execution_count": null,
      "outputs": [
        {
          "output_type": "stream",
          "text": [
            "accuracy 0.8333333333333334\n",
            "precision 0.8\n",
            "recall 1.0\n",
            "f1 0.888888888888889\n"
          ],
          "name": "stdout"
        }
      ]
    },
    {
      "cell_type": "code",
      "metadata": {
        "colab": {
          "base_uri": "https://localhost:8080/"
        },
        "id": "5_AJRJv3Vg4V",
        "outputId": "27726fa8-fcba-4f38-b549-0a92cce8798f"
      },
      "source": [
        "\n",
        "y = np.array([1,1,1,1,0,0]) #0은 암이 아님, 1은 암\n",
        "p = np.array([0,0,1,1,0,0]) #나의 예측\n",
        "\n",
        "\n",
        "print('accuracy', metrics.accuracy_score(y,p) )\n",
        "print('precision', metrics.precision_score(y,p) )\n",
        "print('recall', metrics.recall_score(y,p) )\n",
        "print('f1', metrics.f1_score(y,p) )\n"
      ],
      "execution_count": null,
      "outputs": [
        {
          "output_type": "stream",
          "text": [
            "accuracy 0.6666666666666666\n",
            "precision 1.0\n",
            "recall 0.5\n",
            "f1 0.6666666666666666\n"
          ],
          "name": "stdout"
        }
      ]
    },
    {
      "cell_type": "code",
      "metadata": {
        "id": "AC2K5qC_Vpy2"
      },
      "source": [
        ""
      ],
      "execution_count": null,
      "outputs": []
    },
    {
      "cell_type": "code",
      "metadata": {
        "id": "am0adDgtqJqk"
      },
      "source": [
        ""
      ],
      "execution_count": null,
      "outputs": []
    }
  ]
}