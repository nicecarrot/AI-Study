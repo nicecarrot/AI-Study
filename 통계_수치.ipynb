{
  "nbformat": 4,
  "nbformat_minor": 0,
  "metadata": {
    "colab": {
      "name": "통계 수치",
      "provenance": [],
      "collapsed_sections": [],
      "include_colab_link": true
    },
    "kernelspec": {
      "name": "python3",
      "display_name": "Python 3"
    },
    "language_info": {
      "name": "python"
    }
  },
  "cells": [
    {
      "cell_type": "markdown",
      "metadata": {
        "id": "view-in-github",
        "colab_type": "text"
      },
      "source": [
        "<a href=\"https://colab.research.google.com/github/nicecarrot/AI-Study/blob/main/%ED%86%B5%EA%B3%84_%EC%88%98%EC%B9%98.ipynb\" target=\"_parent\"><img src=\"https://colab.research.google.com/assets/colab-badge.svg\" alt=\"Open In Colab\"/></a>"
      ]
    },
    {
      "cell_type": "code",
      "metadata": {
        "id": "3BvUlMfTtqu5"
      },
      "source": [
        "#패키지 Import / 없는 패키지는 설치 -> import \n",
        "#패키지를 불러왔습니다. \n",
        "import pandas as pd\n",
        "import numpy as np \n",
        "import statistics"
      ],
      "execution_count": null,
      "outputs": []
    },
    {
      "cell_type": "code",
      "metadata": {
        "id": "1RynrS-Wts7n"
      },
      "source": [
        "data = [1,1,2,3,6,7,7,7,7,7,7]\n",
        "#7 : 4 / 1: 2 "
      ],
      "execution_count": null,
      "outputs": []
    },
    {
      "cell_type": "code",
      "metadata": {
        "colab": {
          "base_uri": "https://localhost:8080/"
        },
        "id": "hC1MiDiKtwKb",
        "outputId": "e37c7dc0-4392-4855-f976-6598943f490a"
      },
      "source": [
        "#데이터의 평균 \n",
        "# print 출력  \n",
        "print(np.mean(data))"
      ],
      "execution_count": null,
      "outputs": [
        {
          "output_type": "stream",
          "text": [
            "5.0\n"
          ],
          "name": "stdout"
        }
      ]
    },
    {
      "cell_type": "code",
      "metadata": {
        "colab": {
          "base_uri": "https://localhost:8080/"
        },
        "id": "TaJuiezxtxjP",
        "outputId": "ac97c3a6-4c4b-4493-d104-491540319908"
      },
      "source": [
        "#데이터의 중앙값 \n",
        "print(np.median(data))"
      ],
      "execution_count": null,
      "outputs": [
        {
          "output_type": "stream",
          "text": [
            "7.0\n"
          ],
          "name": "stdout"
        }
      ]
    },
    {
      "cell_type": "code",
      "metadata": {
        "colab": {
          "base_uri": "https://localhost:8080/"
        },
        "id": "AAwZCOxIuBd6",
        "outputId": "066e49a5-f0fb-4df4-baef-0cae362e5db4"
      },
      "source": [
        "from scipy.stats import mode\n",
        "#데이터의 최빈값 \n",
        "mode(data)\n",
        "#data = [1,1,2,3,5] 1:2번 "
      ],
      "execution_count": null,
      "outputs": [
        {
          "output_type": "execute_result",
          "data": {
            "text/plain": [
              "ModeResult(mode=array([7]), count=array([6]))"
            ]
          },
          "metadata": {
            "tags": []
          },
          "execution_count": 32
        }
      ]
    },
    {
      "cell_type": "code",
      "metadata": {
        "id": "yOkyOUS6wK9_"
      },
      "source": [
        "#상관관계"
      ],
      "execution_count": null,
      "outputs": []
    },
    {
      "cell_type": "code",
      "metadata": {
        "id": "skaUBsAaM69q"
      },
      "source": [
        ""
      ],
      "execution_count": null,
      "outputs": []
    },
    {
      "cell_type": "code",
      "metadata": {
        "id": "jyuo6mK2uU6h"
      },
      "source": [
        "# 상관관계 구해보기 \n",
        "# read _csv : csv 가져옴 / \n",
        "학생데이터=pd.read_csv(\"학생데이터2.csv\",encoding=\"cp949\")"
      ],
      "execution_count": null,
      "outputs": []
    },
    {
      "cell_type": "code",
      "metadata": {
        "colab": {
          "base_uri": "https://localhost:8080/",
          "height": 295
        },
        "id": "kTkGXmz8NjY6",
        "outputId": "8cfd9028-49cc-44ed-dc2a-c626dfa308a8"
      },
      "source": [
        "학생데이터"
      ],
      "execution_count": null,
      "outputs": [
        {
          "output_type": "execute_result",
          "data": {
            "text/html": [
              "<div>\n",
              "<style scoped>\n",
              "    .dataframe tbody tr th:only-of-type {\n",
              "        vertical-align: middle;\n",
              "    }\n",
              "\n",
              "    .dataframe tbody tr th {\n",
              "        vertical-align: top;\n",
              "    }\n",
              "\n",
              "    .dataframe thead th {\n",
              "        text-align: right;\n",
              "    }\n",
              "</style>\n",
              "<table border=\"1\" class=\"dataframe\">\n",
              "  <thead>\n",
              "    <tr style=\"text-align: right;\">\n",
              "      <th></th>\n",
              "      <th>학생명</th>\n",
              "      <th>시험점수</th>\n",
              "      <th>출석률</th>\n",
              "      <th>키</th>\n",
              "      <th>몸무게</th>\n",
              "      <th>나이</th>\n",
              "      <th>도서관이용시간</th>\n",
              "    </tr>\n",
              "  </thead>\n",
              "  <tbody>\n",
              "    <tr>\n",
              "      <th>0</th>\n",
              "      <td>김지선</td>\n",
              "      <td>88</td>\n",
              "      <td>100</td>\n",
              "      <td>150</td>\n",
              "      <td>50</td>\n",
              "      <td>23</td>\n",
              "      <td>132</td>\n",
              "    </tr>\n",
              "    <tr>\n",
              "      <th>1</th>\n",
              "      <td>김순쟈</td>\n",
              "      <td>76</td>\n",
              "      <td>89</td>\n",
              "      <td>158</td>\n",
              "      <td>68</td>\n",
              "      <td>25</td>\n",
              "      <td>89</td>\n",
              "    </tr>\n",
              "    <tr>\n",
              "      <th>2</th>\n",
              "      <td>소이현</td>\n",
              "      <td>56</td>\n",
              "      <td>70</td>\n",
              "      <td>170</td>\n",
              "      <td>80</td>\n",
              "      <td>34</td>\n",
              "      <td>30</td>\n",
              "    </tr>\n",
              "    <tr>\n",
              "      <th>3</th>\n",
              "      <td>강바다</td>\n",
              "      <td>34</td>\n",
              "      <td>50</td>\n",
              "      <td>180</td>\n",
              "      <td>85</td>\n",
              "      <td>23</td>\n",
              "      <td>20</td>\n",
              "    </tr>\n",
              "    <tr>\n",
              "      <th>4</th>\n",
              "      <td>이채민</td>\n",
              "      <td>23</td>\n",
              "      <td>55</td>\n",
              "      <td>160</td>\n",
              "      <td>65</td>\n",
              "      <td>44</td>\n",
              "      <td>40</td>\n",
              "    </tr>\n",
              "    <tr>\n",
              "      <th>5</th>\n",
              "      <td>이소영</td>\n",
              "      <td>67</td>\n",
              "      <td>40</td>\n",
              "      <td>165</td>\n",
              "      <td>66</td>\n",
              "      <td>33</td>\n",
              "      <td>30</td>\n",
              "    </tr>\n",
              "    <tr>\n",
              "      <th>6</th>\n",
              "      <td>진수진</td>\n",
              "      <td>48</td>\n",
              "      <td>20</td>\n",
              "      <td>177</td>\n",
              "      <td>70</td>\n",
              "      <td>29</td>\n",
              "      <td>40</td>\n",
              "    </tr>\n",
              "    <tr>\n",
              "      <th>7</th>\n",
              "      <td>강비단</td>\n",
              "      <td>99</td>\n",
              "      <td>90</td>\n",
              "      <td>165</td>\n",
              "      <td>50</td>\n",
              "      <td>20</td>\n",
              "      <td>80</td>\n",
              "    </tr>\n",
              "  </tbody>\n",
              "</table>\n",
              "</div>"
            ],
            "text/plain": [
              "   학생명  시험점수  출석률    키  몸무게  나이  도서관이용시간\n",
              "0  김지선    88  100  150   50  23      132\n",
              "1  김순쟈    76   89  158   68  25       89\n",
              "2  소이현    56   70  170   80  34       30\n",
              "3  강바다    34   50  180   85  23       20\n",
              "4  이채민    23   55  160   65  44       40\n",
              "5  이소영    67   40  165   66  33       30\n",
              "6  진수진    48   20  177   70  29       40\n",
              "7  강비단    99   90  165   50  20       80"
            ]
          },
          "metadata": {
            "tags": []
          },
          "execution_count": 37
        }
      ]
    },
    {
      "cell_type": "code",
      "metadata": {
        "colab": {
          "base_uri": "https://localhost:8080/",
          "height": 110
        },
        "id": "6x4OwWq4jysh",
        "outputId": "a5be8b50-ebe7-4bc1-821b-f5fac17a278e"
      },
      "source": [
        "학생데이터.tail(2)"
      ],
      "execution_count": null,
      "outputs": [
        {
          "output_type": "execute_result",
          "data": {
            "text/html": [
              "<div>\n",
              "<style scoped>\n",
              "    .dataframe tbody tr th:only-of-type {\n",
              "        vertical-align: middle;\n",
              "    }\n",
              "\n",
              "    .dataframe tbody tr th {\n",
              "        vertical-align: top;\n",
              "    }\n",
              "\n",
              "    .dataframe thead th {\n",
              "        text-align: right;\n",
              "    }\n",
              "</style>\n",
              "<table border=\"1\" class=\"dataframe\">\n",
              "  <thead>\n",
              "    <tr style=\"text-align: right;\">\n",
              "      <th></th>\n",
              "      <th>학생명</th>\n",
              "      <th>시험점수</th>\n",
              "      <th>출석률</th>\n",
              "      <th>키</th>\n",
              "      <th>몸무게</th>\n",
              "      <th>나이</th>\n",
              "      <th>도서관이용시간</th>\n",
              "    </tr>\n",
              "  </thead>\n",
              "  <tbody>\n",
              "    <tr>\n",
              "      <th>6</th>\n",
              "      <td>진수진</td>\n",
              "      <td>48</td>\n",
              "      <td>20</td>\n",
              "      <td>177</td>\n",
              "      <td>70</td>\n",
              "      <td>29</td>\n",
              "      <td>40</td>\n",
              "    </tr>\n",
              "    <tr>\n",
              "      <th>7</th>\n",
              "      <td>강비단</td>\n",
              "      <td>99</td>\n",
              "      <td>90</td>\n",
              "      <td>165</td>\n",
              "      <td>50</td>\n",
              "      <td>20</td>\n",
              "      <td>80</td>\n",
              "    </tr>\n",
              "  </tbody>\n",
              "</table>\n",
              "</div>"
            ],
            "text/plain": [
              "   학생명  시험점수  출석률    키  몸무게  나이  도서관이용시간\n",
              "6  진수진    48   20  177   70  29       40\n",
              "7  강비단    99   90  165   50  20       80"
            ]
          },
          "metadata": {
            "tags": []
          },
          "execution_count": 23
        }
      ]
    },
    {
      "cell_type": "code",
      "metadata": {
        "colab": {
          "base_uri": "https://localhost:8080/",
          "height": 138
        },
        "id": "JkAo8oPfHaRg",
        "outputId": "cf8cdc6f-63b2-4365-ada7-b00a51c0f7c1"
      },
      "source": [
        "#Q : 학생들의 시험점수를 예측하고싶음 \n",
        "# 주어진 데이터 : 시험점수, 출석률, 키 , 몸무게, 나이, 도서관이용시간 \n",
        "\n",
        "# 예측값 , 알고 있는 값 \n",
        "\n",
        "학생데이터[[\"학생명\",\"시험점수\"]].head(3)"
      ],
      "execution_count": null,
      "outputs": [
        {
          "output_type": "execute_result",
          "data": {
            "text/html": [
              "<div>\n",
              "<style scoped>\n",
              "    .dataframe tbody tr th:only-of-type {\n",
              "        vertical-align: middle;\n",
              "    }\n",
              "\n",
              "    .dataframe tbody tr th {\n",
              "        vertical-align: top;\n",
              "    }\n",
              "\n",
              "    .dataframe thead th {\n",
              "        text-align: right;\n",
              "    }\n",
              "</style>\n",
              "<table border=\"1\" class=\"dataframe\">\n",
              "  <thead>\n",
              "    <tr style=\"text-align: right;\">\n",
              "      <th></th>\n",
              "      <th>학생명</th>\n",
              "      <th>시험점수</th>\n",
              "    </tr>\n",
              "  </thead>\n",
              "  <tbody>\n",
              "    <tr>\n",
              "      <th>0</th>\n",
              "      <td>김지선</td>\n",
              "      <td>88</td>\n",
              "    </tr>\n",
              "    <tr>\n",
              "      <th>1</th>\n",
              "      <td>김순쟈</td>\n",
              "      <td>76</td>\n",
              "    </tr>\n",
              "    <tr>\n",
              "      <th>2</th>\n",
              "      <td>소이현</td>\n",
              "      <td>56</td>\n",
              "    </tr>\n",
              "  </tbody>\n",
              "</table>\n",
              "</div>"
            ],
            "text/plain": [
              "   학생명  시험점수\n",
              "0  김지선    88\n",
              "1  김순쟈    76\n",
              "2  소이현    56"
            ]
          },
          "metadata": {
            "tags": []
          },
          "execution_count": 9
        }
      ]
    },
    {
      "cell_type": "code",
      "metadata": {
        "colab": {
          "base_uri": "https://localhost:8080/"
        },
        "id": "1Fy31eiNwO94",
        "outputId": "b1f18dab-5b0d-4785-cc72-3db7f8fb200a"
      },
      "source": [
        "#학생 데이터 모든 데이터가 다 불러와짐 \n",
        "학생데이터.시험점수.mean()"
      ],
      "execution_count": null,
      "outputs": [
        {
          "output_type": "execute_result",
          "data": {
            "text/plain": [
              "61.375"
            ]
          },
          "metadata": {
            "tags": []
          },
          "execution_count": 42
        }
      ]
    },
    {
      "cell_type": "code",
      "metadata": {
        "colab": {
          "base_uri": "https://localhost:8080/"
        },
        "id": "YEKPoVLG1Abg",
        "outputId": "666dbc86-443b-4b2f-e539-9d0f3f16296f"
      },
      "source": [
        "학생데이터.시험점수.median()"
      ],
      "execution_count": null,
      "outputs": [
        {
          "output_type": "execute_result",
          "data": {
            "text/plain": [
              "61.5"
            ]
          },
          "metadata": {
            "tags": []
          },
          "execution_count": 43
        }
      ]
    },
    {
      "cell_type": "code",
      "metadata": {
        "colab": {
          "base_uri": "https://localhost:8080/",
          "height": 295
        },
        "id": "UK25JskI1DRL",
        "outputId": "1fff2a12-f567-48e6-eca5-eba0b7d86dd1"
      },
      "source": [
        "#전체적인 데이터 분포 파악을 하는 함수 describe() 다 \n",
        "#mean , median  - > 기술통계를 구할 수 있다. \n",
        "학생데이터.describe()"
      ],
      "execution_count": null,
      "outputs": [
        {
          "output_type": "execute_result",
          "data": {
            "text/html": [
              "<div>\n",
              "<style scoped>\n",
              "    .dataframe tbody tr th:only-of-type {\n",
              "        vertical-align: middle;\n",
              "    }\n",
              "\n",
              "    .dataframe tbody tr th {\n",
              "        vertical-align: top;\n",
              "    }\n",
              "\n",
              "    .dataframe thead th {\n",
              "        text-align: right;\n",
              "    }\n",
              "</style>\n",
              "<table border=\"1\" class=\"dataframe\">\n",
              "  <thead>\n",
              "    <tr style=\"text-align: right;\">\n",
              "      <th></th>\n",
              "      <th>시험점수</th>\n",
              "      <th>출석률</th>\n",
              "      <th>키</th>\n",
              "      <th>몸무게</th>\n",
              "      <th>나이</th>\n",
              "      <th>도서관이용시간</th>\n",
              "    </tr>\n",
              "  </thead>\n",
              "  <tbody>\n",
              "    <tr>\n",
              "      <th>count</th>\n",
              "      <td>8.000000</td>\n",
              "      <td>8.00000</td>\n",
              "      <td>8.000000</td>\n",
              "      <td>8.000000</td>\n",
              "      <td>8.000000</td>\n",
              "      <td>8.000000</td>\n",
              "    </tr>\n",
              "    <tr>\n",
              "      <th>mean</th>\n",
              "      <td>61.375000</td>\n",
              "      <td>64.25000</td>\n",
              "      <td>165.625000</td>\n",
              "      <td>66.750000</td>\n",
              "      <td>28.875000</td>\n",
              "      <td>57.625000</td>\n",
              "    </tr>\n",
              "    <tr>\n",
              "      <th>std</th>\n",
              "      <td>26.185806</td>\n",
              "      <td>27.82984</td>\n",
              "      <td>9.927415</td>\n",
              "      <td>12.452768</td>\n",
              "      <td>7.881941</td>\n",
              "      <td>38.876866</td>\n",
              "    </tr>\n",
              "    <tr>\n",
              "      <th>min</th>\n",
              "      <td>23.000000</td>\n",
              "      <td>20.00000</td>\n",
              "      <td>150.000000</td>\n",
              "      <td>50.000000</td>\n",
              "      <td>20.000000</td>\n",
              "      <td>20.000000</td>\n",
              "    </tr>\n",
              "    <tr>\n",
              "      <th>25%</th>\n",
              "      <td>44.500000</td>\n",
              "      <td>47.50000</td>\n",
              "      <td>159.500000</td>\n",
              "      <td>61.250000</td>\n",
              "      <td>23.000000</td>\n",
              "      <td>30.000000</td>\n",
              "    </tr>\n",
              "    <tr>\n",
              "      <th>50%</th>\n",
              "      <td>61.500000</td>\n",
              "      <td>62.50000</td>\n",
              "      <td>165.000000</td>\n",
              "      <td>67.000000</td>\n",
              "      <td>27.000000</td>\n",
              "      <td>40.000000</td>\n",
              "    </tr>\n",
              "    <tr>\n",
              "      <th>75%</th>\n",
              "      <td>79.000000</td>\n",
              "      <td>89.25000</td>\n",
              "      <td>171.750000</td>\n",
              "      <td>72.500000</td>\n",
              "      <td>33.250000</td>\n",
              "      <td>82.250000</td>\n",
              "    </tr>\n",
              "    <tr>\n",
              "      <th>max</th>\n",
              "      <td>99.000000</td>\n",
              "      <td>100.00000</td>\n",
              "      <td>180.000000</td>\n",
              "      <td>85.000000</td>\n",
              "      <td>44.000000</td>\n",
              "      <td>132.000000</td>\n",
              "    </tr>\n",
              "  </tbody>\n",
              "</table>\n",
              "</div>"
            ],
            "text/plain": [
              "            시험점수        출석률           키        몸무게         나이     도서관이용시간\n",
              "count   8.000000    8.00000    8.000000   8.000000   8.000000    8.000000\n",
              "mean   61.375000   64.25000  165.625000  66.750000  28.875000   57.625000\n",
              "std    26.185806   27.82984    9.927415  12.452768   7.881941   38.876866\n",
              "min    23.000000   20.00000  150.000000  50.000000  20.000000   20.000000\n",
              "25%    44.500000   47.50000  159.500000  61.250000  23.000000   30.000000\n",
              "50%    61.500000   62.50000  165.000000  67.000000  27.000000   40.000000\n",
              "75%    79.000000   89.25000  171.750000  72.500000  33.250000   82.250000\n",
              "max    99.000000  100.00000  180.000000  85.000000  44.000000  132.000000"
            ]
          },
          "metadata": {
            "tags": []
          },
          "execution_count": 44
        }
      ]
    },
    {
      "cell_type": "code",
      "metadata": {
        "colab": {
          "base_uri": "https://localhost:8080/"
        },
        "id": "OQEGYms_61cY",
        "outputId": "9da10eb1-95bc-4f02-bf87-7ba745ae89ad"
      },
      "source": [
        "#앞에 3행만 가지고 오고싶을때 \n",
        "학생데이터[학생데이터[\"시험점수\"]>70].mean()"
      ],
      "execution_count": null,
      "outputs": [
        {
          "output_type": "execute_result",
          "data": {
            "text/plain": [
              "시험점수        87.666667\n",
              "출석률         93.000000\n",
              "키          157.666667\n",
              "몸무게         56.000000\n",
              "나이          22.666667\n",
              "도서관이용시간    100.333333\n",
              "dtype: float64"
            ]
          },
          "metadata": {
            "tags": []
          },
          "execution_count": 26
        }
      ]
    },
    {
      "cell_type": "code",
      "metadata": {
        "colab": {
          "base_uri": "https://localhost:8080/",
          "height": 108
        },
        "id": "IT-3h3xSwW8a",
        "outputId": "3d43d7e0-7e85-4e30-9850-3957b99ea173"
      },
      "source": [
        "#tail -> 뒤에 몇행만 가지고 올때 \n",
        "학생데이터.tail(2)"
      ],
      "execution_count": null,
      "outputs": [
        {
          "output_type": "execute_result",
          "data": {
            "text/html": [
              "<div>\n",
              "<style scoped>\n",
              "    .dataframe tbody tr th:only-of-type {\n",
              "        vertical-align: middle;\n",
              "    }\n",
              "\n",
              "    .dataframe tbody tr th {\n",
              "        vertical-align: top;\n",
              "    }\n",
              "\n",
              "    .dataframe thead th {\n",
              "        text-align: right;\n",
              "    }\n",
              "</style>\n",
              "<table border=\"1\" class=\"dataframe\">\n",
              "  <thead>\n",
              "    <tr style=\"text-align: right;\">\n",
              "      <th></th>\n",
              "      <th>학생명</th>\n",
              "      <th>시험점수</th>\n",
              "      <th>출석률</th>\n",
              "      <th>키</th>\n",
              "      <th>몸무게</th>\n",
              "      <th>나이</th>\n",
              "      <th>도서관이용시간</th>\n",
              "    </tr>\n",
              "  </thead>\n",
              "  <tbody>\n",
              "    <tr>\n",
              "      <th>6</th>\n",
              "      <td>진수진</td>\n",
              "      <td>48</td>\n",
              "      <td>20</td>\n",
              "      <td>177</td>\n",
              "      <td>70</td>\n",
              "      <td>29</td>\n",
              "      <td>40</td>\n",
              "    </tr>\n",
              "    <tr>\n",
              "      <th>7</th>\n",
              "      <td>강비단</td>\n",
              "      <td>99</td>\n",
              "      <td>90</td>\n",
              "      <td>165</td>\n",
              "      <td>50</td>\n",
              "      <td>20</td>\n",
              "      <td>80</td>\n",
              "    </tr>\n",
              "  </tbody>\n",
              "</table>\n",
              "</div>"
            ],
            "text/plain": [
              "   학생명  시험점수  출석률    키  몸무게  나이  도서관이용시간\n",
              "6  진수진    48   20  177   70  29       40\n",
              "7  강비단    99   90  165   50  20       80"
            ]
          },
          "metadata": {
            "tags": []
          },
          "execution_count": 8
        }
      ]
    },
    {
      "cell_type": "code",
      "metadata": {
        "colab": {
          "base_uri": "https://localhost:8080/"
        },
        "id": "2IZJ-LQY7XzT",
        "outputId": "3fde0259-45b9-484e-fd4b-32367fe3de53"
      },
      "source": [
        "print(학생데이터)"
      ],
      "execution_count": null,
      "outputs": [
        {
          "output_type": "stream",
          "text": [
            "   학생명  시험점수  출석률    키  몸무게  나이  도서관이용시간\n",
            "0  김지선    88  100  150   50  23      132\n",
            "1  김순쟈    76   89  158   68  25       89\n",
            "2  소이현    56   70  170   80  34       30\n",
            "3  강바다    34   50  180   85  23       20\n",
            "4  이채민    23   55  160   65  44       40\n",
            "5  이소영    67   40  165   66  33       30\n",
            "6  진수진    48   20  177   70  29       40\n",
            "7  강비단    99   90  165   50  20       80\n"
          ],
          "name": "stdout"
        }
      ]
    },
    {
      "cell_type": "code",
      "metadata": {
        "colab": {
          "base_uri": "https://localhost:8080/",
          "height": 108
        },
        "id": "1vH6M3pX7gSR",
        "outputId": "c82f244a-6272-4f0c-e05d-93a150bbd3c1"
      },
      "source": [
        "#시험 점수가 88 또는 99인 사람을 가지고 오고 싶다 \n",
        "학생데이터[(학생데이터[\"시험점수\"]==88)|(학생데이터[\"시험점수\"]==99)]\n",
        "\n",
        "#학생명 : 한글 (문자) 영어 -> \"\"\n",
        "#키 : 숫자 150  -> \"\" x"
      ],
      "execution_count": null,
      "outputs": [
        {
          "output_type": "execute_result",
          "data": {
            "text/html": [
              "<div>\n",
              "<style scoped>\n",
              "    .dataframe tbody tr th:only-of-type {\n",
              "        vertical-align: middle;\n",
              "    }\n",
              "\n",
              "    .dataframe tbody tr th {\n",
              "        vertical-align: top;\n",
              "    }\n",
              "\n",
              "    .dataframe thead th {\n",
              "        text-align: right;\n",
              "    }\n",
              "</style>\n",
              "<table border=\"1\" class=\"dataframe\">\n",
              "  <thead>\n",
              "    <tr style=\"text-align: right;\">\n",
              "      <th></th>\n",
              "      <th>학생명</th>\n",
              "      <th>시험점수</th>\n",
              "      <th>출석률</th>\n",
              "      <th>키</th>\n",
              "      <th>몸무게</th>\n",
              "      <th>나이</th>\n",
              "      <th>도서관이용시간</th>\n",
              "    </tr>\n",
              "  </thead>\n",
              "  <tbody>\n",
              "    <tr>\n",
              "      <th>0</th>\n",
              "      <td>김지선</td>\n",
              "      <td>88</td>\n",
              "      <td>100</td>\n",
              "      <td>150</td>\n",
              "      <td>50</td>\n",
              "      <td>23</td>\n",
              "      <td>132</td>\n",
              "    </tr>\n",
              "    <tr>\n",
              "      <th>7</th>\n",
              "      <td>강비단</td>\n",
              "      <td>99</td>\n",
              "      <td>90</td>\n",
              "      <td>165</td>\n",
              "      <td>50</td>\n",
              "      <td>20</td>\n",
              "      <td>80</td>\n",
              "    </tr>\n",
              "  </tbody>\n",
              "</table>\n",
              "</div>"
            ],
            "text/plain": [
              "   학생명  시험점수  출석률    키  몸무게  나이  도서관이용시간\n",
              "0  김지선    88  100  150   50  23      132\n",
              "7  강비단    99   90  165   50  20       80"
            ]
          },
          "metadata": {
            "tags": []
          },
          "execution_count": 10
        }
      ]
    },
    {
      "cell_type": "code",
      "metadata": {
        "colab": {
          "base_uri": "https://localhost:8080/",
          "height": 80
        },
        "id": "xShGNLYnwZsH",
        "outputId": "99528441-245a-4952-f290-8d12390f3c1c"
      },
      "source": [
        "학생데이터[학생데이터[\"학생명\"]==\"강바다\"]"
      ],
      "execution_count": null,
      "outputs": [
        {
          "output_type": "execute_result",
          "data": {
            "text/html": [
              "<div>\n",
              "<style scoped>\n",
              "    .dataframe tbody tr th:only-of-type {\n",
              "        vertical-align: middle;\n",
              "    }\n",
              "\n",
              "    .dataframe tbody tr th {\n",
              "        vertical-align: top;\n",
              "    }\n",
              "\n",
              "    .dataframe thead th {\n",
              "        text-align: right;\n",
              "    }\n",
              "</style>\n",
              "<table border=\"1\" class=\"dataframe\">\n",
              "  <thead>\n",
              "    <tr style=\"text-align: right;\">\n",
              "      <th></th>\n",
              "      <th>학생명</th>\n",
              "      <th>시험점수</th>\n",
              "      <th>출석률</th>\n",
              "      <th>키</th>\n",
              "      <th>몸무게</th>\n",
              "      <th>나이</th>\n",
              "      <th>도서관이용시간</th>\n",
              "    </tr>\n",
              "  </thead>\n",
              "  <tbody>\n",
              "    <tr>\n",
              "      <th>3</th>\n",
              "      <td>강바다</td>\n",
              "      <td>34</td>\n",
              "      <td>50</td>\n",
              "      <td>180</td>\n",
              "      <td>85</td>\n",
              "      <td>23</td>\n",
              "      <td>20</td>\n",
              "    </tr>\n",
              "  </tbody>\n",
              "</table>\n",
              "</div>"
            ],
            "text/plain": [
              "   학생명  시험점수  출석률    키  몸무게  나이  도서관이용시간\n",
              "3  강바다    34   50  180   85  23       20"
            ]
          },
          "metadata": {
            "tags": []
          },
          "execution_count": 14
        }
      ]
    },
    {
      "cell_type": "code",
      "metadata": {
        "colab": {
          "base_uri": "https://localhost:8080/",
          "height": 80
        },
        "id": "Az-2uMQA7rMy",
        "outputId": "617eb1f0-8bcb-4653-8c4b-eeee1e55a380"
      },
      "source": [
        "#학생데이터가 진수진인 학생만 뽑아오도록 \n",
        "학생데이터[학생데이터[\"학생명\"]==\"진수진\"]\n"
      ],
      "execution_count": null,
      "outputs": [
        {
          "output_type": "execute_result",
          "data": {
            "text/html": [
              "<div>\n",
              "<style scoped>\n",
              "    .dataframe tbody tr th:only-of-type {\n",
              "        vertical-align: middle;\n",
              "    }\n",
              "\n",
              "    .dataframe tbody tr th {\n",
              "        vertical-align: top;\n",
              "    }\n",
              "\n",
              "    .dataframe thead th {\n",
              "        text-align: right;\n",
              "    }\n",
              "</style>\n",
              "<table border=\"1\" class=\"dataframe\">\n",
              "  <thead>\n",
              "    <tr style=\"text-align: right;\">\n",
              "      <th></th>\n",
              "      <th>학생명</th>\n",
              "      <th>시험점수</th>\n",
              "      <th>출석률</th>\n",
              "      <th>키</th>\n",
              "      <th>몸무게</th>\n",
              "      <th>나이</th>\n",
              "      <th>도서관이용시간</th>\n",
              "    </tr>\n",
              "  </thead>\n",
              "  <tbody>\n",
              "    <tr>\n",
              "      <th>6</th>\n",
              "      <td>진수진</td>\n",
              "      <td>48</td>\n",
              "      <td>20</td>\n",
              "      <td>177</td>\n",
              "      <td>70</td>\n",
              "      <td>29</td>\n",
              "      <td>40</td>\n",
              "    </tr>\n",
              "  </tbody>\n",
              "</table>\n",
              "</div>"
            ],
            "text/plain": [
              "   학생명  시험점수  출석률    키  몸무게  나이  도서관이용시간\n",
              "6  진수진    48   20  177   70  29       40"
            ]
          },
          "metadata": {
            "tags": []
          },
          "execution_count": 15
        }
      ]
    },
    {
      "cell_type": "code",
      "metadata": {
        "colab": {
          "base_uri": "https://localhost:8080/"
        },
        "id": "iWQk3G5Nwck2",
        "outputId": "4124892a-23cf-4137-df57-05a0744483b4"
      },
      "source": [
        "print(학생데이터)"
      ],
      "execution_count": null,
      "outputs": [
        {
          "output_type": "stream",
          "text": [
            "   학생명  시험점수  출석률    키  몸무게  나이  도서관이용시간\n",
            "0  김지선    88  100  150   50  23      132\n",
            "1  김순쟈    76   89  158   68  25       89\n",
            "2  소이현    56   70  170   80  34       30\n",
            "3  강바다    34   50  180   85  23       20\n",
            "4  이채민    23   55  160   65  44       40\n",
            "5  이소영    67   40  165   66  33       30\n",
            "6  진수진    48   20  177   70  29       40\n",
            "7  강비단    99   90  165   50  20       80\n"
          ],
          "name": "stdout"
        }
      ]
    },
    {
      "cell_type": "markdown",
      "metadata": {
        "id": "CecdOdzQmqxb"
      },
      "source": [
        "<h1> 상관계수를 구해봅시다 <h1> "
      ]
    },
    {
      "cell_type": "code",
      "metadata": {
        "colab": {
          "base_uri": "https://localhost:8080/"
        },
        "id": "SDKAkaX9yAtl",
        "outputId": "85f7b709-1b2a-462f-9f12-50dd742dd16d"
      },
      "source": [
        "!sudo apt-get install -y fonts-nanum\n",
        "!sudo fc-cache -fv\n",
        "!rm ~/.cache/matplotlib -rf\n",
        "#한글(나눔글꼴) 다운 "
      ],
      "execution_count": null,
      "outputs": [
        {
          "output_type": "stream",
          "text": [
            "Reading package lists... Done\n",
            "Building dependency tree       \n",
            "Reading state information... Done\n",
            "The following NEW packages will be installed:\n",
            "  fonts-nanum\n",
            "0 upgraded, 1 newly installed, 0 to remove and 40 not upgraded.\n",
            "Need to get 9,604 kB of archives.\n",
            "After this operation, 29.5 MB of additional disk space will be used.\n",
            "Get:1 http://archive.ubuntu.com/ubuntu bionic/universe amd64 fonts-nanum all 20170925-1 [9,604 kB]\n",
            "Fetched 9,604 kB in 1s (8,383 kB/s)\n",
            "debconf: unable to initialize frontend: Dialog\n",
            "debconf: (No usable dialog-like program is installed, so the dialog based frontend cannot be used. at /usr/share/perl5/Debconf/FrontEnd/Dialog.pm line 76, <> line 1.)\n",
            "debconf: falling back to frontend: Readline\n",
            "debconf: unable to initialize frontend: Readline\n",
            "debconf: (This frontend requires a controlling tty.)\n",
            "debconf: falling back to frontend: Teletype\n",
            "dpkg-preconfigure: unable to re-open stdin: \n",
            "Selecting previously unselected package fonts-nanum.\n",
            "(Reading database ... 160837 files and directories currently installed.)\n",
            "Preparing to unpack .../fonts-nanum_20170925-1_all.deb ...\n",
            "Unpacking fonts-nanum (20170925-1) ...\n",
            "Setting up fonts-nanum (20170925-1) ...\n",
            "Processing triggers for fontconfig (2.12.6-0ubuntu2) ...\n",
            "/usr/share/fonts: caching, new cache contents: 0 fonts, 1 dirs\n",
            "/usr/share/fonts/truetype: caching, new cache contents: 0 fonts, 3 dirs\n",
            "/usr/share/fonts/truetype/humor-sans: caching, new cache contents: 1 fonts, 0 dirs\n",
            "/usr/share/fonts/truetype/liberation: caching, new cache contents: 16 fonts, 0 dirs\n",
            "/usr/share/fonts/truetype/nanum: caching, new cache contents: 10 fonts, 0 dirs\n",
            "/usr/local/share/fonts: caching, new cache contents: 0 fonts, 0 dirs\n",
            "/root/.local/share/fonts: skipping, no such directory\n",
            "/root/.fonts: skipping, no such directory\n",
            "/var/cache/fontconfig: cleaning cache directory\n",
            "/root/.cache/fontconfig: not cleaning non-existent cache directory\n",
            "/root/.fontconfig: not cleaning non-existent cache directory\n",
            "fc-cache: succeeded\n"
          ],
          "name": "stdout"
        }
      ]
    },
    {
      "cell_type": "code",
      "metadata": {
        "colab": {
          "base_uri": "https://localhost:8080/",
          "height": 234
        },
        "id": "ZLbxNXyIpBBZ",
        "outputId": "d648040a-9001-4b48-e7d9-66435e00aaa2"
      },
      "source": [
        "#상관관계를 구하는 함수 \n",
        "# corr : 상관관계 \n",
        "# 나이랑 몸무게의 상관계수는 ? \n",
        "\n",
        "#<상관관계>\n",
        "#  변수 변수의 관계 (온도, 아이스크림 판매량 )\n",
        "#양의 상관관계 1 , 음의 상관관계 -1 가깝다 \n",
        "#- 1 < 0 < 1 값 , 0에 가까울수록 상관관계가 없다 \n",
        "\n",
        "학생데이터.corr()\n",
        "\n",
        "# 몸무게 나이의 상관관계 / 도서관이용시간, 출석률의 상관관계 "
      ],
      "execution_count": null,
      "outputs": [
        {
          "output_type": "execute_result",
          "data": {
            "text/html": [
              "<div>\n",
              "<style scoped>\n",
              "    .dataframe tbody tr th:only-of-type {\n",
              "        vertical-align: middle;\n",
              "    }\n",
              "\n",
              "    .dataframe tbody tr th {\n",
              "        vertical-align: top;\n",
              "    }\n",
              "\n",
              "    .dataframe thead th {\n",
              "        text-align: right;\n",
              "    }\n",
              "</style>\n",
              "<table border=\"1\" class=\"dataframe\">\n",
              "  <thead>\n",
              "    <tr style=\"text-align: right;\">\n",
              "      <th></th>\n",
              "      <th>시험점수</th>\n",
              "      <th>출석률</th>\n",
              "      <th>키</th>\n",
              "      <th>몸무게</th>\n",
              "      <th>나이</th>\n",
              "      <th>도서관이용시간</th>\n",
              "    </tr>\n",
              "  </thead>\n",
              "  <tbody>\n",
              "    <tr>\n",
              "      <th>시험점수</th>\n",
              "      <td>1.000000</td>\n",
              "      <td>0.676749</td>\n",
              "      <td>-0.498914</td>\n",
              "      <td>-0.705007</td>\n",
              "      <td>-0.673206</td>\n",
              "      <td>0.731969</td>\n",
              "    </tr>\n",
              "    <tr>\n",
              "      <th>출석률</th>\n",
              "      <td>0.676749</td>\n",
              "      <td>1.000000</td>\n",
              "      <td>-0.713178</td>\n",
              "      <td>-0.532790</td>\n",
              "      <td>-0.434231</td>\n",
              "      <td>0.792461</td>\n",
              "    </tr>\n",
              "    <tr>\n",
              "      <th>키</th>\n",
              "      <td>-0.498914</td>\n",
              "      <td>-0.713178</td>\n",
              "      <td>1.000000</td>\n",
              "      <td>0.728304</td>\n",
              "      <td>-0.039025</td>\n",
              "      <td>-0.799934</td>\n",
              "    </tr>\n",
              "    <tr>\n",
              "      <th>몸무게</th>\n",
              "      <td>-0.705007</td>\n",
              "      <td>-0.532790</td>\n",
              "      <td>0.728304</td>\n",
              "      <td>1.000000</td>\n",
              "      <td>0.252888</td>\n",
              "      <td>-0.778946</td>\n",
              "    </tr>\n",
              "    <tr>\n",
              "      <th>나이</th>\n",
              "      <td>-0.673206</td>\n",
              "      <td>-0.434231</td>\n",
              "      <td>-0.039025</td>\n",
              "      <td>0.252888</td>\n",
              "      <td>1.000000</td>\n",
              "      <td>-0.494353</td>\n",
              "    </tr>\n",
              "    <tr>\n",
              "      <th>도서관이용시간</th>\n",
              "      <td>0.731969</td>\n",
              "      <td>0.792461</td>\n",
              "      <td>-0.799934</td>\n",
              "      <td>-0.778946</td>\n",
              "      <td>-0.494353</td>\n",
              "      <td>1.000000</td>\n",
              "    </tr>\n",
              "  </tbody>\n",
              "</table>\n",
              "</div>"
            ],
            "text/plain": [
              "             시험점수       출석률         키       몸무게        나이   도서관이용시간\n",
              "시험점수     1.000000  0.676749 -0.498914 -0.705007 -0.673206  0.731969\n",
              "출석률      0.676749  1.000000 -0.713178 -0.532790 -0.434231  0.792461\n",
              "키       -0.498914 -0.713178  1.000000  0.728304 -0.039025 -0.799934\n",
              "몸무게     -0.705007 -0.532790  0.728304  1.000000  0.252888 -0.778946\n",
              "나이      -0.673206 -0.434231 -0.039025  0.252888  1.000000 -0.494353\n",
              "도서관이용시간  0.731969  0.792461 -0.799934 -0.778946 -0.494353  1.000000"
            ]
          },
          "metadata": {
            "tags": []
          },
          "execution_count": 46
        }
      ]
    },
    {
      "cell_type": "code",
      "metadata": {
        "colab": {
          "base_uri": "https://localhost:8080/",
          "height": 683
        },
        "id": "AoZLFoH3wgEn",
        "outputId": "aaecd852-ea99-4ffe-d604-ef1fe6eab7aa"
      },
      "source": [
        "import seaborn as sb\n",
        "import matplotlib.pyplot as plt\n",
        "\n",
        "plt.rcParams[\"figure.figsize\"] = (10,10) # 사이즈 \n",
        "plt.rc('font', family='NanumBarunGothic') #폰트 : 나눔바른고딕  \n",
        "\n",
        "sb.heatmap(학생데이터.corr(),\n",
        "           annot = True, #실제 값 화면에 나타내기\n",
        "           cmap = 'copper', #색상\n",
        "           vmin = -1, vmax=1 , #컬러차트 영역 -1 ~ +1\n",
        "          )\n",
        "# Greens , PiYG"
      ],
      "execution_count": null,
      "outputs": [
        {
          "output_type": "stream",
          "text": [
            "/usr/local/lib/python3.7/dist-packages/matplotlib/backends/backend_agg.py:214: RuntimeWarning: Glyph 8722 missing from current font.\n",
            "  font.set_text(s, 0.0, flags=flags)\n",
            "/usr/local/lib/python3.7/dist-packages/matplotlib/backends/backend_agg.py:183: RuntimeWarning: Glyph 8722 missing from current font.\n",
            "  font.set_text(s, 0, flags=flags)\n"
          ],
          "name": "stderr"
        },
        {
          "output_type": "execute_result",
          "data": {
            "text/plain": [
              "<matplotlib.axes._subplots.AxesSubplot at 0x7fe9d16a6f10>"
            ]
          },
          "metadata": {
            "tags": []
          },
          "execution_count": 10
        },
        {
          "output_type": "display_data",
          "data": {
            "image/png": "[encoded data removed]",
            "text/plain": [
              "<Figure size 720x720 with 2 Axes>"
            ]
          },
          "metadata": {
            "tags": [],
            "needs_background": "light"
          }
        }
      ]
    },
    {
      "cell_type": "code",
      "metadata": {
        "id": "SSFav4OfwpCq",
        "colab": {
          "base_uri": "https://localhost:8080/"
        },
        "outputId": "ee2e4f9e-93ed-462f-978d-202742930d12"
      },
      "source": [
        "import matplotlib.font_manager as fm\n",
        "\n",
        "# 설치된 폰트 출력\n",
        "font_list = [font.name for font in fm.fontManager.ttflist]\n",
        "font_list"
      ],
      "execution_count": null,
      "outputs": [
        {
          "output_type": "execute_result",
          "data": {
            "text/plain": [
              "['STIXSizeOneSym',\n",
              " 'STIXGeneral',\n",
              " 'DejaVu Sans',\n",
              " 'cmss10',\n",
              " 'DejaVu Serif',\n",
              " 'STIXNonUnicode',\n",
              " 'STIXSizeTwoSym',\n",
              " 'STIXSizeFourSym',\n",
              " 'DejaVu Serif',\n",
              " 'DejaVu Sans',\n",
              " 'cmb10',\n",
              " 'STIXNonUnicode',\n",
              " 'cmex10',\n",
              " 'STIXGeneral',\n",
              " 'DejaVu Serif',\n",
              " 'cmsy10',\n",
              " 'STIXNonUnicode',\n",
              " 'DejaVu Sans',\n",
              " 'DejaVu Sans Mono',\n",
              " 'DejaVu Serif Display',\n",
              " 'DejaVu Sans',\n",
              " 'DejaVu Sans Mono',\n",
              " 'STIXSizeTwoSym',\n",
              " 'cmmi10',\n",
              " 'STIXSizeFourSym',\n",
              " 'cmtt10',\n",
              " 'DejaVu Serif',\n",
              " 'STIXSizeFiveSym',\n",
              " 'DejaVu Sans Mono',\n",
              " 'STIXGeneral',\n",
              " 'STIXNonUnicode',\n",
              " 'STIXGeneral',\n",
              " 'DejaVu Sans Display',\n",
              " 'STIXSizeThreeSym',\n",
              " 'STIXSizeOneSym',\n",
              " 'cmr10',\n",
              " 'STIXSizeThreeSym',\n",
              " 'DejaVu Sans Mono',\n",
              " 'Liberation Sans',\n",
              " 'Liberation Mono',\n",
              " 'Humor Sans',\n",
              " 'Liberation Mono',\n",
              " 'Liberation Mono',\n",
              " 'Liberation Serif',\n",
              " 'Liberation Sans Narrow',\n",
              " 'Liberation Sans Narrow',\n",
              " 'Liberation Serif',\n",
              " 'Liberation Sans',\n",
              " 'Liberation Mono',\n",
              " 'Liberation Sans',\n",
              " 'Liberation Sans Narrow',\n",
              " 'Liberation Sans Narrow',\n",
              " 'Liberation Serif',\n",
              " 'Liberation Sans',\n",
              " 'Liberation Serif']"
            ]
          },
          "metadata": {
            "tags": []
          },
          "execution_count": 22
        }
      ]
    },
    {
      "cell_type": "code",
      "metadata": {
        "id": "obs03vmHxCJ2"
      },
      "source": [
        ""
      ],
      "execution_count": null,
      "outputs": []
    }
  ]
}