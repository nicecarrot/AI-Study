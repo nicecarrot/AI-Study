{
  "nbformat": 4,
  "nbformat_minor": 0,
  "metadata": {
    "colab": {
      "name": "3.1_python_tutorial_3.ipynb",
      "provenance": [],
      "collapsed_sections": [],
      "toc_visible": true,
      "include_colab_link": true
    },
    "kernelspec": {
      "name": "python3",
      "display_name": "Python 3"
    },
    "language_info": {
      "name": "python"
    }
  },
  "cells": [
    {
      "cell_type": "markdown",
      "metadata": {
        "id": "view-in-github",
        "colab_type": "text"
      },
      "source": [
        "<a href=\"https://colab.research.google.com/github/nicecarrot/AI-Study/blob/main/3_1_python_tutorial_3.ipynb\" target=\"_parent\"><img src=\"https://colab.research.google.com/assets/colab-badge.svg\" alt=\"Open In Colab\"/></a>"
      ]
    },
    {
      "cell_type": "markdown",
      "metadata": {
        "id": "b-OBNJpfeS93"
      },
      "source": [
        "# 1.함수\n"
      ]
    },
    {
      "cell_type": "markdown",
      "metadata": {
        "id": "Jefb4WAreimq"
      },
      "source": [
        "입력 >> **함수** >> 출력\n",
        "\n",
        "\n",
        "반복적으로 사용되는 기능을 함수로 사용.\n",
        "\n",
        "\n",
        "ex)\n",
        "```\n",
        "def add(arg1, arg2):\n",
        "  result = arg1+arg2\n",
        "  return result \n",
        "```\n"
      ]
    },
    {
      "cell_type": "code",
      "metadata": {
        "id": "cSX7QiJlcZ0-"
      },
      "source": [
        "def add(x, y):\n",
        "  return x + y"
      ],
      "execution_count": null,
      "outputs": []
    },
    {
      "cell_type": "code",
      "metadata": {
        "id": "jtA8FpzEdXZj",
        "colab": {
          "base_uri": "https://localhost:8080/"
        },
        "outputId": "cab75d0b-c60d-4244-a76e-294375058663"
      },
      "source": [
        "z = add(3,6)\n",
        "print(z)"
      ],
      "execution_count": null,
      "outputs": [
        {
          "output_type": "stream",
          "text": [
            "9\n"
          ],
          "name": "stdout"
        }
      ]
    },
    {
      "cell_type": "markdown",
      "metadata": {
        "id": "cSQySGEsf5qw"
      },
      "source": [
        "## 1.1 함수의 특징\n",
        "\n",
        "- 입력값(argument), 결과값(return)이 없을 수 있다.\n",
        "- 결과값은 하나이다.\n",
        "- 입력값을 미리 정해 놓을 수 있다.\n",
        "- 함수 안에서 선언한 변수는 함수 안에서만 유효하다. (return, global 제외)"
      ]
    },
    {
      "cell_type": "code",
      "metadata": {
        "id": "JPr4mVpGMTPr"
      },
      "source": [
        "def greeting():\n",
        "  print(\"Hi~\")"
      ],
      "execution_count": null,
      "outputs": []
    },
    {
      "cell_type": "code",
      "metadata": {
        "id": "wVsRSB9Cd32w",
        "colab": {
          "base_uri": "https://localhost:8080/"
        },
        "outputId": "ef6d1e48-5a1e-4585-8380-8c6094ee00dc"
      },
      "source": [
        "z = greeting()"
      ],
      "execution_count": null,
      "outputs": [
        {
          "output_type": "stream",
          "text": [
            "Hi~\n"
          ],
          "name": "stdout"
        }
      ]
    },
    {
      "cell_type": "code",
      "metadata": {
        "id": "_Zgj8nR2d8v3",
        "colab": {
          "base_uri": "https://localhost:8080/"
        },
        "outputId": "9f775d1b-538f-4b47-c43f-07108719b160"
      },
      "source": [
        "print(z)"
      ],
      "execution_count": null,
      "outputs": [
        {
          "output_type": "stream",
          "text": [
            "None\n"
          ],
          "name": "stdout"
        }
      ]
    },
    {
      "cell_type": "code",
      "metadata": {
        "id": "DajeZ36beEvF"
      },
      "source": [
        "def greeting_v2(name):\n",
        "  print(f\"Hi~ {name}\")"
      ],
      "execution_count": null,
      "outputs": []
    },
    {
      "cell_type": "code",
      "metadata": {
        "id": "77Hsa2rPe37-",
        "colab": {
          "base_uri": "https://localhost:8080/"
        },
        "outputId": "ed2628a2-364e-4c30-c0e6-0a376d2bf672"
      },
      "source": [
        "z = greeting_v2('Jack')"
      ],
      "execution_count": null,
      "outputs": [
        {
          "output_type": "stream",
          "text": [
            "Hi~ Jack\n"
          ],
          "name": "stdout"
        }
      ]
    },
    {
      "cell_type": "code",
      "metadata": {
        "colab": {
          "base_uri": "https://localhost:8080/"
        },
        "id": "naMv3k4079hg",
        "outputId": "349a6ea9-59e2-44b6-f77b-f7e351567902"
      },
      "source": [
        "print(z)"
      ],
      "execution_count": null,
      "outputs": [
        {
          "output_type": "stream",
          "text": [
            "None\n"
          ],
          "name": "stdout"
        }
      ]
    },
    {
      "cell_type": "code",
      "metadata": {
        "id": "SQmOo9A0fulE"
      },
      "source": [
        "def greeting_v3():\n",
        "  return \"Hi~\""
      ],
      "execution_count": null,
      "outputs": []
    },
    {
      "cell_type": "code",
      "metadata": {
        "id": "GKZ5q6-4gw7y"
      },
      "source": [
        "z = greeting_v3()"
      ],
      "execution_count": null,
      "outputs": []
    },
    {
      "cell_type": "code",
      "metadata": {
        "id": "t1pVz4IePpDR",
        "colab": {
          "base_uri": "https://localhost:8080/"
        },
        "outputId": "64f6e75e-27ad-4165-bfee-4e3e24750e26"
      },
      "source": [
        "print(z)"
      ],
      "execution_count": null,
      "outputs": [
        {
          "output_type": "stream",
          "text": [
            "Hi~\n"
          ],
          "name": "stdout"
        }
      ]
    },
    {
      "cell_type": "code",
      "metadata": {
        "id": "hYZ_N6TVPpQa",
        "colab": {
          "base_uri": "https://localhost:8080/",
          "height": 138
        },
        "outputId": "deda289f-2d68-4467-d5ec-f1ee008afb2e"
      },
      "source": [
        "def add_mul(x, y=8):\n",
        "  result1 = x + y\n",
        "  result2 = x * y\n",
        "  return result1, result2"
      ],
      "execution_count": null,
      "outputs": [
        {
          "output_type": "error",
          "ename": "SyntaxError",
          "evalue": "ignored",
          "traceback": [
            "\u001b[0;36m  File \u001b[0;32m\"<ipython-input-27-5b3f5583320e>\"\u001b[0;36m, line \u001b[0;32m1\u001b[0m\n\u001b[0;31m    def add_mul(x=3, y):\u001b[0m\n\u001b[0m               ^\u001b[0m\n\u001b[0;31mSyntaxError\u001b[0m\u001b[0;31m:\u001b[0m non-default argument follows default argument\n"
          ]
        }
      ]
    },
    {
      "cell_type": "code",
      "metadata": {
        "colab": {
          "base_uri": "https://localhost:8080/"
        },
        "id": "SR_zBSxa8TWC",
        "outputId": "d6b87db5-19ad-41e8-c3b3-b86586dd00da"
      },
      "source": [
        "result1, result2 = add_mul(3, 6)\n",
        "print(result1)\n",
        "print(result2)"
      ],
      "execution_count": null,
      "outputs": [
        {
          "output_type": "stream",
          "text": [
            "9\n",
            "18\n"
          ],
          "name": "stdout"
        }
      ]
    },
    {
      "cell_type": "code",
      "metadata": {
        "id": "Ij7dtZDm9P7a"
      },
      "source": [
        "def sum_pow(x=1, y=1):\n",
        "  '''input:\n",
        "  x = 밑\n",
        "  y = 지수\n",
        "  output:\n",
        "  (x+y, x**y)\n",
        "  '''\n",
        "  result1 = x + y\n",
        "  result2 = x**y\n",
        "  return result1, result2"
      ],
      "execution_count": null,
      "outputs": []
    },
    {
      "cell_type": "code",
      "metadata": {
        "colab": {
          "base_uri": "https://localhost:8080/"
        },
        "id": "WAO1CuOw9YM2",
        "outputId": "f4076626-e104-43f8-a30b-8f1e14e6d50a"
      },
      "source": [
        "result1, result2 = sum_pow(y=2)\n",
        "print(result1)\n",
        "print(result2)"
      ],
      "execution_count": null,
      "outputs": [
        {
          "output_type": "stream",
          "text": [
            "3\t1\n"
          ],
          "name": "stdout"
        }
      ]
    },
    {
      "cell_type": "code",
      "metadata": {
        "id": "M1eT6Bp3_JSP"
      },
      "source": [
        "def greeting():\n",
        "  global hi\n",
        "  hi = \"Hi\"\n",
        "  print(hi)"
      ],
      "execution_count": null,
      "outputs": []
    },
    {
      "cell_type": "code",
      "metadata": {
        "colab": {
          "base_uri": "https://localhost:8080/"
        },
        "id": "qA6jfZ4E_P9O",
        "outputId": "15eec16a-2779-4d22-8f63-92743e7ab19e"
      },
      "source": [
        "greeting()"
      ],
      "execution_count": null,
      "outputs": [
        {
          "output_type": "stream",
          "text": [
            "Hi\n"
          ],
          "name": "stdout"
        }
      ]
    },
    {
      "cell_type": "code",
      "metadata": {
        "colab": {
          "base_uri": "https://localhost:8080/"
        },
        "id": "unTIFRCQ_Shm",
        "outputId": "3890b159-d7e1-4149-e894-b945efecece1"
      },
      "source": [
        "print(hi)"
      ],
      "execution_count": null,
      "outputs": [
        {
          "output_type": "stream",
          "text": [
            "Hi\n"
          ],
          "name": "stdout"
        }
      ]
    },
    {
      "cell_type": "code",
      "metadata": {
        "id": "KRozqGKf_sgi"
      },
      "source": [
        "def add(sum,*number):\n",
        "  for arg in number:\n",
        "    sum = sum + arg\n",
        "  return sum"
      ],
      "execution_count": null,
      "outputs": []
    },
    {
      "cell_type": "code",
      "metadata": {
        "colab": {
          "base_uri": "https://localhost:8080/"
        },
        "id": "S1Zzk1mNAHtM",
        "outputId": "f9901e55-0a88-4d2b-be53-e1a4c2dc5b46"
      },
      "source": [
        "print(add(1, 2, 3, 54, 6, 1, 2, 3))"
      ],
      "execution_count": null,
      "outputs": [
        {
          "output_type": "stream",
          "text": [
            "72\n"
          ],
          "name": "stdout"
        }
      ]
    },
    {
      "cell_type": "code",
      "metadata": {
        "id": "4sTTS3FpArvL"
      },
      "source": [
        "def capital(**country):\n",
        "  for key, value in country.items():\n",
        "    print(f\"{key}'s capital city is {value}\")"
      ],
      "execution_count": null,
      "outputs": []
    },
    {
      "cell_type": "code",
      "metadata": {
        "colab": {
          "base_uri": "https://localhost:8080/"
        },
        "id": "xwvciYyzBVoy",
        "outputId": "8fcc2237-25c4-4ecf-d643-9dfa75784fb4"
      },
      "source": [
        "capital(korea='서울', japan='도쿄')"
      ],
      "execution_count": null,
      "outputs": [
        {
          "output_type": "stream",
          "text": [
            "korea's capital city is 서울\n",
            "japan's capital city is 도쿄\n"
          ],
          "name": "stdout"
        }
      ]
    },
    {
      "cell_type": "markdown",
      "metadata": {
        "id": "eruEzKH4gbOf"
      },
      "source": [
        "## 1.2 lambda\n",
        "\n",
        "- 간단한 작업을 함수를 이용해 만드는 방법 (예약어=lambda)\n",
        "- 함수이름 = **lambda** arg1, arg2: 수행(결과값)"
      ]
    },
    {
      "cell_type": "code",
      "metadata": {
        "id": "XeHOKl9uga5_"
      },
      "source": [
        "add2 = lambda x, y: x+y"
      ],
      "execution_count": null,
      "outputs": []
    },
    {
      "cell_type": "code",
      "metadata": {
        "id": "4KI5FAjvhOMQ",
        "colab": {
          "base_uri": "https://localhost:8080/"
        },
        "outputId": "99f88eca-6b49-42a4-963a-788f9f8f93ba"
      },
      "source": [
        "print(add2(1,3))"
      ],
      "execution_count": null,
      "outputs": [
        {
          "output_type": "stream",
          "text": [
            "4\n"
          ],
          "name": "stdout"
        }
      ]
    },
    {
      "cell_type": "markdown",
      "metadata": {
        "id": "3tcHdIOVNL6S"
      },
      "source": [
        "# 함수 예제"
      ]
    },
    {
      "cell_type": "code",
      "metadata": {
        "id": "ATo9CD83NLcw"
      },
      "source": [
        "# 1. 리스트를 입력 받아서, 홀수만 반환하는 함수를 작성\n",
        "\n",
        "def odd_pick(inList):\n",
        "  '''설명'''\n",
        "  result = []\n",
        "  for number in inList:\n",
        "    if type(number) == int:\n",
        "      if number%2==1:\n",
        "        result.append(number)\n",
        "\n",
        "    if type(number) == list:\n",
        "      for list_num in number:\n",
        "        if type(list_num) == int:\n",
        "          if list_num%2==1:\n",
        "            result.append(list_num)\n",
        "  return result"
      ],
      "execution_count": null,
      "outputs": []
    },
    {
      "cell_type": "code",
      "metadata": {
        "id": "APGHl7_gO58D"
      },
      "source": [
        "def odd_pick(items):\n",
        "    return [item for item in items if type(item)==int and item%2==1]"
      ],
      "execution_count": null,
      "outputs": []
    },
    {
      "cell_type": "code",
      "metadata": {
        "colab": {
          "base_uri": "https://localhost:8080/"
        },
        "id": "N8NuRZGaNpAS",
        "outputId": "e344b4cd-f94c-483f-ed67-03f79ec23db4"
      },
      "source": [
        "myList = [1, 3, 2, 5.2, 8, [5,7],12, 13]\n",
        "print(odd_pick(myList))"
      ],
      "execution_count": null,
      "outputs": [
        {
          "output_type": "stream",
          "text": [
            "[1, 3, 5, 7, 13]\n"
          ],
          "name": "stdout"
        }
      ]
    },
    {
      "cell_type": "code",
      "metadata": {
        "id": "uSXBy32NNQOt"
      },
      "source": [
        "# &\n",
        "# True True\n",
        "# -> True\n",
        "\n",
        "# and\n",
        "# cond1 cond2\n",
        "\n",
        "# cond1 = True\n",
        "# T-> cond2 = True\n",
        "# F-> cond2 = False\n",
        "# cond1 = False\n",
        "# T->\n",
        "# F->"
      ],
      "execution_count": null,
      "outputs": []
    },
    {
      "cell_type": "code",
      "metadata": {
        "id": "Ticf9IKRNQwC"
      },
      "source": [
        "#2 사용자 입력을 여러개 받아서 평균을 계산해주는 함수\n",
        "def input_mean():\n",
        "  count = 0\n",
        "  sum = 0\n",
        "\n",
        "  max_num = 10\n",
        "  while count < max_num:\n",
        "    value = input(f\"평균을 구할 값을 하나씩 입력해주세요. 입력이 끝나면, x를 입력하세요.(최대 {max_num}개의 값)\\n\")\n",
        "    if value == 'x':\n",
        "      break\n",
        "    else:\n",
        "      sum = sum + float(value)\n",
        "    count = count + 1\n",
        "  \n",
        "  if count >0:\n",
        "    mean = sum/count\n",
        "    print(f\"입력된 값들의 평균은 {mean}입니다.\")\n",
        "  else:\n",
        "    print(\"입력된 값이 없습니다.\")"
      ],
      "execution_count": null,
      "outputs": []
    },
    {
      "cell_type": "code",
      "metadata": {
        "id": "P-rAXuG1NQoO",
        "colab": {
          "base_uri": "https://localhost:8080/"
        },
        "outputId": "53de732e-95f6-436c-81e8-bbae93ce7830"
      },
      "source": [
        "input_mean()"
      ],
      "execution_count": null,
      "outputs": [
        {
          "output_type": "stream",
          "text": [
            "평균을 구할 값을 하나씩 입력해주세요. 입력이 끝나면, x를 입력하세요.(최대 10개의 값)\n",
            "x\n",
            "입력된 값이 없습니다.\n"
          ],
          "name": "stdout"
        }
      ]
    },
    {
      "cell_type": "code",
      "metadata": {
        "id": "8PcYuKddNQd5"
      },
      "source": [
        "# 3 1000미만의 자연수에서 3의 배수와 5의 배수의 총합을 구하여라.\n",
        "\n",
        "def sum_15():\n",
        "  sum = 0\n",
        "  for n in range(1, 1000):\n",
        "    if (n%3 == 0) or (n%5 == 0):\n",
        "      sum = sum + n\n",
        "  print(sum)\n",
        "  return sum"
      ],
      "execution_count": null,
      "outputs": []
    },
    {
      "cell_type": "code",
      "metadata": {
        "colab": {
          "base_uri": "https://localhost:8080/"
        },
        "id": "wOvwwD9AV6jh",
        "outputId": "10953e32-e293-4bb6-baa3-69572b727327"
      },
      "source": [
        "sum_15()"
      ],
      "execution_count": null,
      "outputs": [
        {
          "output_type": "stream",
          "text": [
            "233168\n"
          ],
          "name": "stdout"
        },
        {
          "output_type": "execute_result",
          "data": {
            "text/plain": [
              "233168"
            ]
          },
          "metadata": {
            "tags": []
          },
          "execution_count": 111
        }
      ]
    },
    {
      "cell_type": "code",
      "metadata": {
        "id": "XuKg0EOhWT7B"
      },
      "source": [
        "# 4 range() 함수와 같은 기능을 하는 my_range()를 작성 (반환값은 list 형으로)\n",
        "def my_range(arg1, arg2=None, stride=1):\n",
        "  if arg2 == None:\n",
        "    start = 0\n",
        "    end = arg1\n",
        "  else:\n",
        "    start = arg1\n",
        "    end = arg2\n",
        "\n",
        "  count = start\n",
        "  my_list = []\n",
        "  while count < end:\n",
        "    my_list.append(count)\n",
        "    count = count + stride\n",
        "  return my_list"
      ],
      "execution_count": null,
      "outputs": []
    },
    {
      "cell_type": "code",
      "metadata": {
        "colab": {
          "base_uri": "https://localhost:8080/"
        },
        "id": "afslNofbWwfj",
        "outputId": "902f0ad1-5034-4cb9-b0a4-c541ccc84712"
      },
      "source": [
        "print(my_range(5, 10, 3))\n",
        "print(list(range(5, 10, 3)))"
      ],
      "execution_count": null,
      "outputs": [
        {
          "output_type": "stream",
          "text": [
            "[5, 8]\n",
            "[5, 8]\n"
          ],
          "name": "stdout"
        }
      ]
    },
    {
      "cell_type": "code",
      "metadata": {
        "id": "_fSg62lxW3ex"
      },
      "source": [
        "# 5 리스트와 한 정수를 입력 받고,\n",
        "#   한 줄에 입력 받은 정수 값만큼의 길이씩 출력하는 함수를 작성.\n",
        "\n",
        "def print_p(in_list, num):\n",
        "  for i, value in enumerate(in_list):\n",
        "    if (i+1)%num == 0:\n",
        "      print(str(value))\n",
        "    else:\n",
        "      print(str(value), end='\\t')"
      ],
      "execution_count": null,
      "outputs": []
    },
    {
      "cell_type": "code",
      "metadata": {
        "colab": {
          "base_uri": "https://localhost:8080/"
        },
        "id": "xTtAWdJlYo3u",
        "outputId": "e9f00f4e-d708-4561-d11d-7d853560474a"
      },
      "source": [
        "print(my_range(18))\n",
        "print_p(my_range(18), 10)"
      ],
      "execution_count": null,
      "outputs": [
        {
          "output_type": "stream",
          "text": [
            "[0, 1, 2, 3, 4, 5, 6, 7, 8, 9, 10, 11, 12, 13, 14, 15, 16, 17]\n",
            "0\t1\t2\t3\t4\t5\t6\t7\t8\t9\n",
            "10\t11\t12\t13\t14\t15\t16\t17\t"
          ],
          "name": "stdout"
        }
      ]
    },
    {
      "cell_type": "code",
      "metadata": {
        "id": "79Jyh4uyY4bq"
      },
      "source": [
        "# 6 리스트와 두 정수를 입력 받고,\n",
        "#   한줄에 첫번째 정수개 만큼의 출력,\n",
        "#   다음 줄은, 두번째 정수만큼 이동해서 출력.\n",
        "\n",
        "def print_p2(in_list, num, stride):\n",
        "  for i in range(int((len(in_list)-num)/stride) + 1):\n",
        "    print_p(in_list[i*stride:i*stride+num], num)\n",
        "    # for j, value in enumerate(in_list[i*stride:i*stride+num]):\n",
        "    #   if (j+1)%num == 0:\n",
        "    #     print(str(value))\n",
        "    #   else:\n",
        "    #     print(str(value), end='\\t') \n",
        "\n",
        "    # ex)\n",
        "    # len(in_list) = l = 10\n",
        "    # num(n) = 3\n",
        "    # stride(s) = 2\n",
        "\n",
        "    # 0 1 2 3 4 5 6 7 8 9\n",
        "    # 0 1 2\n",
        "    #     2 3 4\n",
        "    #         4 5 6\n",
        "    #             6 7 8\n",
        "\n",
        "    # 0 <= i*s\n",
        "    # i*stride + num - 1 <= l-1\n",
        "\n",
        "    # 0 <= i\n",
        "    # i <= int( (l-num)/stride )\n",
        "\n",
        "    # 0 <= i <  int( (l-num)/stride ) + 1"
      ],
      "execution_count": null,
      "outputs": []
    },
    {
      "cell_type": "code",
      "metadata": {
        "colab": {
          "base_uri": "https://localhost:8080/"
        },
        "id": "JcDaN6cuY2t_",
        "outputId": "fb562c93-302a-4751-f2eb-9a703ef2d3ed"
      },
      "source": [
        "print_p2(my_range(18), 5, 3)"
      ],
      "execution_count": null,
      "outputs": [
        {
          "output_type": "stream",
          "text": [
            "0\t1\t2\t3\t4\n",
            "3\t4\t5\t6\t7\n",
            "6\t7\t8\t9\t10\n",
            "9\t10\t11\t12\t13\n",
            "12\t13\t14\t15\t16\n"
          ],
          "name": "stdout"
        }
      ]
    },
    {
      "cell_type": "code",
      "metadata": {
        "id": "S3mpuatEY-SD"
      },
      "source": [
        ""
      ],
      "execution_count": null,
      "outputs": []
    }
  ]
}