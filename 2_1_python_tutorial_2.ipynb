{
  "nbformat": 4,
  "nbformat_minor": 0,
  "metadata": {
    "colab": {
      "name": "2_1_python_tutorial_2.ipynb",
      "provenance": [],
      "collapsed_sections": [],
      "include_colab_link": true
    },
    "kernelspec": {
      "name": "python3",
      "display_name": "Python 3"
    },
    "language_info": {
      "name": "python"
    }
  },
  "cells": [
    {
      "cell_type": "markdown",
      "metadata": {
        "id": "view-in-github",
        "colab_type": "text"
      },
      "source": [
        "<a href=\"https://colab.research.google.com/github/nicecarrot/AI-Study/blob/main/2_1_python_tutorial_2.ipynb\" target=\"_parent\"><img src=\"https://colab.research.google.com/assets/colab-badge.svg\" alt=\"Open In Colab\"/></a>"
      ]
    },
    {
      "cell_type": "code",
      "metadata": {
        "id": "YnwsrHA1-Vlp"
      },
      "source": [
        "# 한 줄 주석. ( ctrl + / )"
      ],
      "execution_count": null,
      "outputs": []
    },
    {
      "cell_type": "markdown",
      "metadata": {
        "id": "cVu7mmaFJjkD"
      },
      "source": [
        "# 3.제어문"
      ]
    },
    {
      "cell_type": "markdown",
      "metadata": {
        "id": "VdZWjmvYKoCh"
      },
      "source": [
        "## 3.1 조건문 (if 문)"
      ]
    },
    {
      "cell_type": "markdown",
      "metadata": {
        "id": "58MkBz-u4-QA"
      },
      "source": [
        "참과 거짓을 판단하는 문장\n",
        "\n",
        "- 조건이 참일 경우 실행\n",
        "- 조건이 거짓일 경우 pass\n",
        "- 들여쓰기(indent) 주의\n",
        "- 콜론 주의"
      ]
    },
    {
      "cell_type": "code",
      "metadata": {
        "id": "8gONg4644-vH",
        "colab": {
          "base_uri": "https://localhost:8080/"
        },
        "outputId": "f5139e3e-5c39-4a8a-b47f-ff4cab71e523"
      },
      "source": [
        "a = 3; b = 5\n",
        "if a > b:\n",
        "  print(f\"{a}이(가) {b}보다 크다.\")\n",
        "  print(\"실행 완료\")"
      ],
      "execution_count": null,
      "outputs": [
        {
          "output_type": "stream",
          "text": [
            "실행 완료\n"
          ],
          "name": "stdout"
        }
      ]
    },
    {
      "cell_type": "code",
      "metadata": {
        "id": "Keco_2wx7B4K"
      },
      "source": [
        ""
      ],
      "execution_count": null,
      "outputs": []
    },
    {
      "cell_type": "markdown",
      "metadata": {
        "id": "FBzAgD7Lj8MJ"
      },
      "source": [
        "### 3.1.1 관계연산자\n",
        "\n",
        "- ==\n",
        "- !=\n",
        "- <\n",
        "- \\>\n",
        "- <=\n",
        "- \\>="
      ]
    },
    {
      "cell_type": "code",
      "metadata": {
        "id": "BGHSN7SA5thc",
        "colab": {
          "base_uri": "https://localhost:8080/"
        },
        "outputId": "00fb6674-f232-4ecb-9ef8-d308faf241a2"
      },
      "source": [
        "a = 3; b = 1\n",
        "print(a == b)\n",
        "print(a != b)\n",
        "print(a < b)\n",
        "print(a > b)\n",
        "print(a <= b)\n",
        "print(a >= b)"
      ],
      "execution_count": null,
      "outputs": [
        {
          "output_type": "stream",
          "text": [
            "False\n",
            "True\n",
            "False\n",
            "True\n",
            "False\n",
            "True\n"
          ],
          "name": "stdout"
        }
      ]
    },
    {
      "cell_type": "markdown",
      "metadata": {
        "id": "hBAWoR5x5uHD"
      },
      "source": [
        "### 3.1.2 논리 연산자\n",
        "\n",
        "- not\n",
        "- and\n",
        "- or"
      ]
    },
    {
      "cell_type": "code",
      "metadata": {
        "id": "LJTfVIPW5v6K",
        "colab": {
          "base_uri": "https://localhost:8080/"
        },
        "outputId": "d6cd9bb4-da1c-42fe-aeae-f3ea1203f021"
      },
      "source": [
        "a = True\n",
        "b = True\n",
        "print(not a)\n",
        "print(not a and b)\n",
        "print(not a or b)"
      ],
      "execution_count": null,
      "outputs": [
        {
          "output_type": "stream",
          "text": [
            "False\n",
            "False\n",
            "True\n"
          ],
          "name": "stdout"
        }
      ]
    },
    {
      "cell_type": "code",
      "metadata": {
        "id": "ABNVNkVF8Fa3",
        "colab": {
          "base_uri": "https://localhost:8080/"
        },
        "outputId": "9438655a-3ef9-410b-c266-58d49fe5fe82"
      },
      "source": [
        "myList = [1,2,3]\n",
        "print('1' in myList)"
      ],
      "execution_count": null,
      "outputs": [
        {
          "output_type": "stream",
          "text": [
            "False\n"
          ],
          "name": "stdout"
        }
      ]
    },
    {
      "cell_type": "markdown",
      "metadata": {
        "id": "lNJU42pV58CU"
      },
      "source": [
        "### 3.1.3 if/else 문"
      ]
    },
    {
      "cell_type": "code",
      "metadata": {
        "id": "y2HapeuH6B78",
        "colab": {
          "base_uri": "https://localhost:8080/"
        },
        "outputId": "9500fd11-57b0-494c-fa0f-14df090afa97"
      },
      "source": [
        "money = 15000\n",
        "if money > 10000:\n",
        "  print(\"맛있는 것을 먹는다.\")\n",
        "else:\n",
        "  print(\"싼 것을 먹는다.\")"
      ],
      "execution_count": null,
      "outputs": [
        {
          "output_type": "stream",
          "text": [
            "맛있는 것을 먹는다.\n"
          ],
          "name": "stdout"
        }
      ]
    },
    {
      "cell_type": "code",
      "metadata": {
        "id": "h4SDhDrK8jms",
        "colab": {
          "base_uri": "https://localhost:8080/"
        },
        "outputId": "010282a3-9530-4a48-8139-c5ea01fb8834"
      },
      "source": [
        "money = 1000\n",
        "card = True\n",
        "# 돈이 충분하거나 카드가 있으면, \"택시를 탄다\"를 출력\n",
        "# 돈이 충분치 않고 카드가 없으면, \"걸어간다.\"를 출력\n",
        "\n",
        "if (money >= 5000) or card:\n",
        "  print(\"택시를 탄다.\")\n",
        "else:\n",
        "  print(\"걸어간다.\")"
      ],
      "execution_count": null,
      "outputs": [
        {
          "output_type": "stream",
          "text": [
            "택시를 탄다.\n"
          ],
          "name": "stdout"
        }
      ]
    },
    {
      "cell_type": "code",
      "metadata": {
        "id": "65JqoKd23u5i"
      },
      "source": [
        "condition = False # or False\n",
        "if condition:\n",
        "  print('참')"
      ],
      "execution_count": null,
      "outputs": []
    },
    {
      "cell_type": "markdown",
      "metadata": {
        "id": "Hdz5d1cX6CSc"
      },
      "source": [
        "### 3.1.4 in / not in"
      ]
    },
    {
      "cell_type": "code",
      "metadata": {
        "id": "y6qWYrKe6ZaD",
        "colab": {
          "base_uri": "https://localhost:8080/",
          "height": 138
        },
        "outputId": "04f2a849-ea4d-468d-a443-5e43ba7b112e"
      },
      "source": [
        "pocket = ['card', 'phone', 'bottle', 'mouse']\n",
        "\n",
        "if 'card' in pocket or 'money' in pocket:\n",
        "  print(\"택시\")\n",
        "else:\n",
        "  print(\"도보\")"
      ],
      "execution_count": null,
      "outputs": [
        {
          "output_type": "error",
          "ename": "IndentationError",
          "evalue": "ignored",
          "traceback": [
            "\u001b[0;36m  File \u001b[0;32m\"<ipython-input-28-3d2dfd7959d9>\"\u001b[0;36m, line \u001b[0;32m4\u001b[0m\n\u001b[0;31m    else:\u001b[0m\n\u001b[0m       ^\u001b[0m\n\u001b[0;31mIndentationError\u001b[0m\u001b[0;31m:\u001b[0m expected an indented block\n"
          ]
        }
      ]
    },
    {
      "cell_type": "markdown",
      "metadata": {
        "id": "wznNhlel6PWU"
      },
      "source": [
        "### 3.1.5 pass\n",
        "\n",
        "조건을 만족하지만 아무 일도 수행하고 싶지 않을 때, 사용"
      ]
    },
    {
      "cell_type": "code",
      "metadata": {
        "id": "edD6URFq6Y_j"
      },
      "source": [
        "pocket = ['card', 'phone', 'bottle', 'mouse']\n",
        "if 'bottle' not in pocket:\n",
        "  pass\n",
        "else:\n",
        "  print('물병 구매!')"
      ],
      "execution_count": null,
      "outputs": []
    },
    {
      "cell_type": "markdown",
      "metadata": {
        "id": "CUwPCNY46gDj"
      },
      "source": [
        "### 3.1.6 elif 문\n",
        "\n",
        "다양한 조건을 사용할 때 사용"
      ]
    },
    {
      "cell_type": "code",
      "metadata": {
        "id": "sD4lnJD86gcU",
        "colab": {
          "base_uri": "https://localhost:8080/"
        },
        "outputId": "7f50fe8d-bfcf-4a34-df1a-e635c0c93ebe"
      },
      "source": [
        "# 주머니에 돈이 있으면 택시\n",
        "# 주머니에 돈은 없지만, 카드가 있으면 버스\n",
        "# 모두 아니라면 걸어간다.\n",
        "pocket = ['card', 'phone', 'bottle', 'mouse', 'money']\n",
        "\n",
        "if 'money' in pocket:\n",
        "  print('택시')\n",
        "elif 'card' in pocket:\n",
        "  print('버스')\n",
        "else:\n",
        "  print('걸어간다.')"
      ],
      "execution_count": null,
      "outputs": [
        {
          "output_type": "stream",
          "text": [
            "택시\n",
            "버스\n"
          ],
          "name": "stdout"
        }
      ]
    },
    {
      "cell_type": "markdown",
      "metadata": {
        "id": "XVCMyDlbKoM6"
      },
      "source": [
        "## 3.2 반복문 -1 (while 문)"
      ]
    },
    {
      "cell_type": "markdown",
      "metadata": {
        "id": "0cG3NdRV4_N-"
      },
      "source": [
        "조건을 만족하는 한, 반복적으로 실행시키는 문장\n",
        "\n",
        "(! 무한반복되지 않도록 주의)"
      ]
    },
    {
      "cell_type": "code",
      "metadata": {
        "id": "nHJq5CoH4_eW",
        "colab": {
          "base_uri": "https://localhost:8080/"
        },
        "outputId": "6dba0d2b-ab64-4fae-fbf7-56d0efc02fdf"
      },
      "source": [
        "count = 0\n",
        "while count < 10:\n",
        "  print(f\"count: {count}\")\n",
        "  count = count + 1"
      ],
      "execution_count": null,
      "outputs": [
        {
          "output_type": "stream",
          "text": [
            "count: 0\n",
            "count: 1\n",
            "count: 2\n",
            "count: 3\n",
            "count: 4\n",
            "count: 5\n",
            "count: 6\n",
            "count: 7\n",
            "count: 8\n",
            "count: 9\n"
          ],
          "name": "stdout"
        }
      ]
    },
    {
      "cell_type": "markdown",
      "metadata": {
        "id": "lNPeNb6D7xfy"
      },
      "source": [
        "### 3.2.1 break문"
      ]
    },
    {
      "cell_type": "code",
      "metadata": {
        "id": "Kzonm-Sr7wqD",
        "colab": {
          "base_uri": "https://localhost:8080/"
        },
        "outputId": "1f94b8ad-a408-4283-85b4-1425c3264626"
      },
      "source": [
        "a = 10\n",
        "count = 0\n",
        "while a > 3:\n",
        "  count = count + 1\n",
        "  a = a + 1\n",
        "  print(f\"a = {a}\\tcount = {count}\")\n",
        "  if count > 100:\n",
        "    break\n",
        "print(\"끝\")"
      ],
      "execution_count": null,
      "outputs": [
        {
          "output_type": "stream",
          "text": [
            "a = 11\tcount = 1\n",
            "a = 12\tcount = 2\n",
            "a = 13\tcount = 3\n",
            "a = 14\tcount = 4\n",
            "a = 15\tcount = 5\n",
            "a = 16\tcount = 6\n",
            "a = 17\tcount = 7\n",
            "a = 18\tcount = 8\n",
            "a = 19\tcount = 9\n",
            "a = 20\tcount = 10\n",
            "a = 21\tcount = 11\n",
            "a = 22\tcount = 12\n",
            "a = 23\tcount = 13\n",
            "a = 24\tcount = 14\n",
            "a = 25\tcount = 15\n",
            "a = 26\tcount = 16\n",
            "a = 27\tcount = 17\n",
            "a = 28\tcount = 18\n",
            "a = 29\tcount = 19\n",
            "a = 30\tcount = 20\n",
            "a = 31\tcount = 21\n",
            "a = 32\tcount = 22\n",
            "a = 33\tcount = 23\n",
            "a = 34\tcount = 24\n",
            "a = 35\tcount = 25\n",
            "a = 36\tcount = 26\n",
            "a = 37\tcount = 27\n",
            "a = 38\tcount = 28\n",
            "a = 39\tcount = 29\n",
            "a = 40\tcount = 30\n",
            "a = 41\tcount = 31\n",
            "a = 42\tcount = 32\n",
            "a = 43\tcount = 33\n",
            "a = 44\tcount = 34\n",
            "a = 45\tcount = 35\n",
            "a = 46\tcount = 36\n",
            "a = 47\tcount = 37\n",
            "a = 48\tcount = 38\n",
            "a = 49\tcount = 39\n",
            "a = 50\tcount = 40\n",
            "a = 51\tcount = 41\n",
            "a = 52\tcount = 42\n",
            "a = 53\tcount = 43\n",
            "a = 54\tcount = 44\n",
            "a = 55\tcount = 45\n",
            "a = 56\tcount = 46\n",
            "a = 57\tcount = 47\n",
            "a = 58\tcount = 48\n",
            "a = 59\tcount = 49\n",
            "a = 60\tcount = 50\n",
            "a = 61\tcount = 51\n",
            "a = 62\tcount = 52\n",
            "a = 63\tcount = 53\n",
            "a = 64\tcount = 54\n",
            "a = 65\tcount = 55\n",
            "a = 66\tcount = 56\n",
            "a = 67\tcount = 57\n",
            "a = 68\tcount = 58\n",
            "a = 69\tcount = 59\n",
            "a = 70\tcount = 60\n",
            "a = 71\tcount = 61\n",
            "a = 72\tcount = 62\n",
            "a = 73\tcount = 63\n",
            "a = 74\tcount = 64\n",
            "a = 75\tcount = 65\n",
            "a = 76\tcount = 66\n",
            "a = 77\tcount = 67\n",
            "a = 78\tcount = 68\n",
            "a = 79\tcount = 69\n",
            "a = 80\tcount = 70\n",
            "a = 81\tcount = 71\n",
            "a = 82\tcount = 72\n",
            "a = 83\tcount = 73\n",
            "a = 84\tcount = 74\n",
            "a = 85\tcount = 75\n",
            "a = 86\tcount = 76\n",
            "a = 87\tcount = 77\n",
            "a = 88\tcount = 78\n",
            "a = 89\tcount = 79\n",
            "a = 90\tcount = 80\n",
            "a = 91\tcount = 81\n",
            "a = 92\tcount = 82\n",
            "a = 93\tcount = 83\n",
            "a = 94\tcount = 84\n",
            "a = 95\tcount = 85\n",
            "a = 96\tcount = 86\n",
            "a = 97\tcount = 87\n",
            "a = 98\tcount = 88\n",
            "a = 99\tcount = 89\n",
            "a = 100\tcount = 90\n",
            "a = 101\tcount = 91\n",
            "a = 102\tcount = 92\n",
            "a = 103\tcount = 93\n",
            "a = 104\tcount = 94\n",
            "a = 105\tcount = 95\n",
            "a = 106\tcount = 96\n",
            "a = 107\tcount = 97\n",
            "a = 108\tcount = 98\n",
            "a = 109\tcount = 99\n",
            "a = 110\tcount = 100\n",
            "a = 111\tcount = 101\n",
            "끝\n"
          ],
          "name": "stdout"
        }
      ]
    },
    {
      "cell_type": "markdown",
      "metadata": {
        "id": "ofFW9mXX77Uo"
      },
      "source": [
        "### 3.2.2 continue문"
      ]
    },
    {
      "cell_type": "code",
      "metadata": {
        "id": "lG2ogBns8BUK",
        "colab": {
          "base_uri": "https://localhost:8080/"
        },
        "outputId": "bb6e8f62-a8e9-4467-814f-37d87271cd3b"
      },
      "source": [
        "count = 0 #\n",
        "while True: # # # # #\n",
        "  count = count + 1 #1 #2 #3 #4\n",
        "  if count%2 == 1: # # # #\n",
        "    continue # #\n",
        "  print(f\"반복횟수 = {count}\") # #\n",
        "  if count >= 10: # #\n",
        "    break"
      ],
      "execution_count": null,
      "outputs": [
        {
          "output_type": "stream",
          "text": [
            "반복횟수 = 2\n",
            "반복횟수 = 4\n",
            "반복횟수 = 6\n",
            "반복횟수 = 8\n",
            "반복횟수 = 10\n"
          ],
          "name": "stdout"
        }
      ]
    },
    {
      "cell_type": "markdown",
      "metadata": {
        "id": "pqZIuJd68Bmh"
      },
      "source": [
        "### 3.2.3 무한루프"
      ]
    },
    {
      "cell_type": "code",
      "metadata": {
        "id": "5MA0AIfq8Vly"
      },
      "source": [
        "count = 0\n",
        "while True:\n",
        "  count = count + 1\n",
        "  print(count)"
      ],
      "execution_count": null,
      "outputs": []
    },
    {
      "cell_type": "markdown",
      "metadata": {
        "id": "tm7isAXVKoVy"
      },
      "source": [
        "## 3.3 반목문 -2 (for 문)"
      ]
    },
    {
      "cell_type": "markdown",
      "metadata": {
        "id": "7og4WNCd5BGt"
      },
      "source": [
        "시퀀스 자료를 이용하여 원하는 일을 반복 수행할 때 사용."
      ]
    },
    {
      "cell_type": "code",
      "metadata": {
        "id": "fk4mAnl_5Bw3",
        "colab": {
          "base_uri": "https://localhost:8080/"
        },
        "outputId": "a40908c0-aafa-4adf-9dd4-86f37f7c9304"
      },
      "source": [
        "myList = ['Korea', 'USA', 'Japan', 'China']\n",
        "for a in myList:\n",
        "  print(a)"
      ],
      "execution_count": null,
      "outputs": [
        {
          "output_type": "stream",
          "text": [
            "Korea\n",
            "USA\n",
            "Japan\n",
            "China\n"
          ],
          "name": "stdout"
        }
      ]
    },
    {
      "cell_type": "code",
      "metadata": {
        "colab": {
          "base_uri": "https://localhost:8080/"
        },
        "id": "t98_qE2VNL4f",
        "outputId": "4bdbda63-83e6-4fa3-f29c-f08694e68b83"
      },
      "source": [
        "myList = ['Korea', 'USA', 'Japan', 'China']\n",
        "a = myList[0] # 'Korea'\n",
        "print(a) \n",
        "\n",
        "a = myList[1] # 'USA'\n",
        "print(a)\n",
        "\n",
        "a = myList[2] # 'Japan'\n",
        "print(a)\n",
        "\n",
        "a = myList[3] # 'China'\n",
        "print(a)"
      ],
      "execution_count": null,
      "outputs": [
        {
          "output_type": "stream",
          "text": [
            "Korea\n",
            "USA\n",
            "Japan\n",
            "China\n"
          ],
          "name": "stdout"
        }
      ]
    },
    {
      "cell_type": "code",
      "metadata": {
        "colab": {
          "base_uri": "https://localhost:8080/"
        },
        "id": "fCq2rhvLDD4H",
        "outputId": "2ff3a187-25d4-4830-d4a9-3bca12a0a960"
      },
      "source": [
        "score = [10,12, 8, 7, 10]\n",
        "sum = 0\n",
        "for s in score:\n",
        "  sum = sum + s\n",
        "  print(sum)\n",
        "print(sum/len(score))"
      ],
      "execution_count": null,
      "outputs": [
        {
          "output_type": "stream",
          "text": [
            "10\n",
            "22\n",
            "30\n",
            "37\n",
            "47\n",
            "9.4\n"
          ],
          "name": "stdout"
        }
      ]
    },
    {
      "cell_type": "markdown",
      "metadata": {
        "id": "-2VyEtkn8oeX"
      },
      "source": [
        "### 3.3.1 range함수"
      ]
    },
    {
      "cell_type": "code",
      "metadata": {
        "id": "C571IKGg8o73",
        "colab": {
          "base_uri": "https://localhost:8080/"
        },
        "outputId": "de982a3f-3044-4f60-d980-e575611af57a"
      },
      "source": [
        "for i in range(10):\n",
        "  print(i)\n",
        "\n",
        "myList = [0,1,2,3,4,5,6,7,8,9,10,11,12]\n",
        "for i in myList[:10]:\n",
        "  print(i)"
      ],
      "execution_count": null,
      "outputs": [
        {
          "output_type": "stream",
          "text": [
            "0\n",
            "1\n",
            "2\n",
            "3\n",
            "4\n",
            "5\n",
            "6\n",
            "7\n",
            "8\n",
            "9\n",
            "0\n",
            "1\n",
            "2\n",
            "3\n",
            "4\n",
            "5\n",
            "6\n",
            "7\n",
            "8\n",
            "9\n"
          ],
          "name": "stdout"
        }
      ]
    },
    {
      "cell_type": "code",
      "metadata": {
        "id": "dSCVVpFwHGu2",
        "colab": {
          "base_uri": "https://localhost:8080/"
        },
        "outputId": "d2d1b848-cf32-41b2-fada-25ae7a9c49b0"
      },
      "source": [
        "for i in range(3,20,4): # 3부터 시작해서, 10 미만의 수를 2간격으로 \n",
        "  print(i)"
      ],
      "execution_count": null,
      "outputs": [
        {
          "output_type": "stream",
          "text": [
            "3\n",
            "7\n",
            "11\n",
            "15\n",
            "19\n"
          ],
          "name": "stdout"
        }
      ]
    },
    {
      "cell_type": "code",
      "metadata": {
        "id": "7Ibi_lnqIBdG",
        "colab": {
          "base_uri": "https://localhost:8080/"
        },
        "outputId": "b8422578-27c7-4d72-ff09-f6d99921a6f6"
      },
      "source": [
        "myList = [0,1,2,3,4,5,6,7,8,9,10,11,12]\n",
        "for i in myList[3:10]:\n",
        "  print(i)"
      ],
      "execution_count": null,
      "outputs": [
        {
          "output_type": "stream",
          "text": [
            "3\n",
            "4\n",
            "5\n",
            "6\n",
            "7\n",
            "8\n",
            "9\n"
          ],
          "name": "stdout"
        }
      ]
    },
    {
      "cell_type": "markdown",
      "metadata": {
        "id": "oemhxE1RExFL"
      },
      "source": [
        "### 3.3.2 enumerate함수"
      ]
    },
    {
      "cell_type": "code",
      "metadata": {
        "colab": {
          "base_uri": "https://localhost:8080/"
        },
        "id": "ydrDLu2REz4w",
        "outputId": "570ea931-64ab-48d5-9324-d9d90f4c9390"
      },
      "source": [
        "myList = ['Korea', 'USA', 'Japan', 'China']\n",
        "for value in myList:\n",
        "  print(value)"
      ],
      "execution_count": null,
      "outputs": [
        {
          "output_type": "stream",
          "text": [
            "Korea\n",
            "USA\n",
            "Japan\n",
            "China\n"
          ],
          "name": "stdout"
        }
      ]
    },
    {
      "cell_type": "code",
      "metadata": {
        "colab": {
          "base_uri": "https://localhost:8080/"
        },
        "id": "GXF9GGT1E2nI",
        "outputId": "fb38197f-4094-4852-c376-1fe8af36ac59"
      },
      "source": [
        "myList = ['Korea', 'USA', 'Japan', 'China']\n",
        "for index, value in enumerate(myList):\n",
        "  print(f\"index: {index}\\t\\tvalue: {value}\")"
      ],
      "execution_count": null,
      "outputs": [
        {
          "output_type": "stream",
          "text": [
            "index: 0\t\tvalue: Korea\n",
            "index: 1\t\tvalue: USA\n",
            "index: 2\t\tvalue: Japan\n",
            "index: 3\t\tvalue: China\n"
          ],
          "name": "stdout"
        }
      ]
    },
    {
      "cell_type": "markdown",
      "metadata": {
        "id": "dvYWIzfrjLJ3"
      },
      "source": [
        "# 4.Comprehension"
      ]
    },
    {
      "cell_type": "markdown",
      "metadata": {
        "id": "N0I2hhWmEFhb"
      },
      "source": [
        "다른 언어에서는 잘 볼 수 없는 파이썬만의 편리한 문법\n",
        "\n",
        "list, set, dictionary 안에서 for문과 if문을 사용하여, 원소들을 구성하는 방법"
      ]
    },
    {
      "cell_type": "markdown",
      "metadata": {
        "id": "keUEKAKB7CO6"
      },
      "source": [
        "## 4.1 if문 Comprehension"
      ]
    },
    {
      "cell_type": "code",
      "metadata": {
        "id": "TwJ73-_fDwjO",
        "colab": {
          "base_uri": "https://localhost:8080/"
        },
        "outputId": "35f1c3c0-7c9d-4583-dd19-b1406210d370"
      },
      "source": [
        "score = 90\n",
        "\n",
        "pf = \"pass\" if score >= 80 else \"fail\"\n",
        "\n",
        "print(pf)"
      ],
      "execution_count": null,
      "outputs": [
        {
          "output_type": "stream",
          "text": [
            "pass\n"
          ],
          "name": "stdout"
        }
      ]
    },
    {
      "cell_type": "code",
      "metadata": {
        "colab": {
          "base_uri": "https://localhost:8080/"
        },
        "id": "8wbeR9qeJtYw",
        "outputId": "6d9afda3-4964-4b39-8566-79a0e28218e1"
      },
      "source": [
        "if score>=80:\n",
        "  pf = \"pass\"\n",
        "else:\n",
        "  pf = \"fail\"\n",
        "  \n",
        "print(pf)"
      ],
      "execution_count": null,
      "outputs": [
        {
          "output_type": "stream",
          "text": [
            "pass\n"
          ],
          "name": "stdout"
        }
      ]
    },
    {
      "cell_type": "markdown",
      "metadata": {
        "id": "k7KnCBSAjSqA"
      },
      "source": [
        "## 4.2 List Comprehension\n",
        "\n",
        "- [item **for** item **in** iterable]\n",
        "- [item **for** item **in** iterable **if** condition]"
      ]
    },
    {
      "cell_type": "code",
      "metadata": {
        "id": "Hs8wqkMrDxvM",
        "colab": {
          "base_uri": "https://localhost:8080/"
        },
        "outputId": "125b88d2-b371-4ce9-c563-16e2f7001be7"
      },
      "source": [
        "sentence = \"조건 판단 후, 참/거짓에 따라 다른 명령을 실행하기 위하여 사용하는 것을 if문이라고 한다.\"\n",
        "words = sentence.split()\n",
        "print(words)"
      ],
      "execution_count": null,
      "outputs": [
        {
          "output_type": "stream",
          "text": [
            "['조건', '판단', '후,', '참/거짓에', '따라', '다른', '명령을', '실항하기', '위하여', '사용하는', '것을', 'if문이라고', '한다.']\n"
          ],
          "name": "stdout"
        }
      ]
    },
    {
      "cell_type": "code",
      "metadata": {
        "id": "zMSdfmpoE_N7",
        "colab": {
          "base_uri": "https://localhost:8080/"
        },
        "outputId": "246d62e1-a860-4820-c1c9-369b1423f7ee"
      },
      "source": [
        "words_len = [word for word in words]\n",
        "print(words_len)"
      ],
      "execution_count": null,
      "outputs": [
        {
          "output_type": "stream",
          "text": [
            "['조건', '판단', '후,', '참/거짓에', '따라', '다른', '명령을', '실항하기', '위하여', '사용하는', '것을', 'if문이라고', '한다.']\n"
          ],
          "name": "stdout"
        }
      ]
    },
    {
      "cell_type": "code",
      "metadata": {
        "colab": {
          "base_uri": "https://localhost:8080/"
        },
        "id": "S__APL9BLRCq",
        "outputId": "9df39dbb-eb59-442e-b659-1cf8eda2a118"
      },
      "source": [
        "words_3 = [word for word in words if len(word) > 2]\n",
        "print(words_3)"
      ],
      "execution_count": null,
      "outputs": [
        {
          "output_type": "stream",
          "text": [
            "['참/거짓에', '명령을', '실항하기', '위하여', '사용하는', 'if문이라고', '한다.']\n"
          ],
          "name": "stdout"
        }
      ]
    },
    {
      "cell_type": "code",
      "metadata": {
        "colab": {
          "base_uri": "https://localhost:8080/"
        },
        "id": "O4nt69tkLnun",
        "outputId": "fb7da1c9-8ab2-4d77-929b-40466f054717"
      },
      "source": [
        "words_3_v2 = []\n",
        "for word in words:\n",
        "  if len(word) > 2:\n",
        "    words_3_v2.append(word)\n",
        "print(words_3_v2)"
      ],
      "execution_count": null,
      "outputs": [
        {
          "output_type": "stream",
          "text": [
            "['참/거짓에', '명령을', '실항하기', '위하여', '사용하는', 'if문이라고', '한다.']\n"
          ],
          "name": "stdout"
        }
      ]
    },
    {
      "cell_type": "markdown",
      "metadata": {
        "id": "y1R9aMvWjSax"
      },
      "source": [
        "## 4.3 Set Comprehension"
      ]
    },
    {
      "cell_type": "markdown",
      "metadata": {
        "id": "K3T2cBlYFIDx"
      },
      "source": [
        "- {item **for** item **in** iterable}\n",
        "- {item **for** item **in** iterable **if** condition}"
      ]
    },
    {
      "cell_type": "code",
      "metadata": {
        "id": "6XyPXKiJDyRE",
        "colab": {
          "base_uri": "https://localhost:8080/"
        },
        "outputId": "017af585-2182-4b5c-aecb-8848ab49359f"
      },
      "source": [
        "sentence = \"조건 판단 후, 참/거짓에 따라 다른 명령을 실행하기 위하여 사용하는 것을 if문이라고 한다.\"\n",
        "words = sentence.split()\n",
        "print(words)"
      ],
      "execution_count": null,
      "outputs": [
        {
          "output_type": "stream",
          "text": [
            "['조건', '판단', '후,', '참/거짓에', '따라', '다른', '명령을', '실행하기', '위하여', '사용하는', '것을', 'if문이라고', '한다.']\n"
          ],
          "name": "stdout"
        }
      ]
    },
    {
      "cell_type": "code",
      "metadata": {
        "colab": {
          "base_uri": "https://localhost:8080/"
        },
        "id": "DDvSVeCnOkN0",
        "outputId": "96abf175-6a24-4b7a-8207-ef282684ebae"
      },
      "source": [
        "length = set([word for word in words])\n",
        "print(length)"
      ],
      "execution_count": null,
      "outputs": [
        {
          "output_type": "stream",
          "text": [
            "{'판단', '다른', '실행하기', '것을', '한다.', '후,', '따라', 'if문이라고', '참/거짓에', '조건', '위하여', '사용하는', '명령을'}\n"
          ],
          "name": "stdout"
        }
      ]
    },
    {
      "cell_type": "markdown",
      "metadata": {
        "id": "HQhWoEqnjSNY"
      },
      "source": [
        "## 4.4 Dictionary Comprehension"
      ]
    },
    {
      "cell_type": "markdown",
      "metadata": {
        "id": "hfXwqmY8Fr3i"
      },
      "source": [
        "- {key : value **for** item **in** iterable}\n",
        "- {key : value **for** item **in** iterable **if** condition}"
      ]
    },
    {
      "cell_type": "code",
      "metadata": {
        "id": "jNvZIZPUDynd",
        "colab": {
          "base_uri": "https://localhost:8080/"
        },
        "outputId": "67a0aac5-4c56-428f-9a08-3d3ce643cc0d"
      },
      "source": [
        "country_capital = {'대한민국':'서울',\n",
        "                   '영국':'런던',\n",
        "                   '중국':'북경',\n",
        "                   '일본':'도쿄'}\n",
        "print(country_capital)"
      ],
      "execution_count": null,
      "outputs": [
        {
          "output_type": "stream",
          "text": [
            "{'대한민국': '서울', '영국': '런던', '중국': '북경', '일본': '도쿄'}\n"
          ],
          "name": "stdout"
        }
      ]
    },
    {
      "cell_type": "code",
      "metadata": {
        "colab": {
          "base_uri": "https://localhost:8080/"
        },
        "id": "0l1aB23bR6v3",
        "outputId": "0105fb17-facf-4d02-9626-1f80f68cda81"
      },
      "source": [
        "print(len(country_capital))"
      ],
      "execution_count": null,
      "outputs": [
        {
          "output_type": "stream",
          "text": [
            "4\n"
          ],
          "name": "stdout"
        }
      ]
    },
    {
      "cell_type": "code",
      "metadata": {
        "id": "FcgXP3yrHkqJ",
        "colab": {
          "base_uri": "https://localhost:8080/"
        },
        "outputId": "7803910b-6397-4924-914b-fa3cc87e695b"
      },
      "source": [
        "capital_country= {capital:country for country, capital in country_capital.items()}\n",
        "print(capital_country)"
      ],
      "execution_count": null,
      "outputs": [
        {
          "output_type": "stream",
          "text": [
            "{'서울': '대한민국', '런던': '영국', '북경': '중국', '도쿄': '일본'}\n"
          ],
          "name": "stdout"
        }
      ]
    },
    {
      "cell_type": "code",
      "metadata": {
        "id": "_UeBv7FSHkNO",
        "colab": {
          "base_uri": "https://localhost:8080/"
        },
        "outputId": "5a0a8afc-3c96-4dfa-baa5-56ae6b21ef3e"
      },
      "source": [
        "capital_country= {country_capital[country]:country for country in country_capital.keys()}\n",
        "print(capital_country)"
      ],
      "execution_count": null,
      "outputs": [
        {
          "output_type": "stream",
          "text": [
            "{'서울': '대한민국', '런던': '영국', '북경': '중국', '도쿄': '일본'}\n"
          ],
          "name": "stdout"
        }
      ]
    },
    {
      "cell_type": "markdown",
      "metadata": {
        "id": "uSjMhFa3iK0i"
      },
      "source": [
        "# 5.자료형과 제어문 활용 예제"
      ]
    },
    {
      "cell_type": "code",
      "metadata": {
        "id": "9o0ZrOO9Hk0W",
        "colab": {
          "base_uri": "https://localhost:8080/"
        },
        "outputId": "db5c9f4e-fe17-4cb3-b045-985aa7c34e15"
      },
      "source": [
        "# 1. 홍길동 평균 점수\n",
        "# 국어 80, 영어 75, 수학 55\n",
        "#sol1\n",
        "kor = 80\n",
        "eng = 75\n",
        "math = 55\n",
        "do = 80\n",
        "\n",
        "sum = kor + eng + math + do\n",
        "mean = sum /4\n",
        "print(f'홍길동의 평균 점수: {mean}')\n",
        "\n",
        "#sol2\n",
        "hong = {'국어':80, '영어':75, '수학':55, '도덕':80}\n",
        "\n",
        "sum = 0\n",
        "for score in hong.values():\n",
        "  sum = sum + score\n",
        "mean = sum/len(hong)\n",
        "\n",
        "print(f\"홍길동의 평균 점수: {mean}\")"
      ],
      "execution_count": null,
      "outputs": [
        {
          "output_type": "stream",
          "text": [
            "홍길동의 평균 점수: 70.0\n",
            "홍길동의 평균 점수: 72.5\n"
          ],
          "name": "stdout"
        }
      ]
    },
    {
      "cell_type": "code",
      "metadata": {
        "id": "xSkdmsKaQCln",
        "colab": {
          "base_uri": "https://localhost:8080/"
        },
        "outputId": "993ded01-9d59-4c90-c332-754cd805bd87"
      },
      "source": [
        "# 2. 짝수 홀수 판별\n",
        "value = input(\"값을 입력하시오\\n\")\n",
        "\n",
        "if int(value)%2 == 0:\n",
        "  print(f\"{value}은(는) 짝수입니다.\")\n",
        "else:\n",
        "  print(f\"{value}은(는) 홀수입니다.\")"
      ],
      "execution_count": null,
      "outputs": [
        {
          "output_type": "stream",
          "text": [
            "값을 입력하시오\n",
            "12738\n",
            "12738은(는) 짝수입니다.\n"
          ],
          "name": "stdout"
        }
      ]
    },
    {
      "cell_type": "code",
      "metadata": {
        "id": "Gej7bCO9Sx4M",
        "colab": {
          "base_uri": "https://localhost:8080/"
        },
        "outputId": "4226635e-19ea-40e9-a96f-9a366d09907c"
      },
      "source": [
        "# 3. 주민등록번호 성별 숫자 인덱싱\n",
        "pin = \"881120-4068234\"\n",
        "\n",
        "if pin[7] == ('1' or '3'):\n",
        "  print('남자입니다.')\n",
        "else:\n",
        "  print('여자입니다.')"
      ],
      "execution_count": null,
      "outputs": [
        {
          "output_type": "stream",
          "text": [
            "여자입니다.\n"
          ],
          "name": "stdout"
        }
      ]
    },
    {
      "cell_type": "code",
      "metadata": {
        "id": "KZ8Ao0hxTbhW",
        "colab": {
          "base_uri": "https://localhost:8080/"
        },
        "outputId": "c3f4fdc2-633e-4591-ba3f-3ab2412bfffb"
      },
      "source": [
        "# 4. : to #\n",
        "a = \"a:b:c:d\"\n",
        "print(a.replace(':', '#'))"
      ],
      "execution_count": null,
      "outputs": [
        {
          "output_type": "stream",
          "text": [
            "a#b#c#d\n"
          ],
          "name": "stdout"
        }
      ]
    },
    {
      "cell_type": "code",
      "metadata": {
        "id": "061r0mAxTv_P",
        "colab": {
          "base_uri": "https://localhost:8080/"
        },
        "outputId": "0dfea57d-a62a-4f45-c0a1-19143dbd5361"
      },
      "source": [
        "# 5. 중복값 제거\n",
        "a = [1, 1, 1, 2, 2, 3, 3, 3, 4, 4, 5]\n",
        "print(a)\n",
        "a = list(set(a))\n",
        "print(a)"
      ],
      "execution_count": null,
      "outputs": [
        {
          "output_type": "stream",
          "text": [
            "[1, 1, 1, 2, 2, 3, 3, 3, 4, 4, 5]\n",
            "[1, 2, 3, 4, 5]\n"
          ],
          "name": "stdout"
        }
      ]
    },
    {
      "cell_type": "code",
      "metadata": {
        "id": "E6Z1abFKT_Wb"
      },
      "source": [
        "# 6. shirts!"
      ],
      "execution_count": null,
      "outputs": []
    },
    {
      "cell_type": "code",
      "metadata": {
        "id": "hAaEK96sUNMS",
        "colab": {
          "base_uri": "https://localhost:8080/"
        },
        "outputId": "26644f26-26bd-469a-8857-fa3f112fc346"
      },
      "source": [
        "# 7. 3의 배수합\n",
        "sum = 0\n",
        "count = 0\n",
        "while count<1000:\n",
        "  count = count + 1\n",
        "  if count%3 == 0:\n",
        "    sum += count\n",
        "\n",
        "print(f\"1000이하 3의 배수의 합 = {sum}\")"
      ],
      "execution_count": null,
      "outputs": [
        {
          "output_type": "stream",
          "text": [
            "1000이하 3의 배수의 합 = 166833\n"
          ],
          "name": "stdout"
        }
      ]
    },
    {
      "cell_type": "code",
      "metadata": {
        "colab": {
          "base_uri": "https://localhost:8080/"
        },
        "id": "53F4Yfh0yQak",
        "outputId": "46fb53d4-ce59-4ba7-c86a-6c2831cb047f"
      },
      "source": [
        "a = 6833123112\n",
        "# a = 6,833,123,112\n",
        "print(\"{0:,}\".format(a))\n",
        "print(f\"{a:,}\")"
      ],
      "execution_count": null,
      "outputs": [
        {
          "output_type": "stream",
          "text": [
            "6,833,123,112\n",
            "6,833,123,112\n"
          ],
          "name": "stdout"
        }
      ]
    },
    {
      "cell_type": "code",
      "metadata": {
        "id": "BoslQN6LUx66",
        "colab": {
          "base_uri": "https://localhost:8080/"
        },
        "outputId": "241783e5-292b-46c2-b0a3-7536328ce9f1"
      },
      "source": [
        "# 8. *그리기\n",
        "count = 0\n",
        "while count < 5:\n",
        "  count = count + 1\n",
        "  print('*' * count)"
      ],
      "execution_count": null,
      "outputs": [
        {
          "output_type": "stream",
          "text": [
            "*\n",
            "**\n",
            "***\n",
            "****\n",
            "*****\n"
          ],
          "name": "stdout"
        }
      ]
    },
    {
      "cell_type": "code",
      "metadata": {
        "id": "XMIPG9NzVMup",
        "colab": {
          "base_uri": "https://localhost:8080/"
        },
        "outputId": "61031249-0f70-4b05-be31-da0daa4c4fdc"
      },
      "source": [
        "# 9. 학급 평균\n",
        "scores = [70, 60, 55, 75, 95, 90, 80, 80, 85, 100]\n",
        "sum = 0\n",
        "for score in scores:\n",
        "  sum = sum + score\n",
        "print(f\"평균점수: {sum/len(scores)}\")"
      ],
      "execution_count": null,
      "outputs": [
        {
          "output_type": "stream",
          "text": [
            "평균점수: 79.0\n"
          ],
          "name": "stdout"
        }
      ]
    }
  ]
}