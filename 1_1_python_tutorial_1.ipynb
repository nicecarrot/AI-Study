{
  "nbformat": 4,
  "nbformat_minor": 0,
  "metadata": {
    "colab": {
      "name": "1_1_python_tutorial_1.ipynb",
      "provenance": [],
      "collapsed_sections": [
        "FP_eYHqO6TUx",
        "erTDBJmq7htj",
        "ZTBwldgTJXch"
      ],
      "include_colab_link": true
    },
    "kernelspec": {
      "name": "python3",
      "display_name": "Python 3"
    },
    "language_info": {
      "name": "python"
    }
  },
  "cells": [
    {
      "cell_type": "markdown",
      "metadata": {
        "id": "view-in-github",
        "colab_type": "text"
      },
      "source": [
        "<a href=\"https://colab.research.google.com/github/nicecarrot/AI-Study/blob/main/1_1_python_tutorial_1.ipynb\" target=\"_parent\"><img src=\"https://colab.research.google.com/assets/colab-badge.svg\" alt=\"Open In Colab\"/></a>"
      ]
    },
    {
      "cell_type": "code",
      "metadata": {
        "id": "YnwsrHA1-Vlp"
      },
      "source": [
        ""
      ],
      "execution_count": null,
      "outputs": []
    },
    {
      "cell_type": "markdown",
      "metadata": {
        "id": "QmRY5LQnvHMm"
      },
      "source": [
        "# 1.변수선언 및 출력"
      ]
    },
    {
      "cell_type": "markdown",
      "metadata": {
        "id": "_0cXhsO90MBm"
      },
      "source": [
        "## 1.1 변수 (Variable)\n",
        "\n",
        "어떠한 값(value)을 담는 저장 공간(storage location)과 그에 상응하는 이름(symbolic name)\n",
        "\n",
        "- 첫 문자는 영문 혹은 underscore (_)\n",
        "- 대소문자 구분\n",
        "- 예약어는 변수명으로 사용 불가능. >> 함수명은 변수명으로 사용하지 말 것 !\n",
        "- 값(value)의 의미를 추측할 수 있는 이름을 사용하면 유용함\n",
        "- 변수에 줄 수 있는 값은 숫자, 문자, 다른 데이터타입의 형들이 모두 가능\n",
        "- 변수를 만들고 나면 변수를 저장하는 메모리를 자동으로 생성하고 주소가 생김\n",
        "- 변수는 변할 수 있음\n"
      ]
    },
    {
      "cell_type": "markdown",
      "metadata": {
        "id": "chFqmh6V09V7"
      },
      "source": [
        "### 1.1.1 변수 선언"
      ]
    },
    {
      "cell_type": "code",
      "metadata": {
        "id": "QAo7dOzi1UHj"
      },
      "source": [
        ""
      ],
      "execution_count": null,
      "outputs": []
    },
    {
      "cell_type": "markdown",
      "metadata": {
        "id": "d03q1s9G1aJ0"
      },
      "source": [
        "### 1.1.2 변수 출력"
      ]
    },
    {
      "cell_type": "code",
      "metadata": {
        "id": "XiPzlM1v1ejy"
      },
      "source": [
        ""
      ],
      "execution_count": null,
      "outputs": []
    },
    {
      "cell_type": "markdown",
      "metadata": {
        "id": "R2vLBIgi1y8k"
      },
      "source": [
        "### 1.1.3 변수 복사"
      ]
    },
    {
      "cell_type": "code",
      "metadata": {
        "id": "Jf5v39NZ1tEM"
      },
      "source": [
        ""
      ],
      "execution_count": null,
      "outputs": []
    },
    {
      "cell_type": "code",
      "metadata": {
        "id": "q_5DZ_Cx128A"
      },
      "source": [
        ""
      ],
      "execution_count": null,
      "outputs": []
    },
    {
      "cell_type": "code",
      "metadata": {
        "id": "ZjNnJRE713Im"
      },
      "source": [
        ""
      ],
      "execution_count": null,
      "outputs": []
    },
    {
      "cell_type": "markdown",
      "metadata": {
        "id": "fn9d33PK2VM4"
      },
      "source": [
        "### 1.1.4 변수 선언 방법\n",
        "\n",
        "1. 하나의 변수에 하나의 값을 대입\n",
        "2. 두개의 변수에 같은 값을 대입\n",
        "3. 변수에 변수를 대입\n",
        "\n",
        "(+ 한줄에 여러 변수를 선언하고 싶을 때는 \";\"를 이용한다.)"
      ]
    },
    {
      "cell_type": "code",
      "metadata": {
        "id": "McH2UsoqB2zV"
      },
      "source": [
        ""
      ],
      "execution_count": null,
      "outputs": []
    },
    {
      "cell_type": "code",
      "metadata": {
        "id": "3HLuMfm42V5e"
      },
      "source": [
        ""
      ],
      "execution_count": null,
      "outputs": []
    },
    {
      "cell_type": "code",
      "metadata": {
        "id": "xNoPEn8tCKBN"
      },
      "source": [
        ""
      ],
      "execution_count": null,
      "outputs": []
    },
    {
      "cell_type": "markdown",
      "metadata": {
        "id": "vNn5wjPQ2V-N"
      },
      "source": [
        "# 2.자료형\n"
      ]
    },
    {
      "cell_type": "markdown",
      "metadata": {
        "id": "H-HTtMhmKbmN"
      },
      "source": [
        "- 수치형 (number) : 정수, 실수 등\n",
        "- 문자열 (string) : 문자들의 모임\n",
        "- 리스트 (list) : 순서를 가지는 python 객체의 집합\n",
        "- 사전 (dictionary) : 순서를 가지지 않는 객체의 쌍 (key & value)\n",
        "- 튜플 (tuple) : 순서를 가지는 python 객체의 집합\n",
        "- 집합 (set) : 중복이 없고 순서를 가지지 않는 객체의 집합(집합 관련 데이터 처리)\n",
        "- 부울 (bool) : 참과 거짓을 나타냄"
      ]
    },
    {
      "cell_type": "markdown",
      "metadata": {
        "id": "Ome5ZhTi2WCK"
      },
      "source": [
        "## 2.1 수치형 (number)"
      ]
    },
    {
      "cell_type": "code",
      "metadata": {
        "id": "bNW3RNIl2WFq"
      },
      "source": [
        ""
      ],
      "execution_count": null,
      "outputs": []
    },
    {
      "cell_type": "markdown",
      "metadata": {
        "id": "v53Bdvxq2WJX"
      },
      "source": [
        "### 2.1.1 수치형 연산\n",
        "\n",
        "- 사칙연산 : +  -  * /\n",
        "- 나머지 연산: %\n",
        "- 몫: //\n",
        "- 제곱 연산: ** "
      ]
    },
    {
      "cell_type": "code",
      "metadata": {
        "id": "yVBC_8H14lH4"
      },
      "source": [
        ""
      ],
      "execution_count": null,
      "outputs": []
    },
    {
      "cell_type": "code",
      "metadata": {
        "id": "BK0tseFkDNXw"
      },
      "source": [
        ""
      ],
      "execution_count": null,
      "outputs": []
    },
    {
      "cell_type": "code",
      "metadata": {
        "id": "elxAiYFNDNiN"
      },
      "source": [
        ""
      ],
      "execution_count": null,
      "outputs": []
    },
    {
      "cell_type": "code",
      "metadata": {
        "id": "g7U92REZDNnz"
      },
      "source": [
        ""
      ],
      "execution_count": null,
      "outputs": []
    },
    {
      "cell_type": "code",
      "metadata": {
        "id": "qnCK6gktDNtG"
      },
      "source": [
        ""
      ],
      "execution_count": null,
      "outputs": []
    },
    {
      "cell_type": "code",
      "metadata": {
        "id": "aM8Zk72wDgLw"
      },
      "source": [
        ""
      ],
      "execution_count": null,
      "outputs": []
    },
    {
      "cell_type": "markdown",
      "metadata": {
        "id": "U-VKoFYX4U6r"
      },
      "source": [
        "### 2.1.2 수치형 관련 함수\n",
        "\n",
        "자주 사용하는 함수형 연산\n",
        "- abs()\n",
        "- int()\n",
        "- float()\n",
        "- pow()"
      ]
    },
    {
      "cell_type": "code",
      "metadata": {
        "id": "IcXFnltZ4lqj"
      },
      "source": [
        ""
      ],
      "execution_count": null,
      "outputs": []
    },
    {
      "cell_type": "code",
      "metadata": {
        "id": "IEjlB814D94r"
      },
      "source": [
        ""
      ],
      "execution_count": null,
      "outputs": []
    },
    {
      "cell_type": "code",
      "metadata": {
        "id": "aOx5E0iSD-Db"
      },
      "source": [
        ""
      ],
      "execution_count": null,
      "outputs": []
    },
    {
      "cell_type": "code",
      "metadata": {
        "id": "yCaBZJieD-NM"
      },
      "source": [
        ""
      ],
      "execution_count": null,
      "outputs": []
    },
    {
      "cell_type": "markdown",
      "metadata": {
        "id": "8Rvv9RgN4l5e"
      },
      "source": [
        "## 2.2 문자열 (string)\n",
        "\n",
        "문자, 단어 등으로 구성된 문자들의 집합을 의미함"
      ]
    },
    {
      "cell_type": "markdown",
      "metadata": {
        "id": "v42bq8M65Jwy"
      },
      "source": [
        "### 2.2.1 문자열 입력 방법\n",
        "\n",
        "1. ' '\n",
        "2. \" \"\n",
        "3. ''' '''\n",
        "4. \"\"\" \"\"\"\n",
        "\n",
        "[why?] 이렇게 여러가지 방법을 만들었을까?"
      ]
    },
    {
      "cell_type": "code",
      "metadata": {
        "id": "ZUqpJRjAJCeD"
      },
      "source": [
        ""
      ],
      "execution_count": null,
      "outputs": []
    },
    {
      "cell_type": "code",
      "metadata": {
        "id": "-b2muBiuEfU1"
      },
      "source": [
        ""
      ],
      "execution_count": null,
      "outputs": []
    },
    {
      "cell_type": "code",
      "metadata": {
        "id": "W-4hzq_oEfMt"
      },
      "source": [
        ""
      ],
      "execution_count": null,
      "outputs": []
    },
    {
      "cell_type": "code",
      "metadata": {
        "id": "5L8Iq61PEfC9"
      },
      "source": [
        ""
      ],
      "execution_count": null,
      "outputs": []
    },
    {
      "cell_type": "markdown",
      "metadata": {
        "id": "zYKraFef5YWR"
      },
      "source": [
        "### 2.2.2 이스케이프코드\n",
        "\n",
        "미리 정의해 둔 '문자 조합 >> 출력물을 보기 좋게 만드는 용도 ! (print()와 함께 사용)\n",
        "\n",
        "- 줄바꿈 : \\n\n",
        "- 탭 : \\t\n",
        "- \\: \\\\\n",
        "- ' : \\'\n",
        "- \" : \\\""
      ]
    },
    {
      "cell_type": "code",
      "metadata": {
        "id": "gs8IUAIUFmu6"
      },
      "source": [
        ""
      ],
      "execution_count": null,
      "outputs": []
    },
    {
      "cell_type": "code",
      "metadata": {
        "colab": {
          "base_uri": "https://localhost:8080/"
        },
        "id": "_npjCLuS50aw",
        "outputId": "9b215da7-3f4c-47ab-bdd2-8f2f84b66045"
      },
      "source": [
        "# 어떻게 하면 아래 결과가 나올까요~~~?\n",
        "# sentence를 하나의 문자열로 선언하여 아래의 출력 결과를 만들어 봅시다.\n",
        "sentence = \"\"\n",
        "print(sentence)"
      ],
      "execution_count": null,
      "outputs": [
        {
          "output_type": "stream",
          "text": [
            "커피 하 잔\n",
            "매실차 두 잔\n",
            "'커피콩빵도 있잖아?'\t\"강릉 커피콩빵이랑 비교해보자\"\n"
          ],
          "name": "stdout"
        }
      ]
    },
    {
      "cell_type": "markdown",
      "metadata": {
        "id": "FP_eYHqO6TUx"
      },
      "source": [
        "### 정답은 아래!"
      ]
    },
    {
      "cell_type": "code",
      "metadata": {
        "id": "1lPCg0E46aWE"
      },
      "source": [
        "sentence = \"커피 한 잔\\n매실차 두 잔\\n\\'커피콩빵도 있잖아?\\'\\t\\\"강릉 커피콩빵이랑 비교해보자!\\\""
      ],
      "execution_count": null,
      "outputs": []
    },
    {
      "cell_type": "markdown",
      "metadata": {
        "id": "vBgTveRU6ap2"
      },
      "source": [
        "### 2.2.3 문자열 연산\n",
        "\n",
        "문자열도 숫자형처럼 연산이 가능합니다."
      ]
    },
    {
      "cell_type": "code",
      "metadata": {
        "id": "201FD9ba6a2y"
      },
      "source": [
        ""
      ],
      "execution_count": null,
      "outputs": []
    },
    {
      "cell_type": "code",
      "metadata": {
        "colab": {
          "base_uri": "https://localhost:8080/"
        },
        "id": "nrJwyfMB7hlj",
        "outputId": "84793b34-377a-4966-d12c-0ce0ad0b1cd9"
      },
      "source": [
        "# 어떻게 하면 아래 결과가 나올까요~~~?\n",
        "# 문자열 곱셈과 문자열 덧셈을 이용해 아래 모양을 만들어봅시다.\n",
        "sentence = \n",
        "print(sentence)"
      ],
      "execution_count": null,
      "outputs": [
        {
          "output_type": "stream",
          "text": [
            "==============================\n",
            "파이썬 하루만에 끝내보자!\n",
            "==============================\n"
          ],
          "name": "stdout"
        }
      ]
    },
    {
      "cell_type": "markdown",
      "metadata": {
        "id": "erTDBJmq7htj"
      },
      "source": [
        "### 정답은 아래에"
      ]
    },
    {
      "cell_type": "code",
      "metadata": {
        "id": "-zqLrRfm8j1K"
      },
      "source": [
        "sentence = '='*30 + '\\n파이썬 하루만에 끝내보자!\\n' + '='*30"
      ],
      "execution_count": null,
      "outputs": []
    },
    {
      "cell_type": "markdown",
      "metadata": {
        "id": "Dz-w-F2R7QjP"
      },
      "source": [
        "### 2.2.4 문자열 인덱싱\n",
        "\n",
        "index = 색인 = 찾아보기\n",
        "\n",
        "- 순방향 인덱스: 0 부터 시작\n",
        "- 역방향 인덱스: -1 부터 시작\n",
        "- 문자열[인덱스]로 호출"
      ]
    },
    {
      "cell_type": "code",
      "metadata": {
        "id": "mTnfsjYG9TJY"
      },
      "source": [
        ""
      ],
      "execution_count": null,
      "outputs": []
    },
    {
      "cell_type": "code",
      "metadata": {
        "id": "wZABv7ab9TSs"
      },
      "source": [
        ""
      ],
      "execution_count": null,
      "outputs": []
    },
    {
      "cell_type": "code",
      "metadata": {
        "id": "WUZfbKLQ9TY3"
      },
      "source": [
        "### 문자열 인덱싱으로, 문자열을 변경할 수 있나요?\n"
      ],
      "execution_count": null,
      "outputs": []
    },
    {
      "cell_type": "markdown",
      "metadata": {
        "id": "m4pD7dOj9TuP"
      },
      "source": [
        "### 2.2.5 문자열 슬라이싱\n",
        "\n",
        "slicing = 잘라내기\n",
        "\n",
        "- 문자열[인덱스1:인덱스2]로 호출 (인덱스1 이상, 인덱스2 미만)"
      ]
    },
    {
      "cell_type": "code",
      "metadata": {
        "id": "z4SfSH8WAj2b"
      },
      "source": [
        ""
      ],
      "execution_count": null,
      "outputs": []
    },
    {
      "cell_type": "markdown",
      "metadata": {
        "id": "SjqbCDY-9Twk"
      },
      "source": [
        "### 2.2.6 문자열 포맷팅\n",
        "\n",
        "1. % 포맷팅 (c 스타일, %d: 정수 / %f: 실수 / %s: 문자열)\n",
        "2. '{}'.format\n",
        "3. f-string"
      ]
    },
    {
      "cell_type": "code",
      "metadata": {
        "id": "eJbcdycTAkgf"
      },
      "source": [
        "# % 포맷팅\n"
      ],
      "execution_count": null,
      "outputs": []
    },
    {
      "cell_type": "code",
      "metadata": {
        "id": "8ymBs226HdJM"
      },
      "source": [
        "# {}.format() / {index}.format(), / {variable}.format(variable=)\n"
      ],
      "execution_count": null,
      "outputs": []
    },
    {
      "cell_type": "code",
      "metadata": {
        "id": "MHFLvalaHlAX"
      },
      "source": [
        "# f-string\n"
      ],
      "execution_count": null,
      "outputs": []
    },
    {
      "cell_type": "markdown",
      "metadata": {
        "id": "kD-eFMq5AlSq"
      },
      "source": [
        "### 2.2.7 문자열 관련 함수\n",
        "\n",
        "- len(x)\n",
        "\n",
        "\n",
        "- .count(x)\n",
        "- .find(x)\n",
        "- .join(x)\n",
        "- .upper()\n",
        "- .lower()\n",
        "- .replace(a, b)\n",
        "- .split()"
      ]
    },
    {
      "cell_type": "code",
      "metadata": {
        "id": "1oyrDsxWCwjw"
      },
      "source": [
        ""
      ],
      "execution_count": null,
      "outputs": []
    },
    {
      "cell_type": "code",
      "metadata": {
        "id": "9BQdy7fDSI3g"
      },
      "source": [
        ""
      ],
      "execution_count": null,
      "outputs": []
    },
    {
      "cell_type": "code",
      "metadata": {
        "id": "V4k3loFHSItv"
      },
      "source": [
        ""
      ],
      "execution_count": null,
      "outputs": []
    },
    {
      "cell_type": "code",
      "metadata": {
        "id": "exPR5klPTOT6"
      },
      "source": [
        ""
      ],
      "execution_count": null,
      "outputs": []
    },
    {
      "cell_type": "code",
      "metadata": {
        "id": "Hs0DGhisTfdS"
      },
      "source": [
        ""
      ],
      "execution_count": null,
      "outputs": []
    },
    {
      "cell_type": "code",
      "metadata": {
        "id": "3TKHCuYTT4eh"
      },
      "source": [
        ""
      ],
      "execution_count": null,
      "outputs": []
    },
    {
      "cell_type": "markdown",
      "metadata": {
        "id": "sZfzqS9ZHywA"
      },
      "source": [
        "## 2.3 리스트 (list)"
      ]
    },
    {
      "cell_type": "markdown",
      "metadata": {
        "id": "2oOeqW3NJXMH"
      },
      "source": [
        "여러 자료형을 담을 수 있고, 여러 요소를 하나의 변수로 사용하고 싶을 때 사용.\n",
        "\n",
        "- [ ]를 사용해서 초기화\n",
        "- 리스트 또한 인덱싱과 슬라이싱 가능\n",
        "- 다차원 배열 표현 가능 << 리스트 안에 리스트\n",
        "- 리스트 안의 원소는 리스트, 집합, 딕셔너리 등도 가능"
      ]
    },
    {
      "cell_type": "code",
      "metadata": {
        "id": "GMLTJ6ewJNJl"
      },
      "source": [
        ""
      ],
      "execution_count": null,
      "outputs": []
    },
    {
      "cell_type": "markdown",
      "metadata": {
        "id": "EnmBGAM3JXU9"
      },
      "source": [
        "### 2.3.1 리스트의 인덱싱과 슬라이싱"
      ]
    },
    {
      "cell_type": "code",
      "metadata": {
        "id": "RgYvipWLJNlX"
      },
      "source": [
        ""
      ],
      "execution_count": null,
      "outputs": []
    },
    {
      "cell_type": "code",
      "metadata": {
        "colab": {
          "base_uri": "https://localhost:8080/"
        },
        "id": "pOAJnTUNjL8z",
        "outputId": "db2df35d-6b22-48c7-f982-4400ee9dbf53"
      },
      "source": [
        "# 어떻게 하면 아래 결과가 나올까요~~~?\n",
        "# 리스트의 인덱싱과 슬라이싱을 이용해 봅시다.\n",
        "myList = [1, 5.2, 2*3, ['coffee', 'water', ['매실차', '유자차']]]\n",
        "\n",
        "print(myList[])"
      ],
      "execution_count": null,
      "outputs": [
        {
          "output_type": "stream",
          "text": [
            "매실\n"
          ],
          "name": "stdout"
        }
      ]
    },
    {
      "cell_type": "markdown",
      "metadata": {
        "id": "ZTBwldgTJXch"
      },
      "source": [
        "### 정답은 아래"
      ]
    },
    {
      "cell_type": "code",
      "metadata": {
        "id": "iFNK7XY4j8uh"
      },
      "source": [
        "myList[-1][-1][0][:2]"
      ],
      "execution_count": null,
      "outputs": []
    },
    {
      "cell_type": "markdown",
      "metadata": {
        "id": "ZvUhLu5ZkM5c"
      },
      "source": [
        "### 2.3.2 리스트의 연산"
      ]
    },
    {
      "cell_type": "code",
      "metadata": {
        "id": "ysW-sJ30kRSs"
      },
      "source": [
        ""
      ],
      "execution_count": null,
      "outputs": []
    },
    {
      "cell_type": "markdown",
      "metadata": {
        "id": "S7DTXi5wkRl-"
      },
      "source": [
        "### 2.3.3 리스트의 수정"
      ]
    },
    {
      "cell_type": "code",
      "metadata": {
        "id": "DD0VNatWkUSc"
      },
      "source": [
        "### 리스트 인덱싱으로, 리스트를 변경할 수 있나요?\n"
      ],
      "execution_count": null,
      "outputs": []
    },
    {
      "cell_type": "markdown",
      "metadata": {
        "id": "VAkIafrDkZUd"
      },
      "source": [
        "### 2.3.4 리스트 관련 함수\n",
        "\n",
        "- append(x)\n",
        "- extend(x)\n",
        "- sort()\n",
        "- reverse()\n",
        "- insert(a, b) : a는 index, b는 값\n",
        "- remove(x)\n",
        "- pop()\n",
        "- count(x)\n",
        "\n",
        "\n",
        "- del"
      ]
    },
    {
      "cell_type": "code",
      "metadata": {
        "id": "UBC0zJUWk8nQ"
      },
      "source": [
        ""
      ],
      "execution_count": null,
      "outputs": []
    },
    {
      "cell_type": "code",
      "metadata": {
        "id": "JQ2ZtCcOb1Am"
      },
      "source": [
        ""
      ],
      "execution_count": null,
      "outputs": []
    },
    {
      "cell_type": "code",
      "metadata": {
        "id": "4JCk7FMhnFT9"
      },
      "source": [
        "# 리스트 관련 함수 예제 1\n",
        "myList = [1,2,3,4,5]\n",
        "\n",
        "print(myList)\n",
        "# 결과 : [1, 2, 6, 3, 4, 5]"
      ],
      "execution_count": null,
      "outputs": []
    },
    {
      "cell_type": "code",
      "metadata": {
        "id": "n6R9zaOfnFig"
      },
      "source": [
        "# 리스트 관련 함수 예제 2\n",
        "myList = [3,4,1,2,5]\n",
        "\n",
        "print(myList)\n",
        "# 결과 : [5,4,3,2,1]"
      ],
      "execution_count": null,
      "outputs": []
    },
    {
      "cell_type": "code",
      "metadata": {
        "colab": {
          "base_uri": "https://localhost:8080/"
        },
        "id": "ZSHKb4xToZyY",
        "outputId": "4b127f9e-3115-4162-bb22-03cc7d222e31"
      },
      "source": [
        "# 리스트 관련 함수 예제 3\n",
        "myList = [1,2,3]\n",
        "\n",
        "print(myList)\n",
        "# 결과 : [1, 2, 3, 4, 5, 6]"
      ],
      "execution_count": null,
      "outputs": [
        {
          "output_type": "stream",
          "text": [
            "[1, 2, 3, 4, 5, 6]\n"
          ],
          "name": "stdout"
        }
      ]
    },
    {
      "cell_type": "markdown",
      "metadata": {
        "id": "pTzX50g8JXkf"
      },
      "source": [
        "## 2.4 사전 (dictionary)"
      ]
    },
    {
      "cell_type": "markdown",
      "metadata": {
        "id": "pB0OHjgFonZF"
      },
      "source": [
        "대응 관계를 나타내는 자료형\n",
        "\n",
        "- { }를 사용해서 초기화.\n",
        "- 순서를 따지지 않음.\n",
        "- key:value 의 쌍으로 이루어짐.\n",
        "- key는 숫자형 혹은 문자열. 중복 불가능.\n",
        "- value는 숫자형, 문자형, 리스트형, 사전형 등 대부분의 형식 가능."
      ]
    },
    {
      "cell_type": "code",
      "metadata": {
        "id": "imzqrKh0onuu"
      },
      "source": [
        ""
      ],
      "execution_count": null,
      "outputs": []
    },
    {
      "cell_type": "code",
      "metadata": {
        "id": "9_sdYVnMfA7H"
      },
      "source": [
        ""
      ],
      "execution_count": null,
      "outputs": []
    },
    {
      "cell_type": "code",
      "metadata": {
        "id": "HtgcatuJfnX9"
      },
      "source": [
        ""
      ],
      "execution_count": null,
      "outputs": []
    },
    {
      "cell_type": "code",
      "metadata": {
        "id": "owCzUhuUfNYb"
      },
      "source": [
        ""
      ],
      "execution_count": null,
      "outputs": []
    },
    {
      "cell_type": "code",
      "metadata": {
        "id": "GPO741TOfan2"
      },
      "source": [
        ""
      ],
      "execution_count": null,
      "outputs": []
    },
    {
      "cell_type": "markdown",
      "metadata": {
        "id": "E5x9Poh4on6t"
      },
      "source": [
        "### 2.4.1 사전의 수정"
      ]
    },
    {
      "cell_type": "code",
      "metadata": {
        "colab": {
          "base_uri": "https://localhost:8080/"
        },
        "id": "uPErgUNufmAP",
        "outputId": "9a3ef682-99ee-431b-b94e-6814a915fb50"
      },
      "source": [
        ""
      ],
      "execution_count": null,
      "outputs": [
        {
          "output_type": "stream",
          "text": [
            "{1: {'jihoon': 'jack'}, 'phone': '01084398900'}\n",
            "{'phone': '01084398900'}\n"
          ],
          "name": "stdout"
        }
      ]
    },
    {
      "cell_type": "markdown",
      "metadata": {
        "id": "vXL_KU7PooNi"
      },
      "source": [
        "### 2.4.2 사전 관련 함수\n",
        "\n",
        "- keys()\n",
        "- values()\n",
        "- items()\n",
        "- clear()\n",
        "- get()\n",
        "\n",
        "\n",
        "- del\n",
        "- in"
      ]
    },
    {
      "cell_type": "code",
      "metadata": {
        "id": "vpsiDeMuooE7"
      },
      "source": [
        ""
      ],
      "execution_count": null,
      "outputs": []
    },
    {
      "cell_type": "code",
      "metadata": {
        "id": "ldJIjLbSooVT"
      },
      "source": [
        ""
      ],
      "execution_count": null,
      "outputs": []
    },
    {
      "cell_type": "code",
      "metadata": {
        "id": "tIEGFJUphAyh"
      },
      "source": [
        ""
      ],
      "execution_count": null,
      "outputs": []
    },
    {
      "cell_type": "code",
      "metadata": {
        "id": "8C-No-AyhBDt"
      },
      "source": [
        ""
      ],
      "execution_count": null,
      "outputs": []
    },
    {
      "cell_type": "code",
      "metadata": {
        "colab": {
          "base_uri": "https://localhost:8080/"
        },
        "id": "bvYh_N0xqyQe",
        "outputId": "0e17f6d5-42ee-438b-9188-49c3aa711e9f"
      },
      "source": [
        "# 사전 관련 함수 예제\n",
        "myDict = {'coffee': 4000, 'water': 2000, 'milk': 2500}\n",
        "\n",
        "\"\"\"\n",
        "myDict에 cake 목록(아래)을 추가하고, 결과를 확인해보세요!\n",
        "choco : 2000\n",
        "banana : 4000\n",
        "straw berry : 5000\n",
        "\"\"\"\n",
        "\n",
        "print(myDict['cake']['choco'])\n",
        "print(myDict['cake'].keys())\n",
        "print('mint choco' in myDict['cake'])"
      ],
      "execution_count": null,
      "outputs": [
        {
          "output_type": "stream",
          "text": [
            "2000\n",
            "dict_keys(['choco', 'banana', 'straw berry'])\n",
            "False\n"
          ],
          "name": "stdout"
        }
      ]
    },
    {
      "cell_type": "markdown",
      "metadata": {
        "id": "8bpiHHVoJXsI"
      },
      "source": [
        "## 2.5 튜플 (tuple)"
      ]
    },
    {
      "cell_type": "markdown",
      "metadata": {
        "id": "4_LagDa7ueQe"
      },
      "source": [
        "리스트와 비슷하지만, 값을 추가, 삭제, 수정할 수 없음!\n",
        "\n",
        "- ( )를 이용하여 초기화 (( ) 없이도 선언 가능)\n",
        "- 값 한개를 가질 때는 마지막에 \",\"를 써줘야 함\n",
        "- 수정해서는 안되는 값들을 저장할 때 사용"
      ]
    },
    {
      "cell_type": "code",
      "metadata": {
        "id": "hKuJY3-CueeR"
      },
      "source": [
        ""
      ],
      "execution_count": null,
      "outputs": []
    },
    {
      "cell_type": "code",
      "metadata": {
        "id": "rpsBlsz2z4pN"
      },
      "source": [
        ""
      ],
      "execution_count": null,
      "outputs": []
    },
    {
      "cell_type": "markdown",
      "metadata": {
        "id": "KzXlpznvJjPt"
      },
      "source": [
        "## 2.6 집합 (set)"
      ]
    },
    {
      "cell_type": "markdown",
      "metadata": {
        "id": "uQzFXX4JfxJF"
      },
      "source": [
        "집합 관련 자료를 쉽게 처리하기 위해 만든 자료형\n",
        "\n",
        "- { }을 사용해서 초기화\n",
        "- 중복을 허용하지 않고 순서가 없음 >> 인덱싱 x\n",
        "- 순서를 사용하고 싶다면, list나 tuple로 변형"
      ]
    },
    {
      "cell_type": "code",
      "metadata": {
        "id": "WRRMqefKgGvT"
      },
      "source": [
        ""
      ],
      "execution_count": null,
      "outputs": []
    },
    {
      "cell_type": "code",
      "metadata": {
        "id": "KTwstoCs018G"
      },
      "source": [
        ""
      ],
      "execution_count": null,
      "outputs": []
    },
    {
      "cell_type": "markdown",
      "metadata": {
        "id": "ArWO4uv3gKpU"
      },
      "source": [
        "### 2.6.1 합집합, 교집합, 차집합\n",
        "\n",
        "- 합집합 : |\n",
        "- 교집합 : &\n",
        "- 차집합 : -"
      ]
    },
    {
      "cell_type": "code",
      "metadata": {
        "id": "HBr1xAL4gREK"
      },
      "source": [
        ""
      ],
      "execution_count": null,
      "outputs": []
    },
    {
      "cell_type": "markdown",
      "metadata": {
        "id": "Q9RMsFKygR7b"
      },
      "source": [
        "### 2.6.2 집합 관련 함수\n",
        "\n",
        "- .add()\n",
        "- .updata()\n",
        "- .remove()\n",
        "- .union()\n",
        "- .defference()"
      ]
    },
    {
      "cell_type": "code",
      "metadata": {
        "id": "Cx8sgFtzgYyq"
      },
      "source": [
        ""
      ],
      "execution_count": null,
      "outputs": []
    },
    {
      "cell_type": "markdown",
      "metadata": {
        "id": "qTpAQiTEJjXR"
      },
      "source": [
        "## 2.7 부울 (bool)"
      ]
    },
    {
      "cell_type": "markdown",
      "metadata": {
        "id": "-tz8NWENg4F7"
      },
      "source": [
        "참과 거짓을 나타내는 자료형\n",
        "\n",
        "- True / False\n",
        "- 주로 조건문의 반환 값으로 사용"
      ]
    },
    {
      "cell_type": "code",
      "metadata": {
        "id": "NkSNQryYg4oZ"
      },
      "source": [
        ""
      ],
      "execution_count": null,
      "outputs": []
    },
    {
      "cell_type": "code",
      "metadata": {
        "id": "2lsyCFEgj8uW"
      },
      "source": [
        ""
      ],
      "execution_count": null,
      "outputs": []
    },
    {
      "cell_type": "markdown",
      "metadata": {
        "id": "UKjSyC3_h2oy"
      },
      "source": [
        "## 2.8 input 함수"
      ]
    },
    {
      "cell_type": "markdown",
      "metadata": {
        "id": "QcfJ_6Jkh-4J"
      },
      "source": [
        "문자열을 띄워 질문하고 사용자의 입력값을 받음"
      ]
    },
    {
      "cell_type": "code",
      "metadata": {
        "id": "uHrF4v2nhSHq"
      },
      "source": [
        ""
      ],
      "execution_count": null,
      "outputs": []
    },
    {
      "cell_type": "code",
      "metadata": {
        "id": "A3HXPyKp4f9h"
      },
      "source": [
        ""
      ],
      "execution_count": null,
      "outputs": []
    },
    {
      "cell_type": "markdown",
      "metadata": {
        "id": "cVu7mmaFJjkD"
      },
      "source": [
        "# 3.제어문"
      ]
    },
    {
      "cell_type": "markdown",
      "metadata": {
        "id": "VdZWjmvYKoCh"
      },
      "source": [
        "## 3.1 조건문 (if 문)"
      ]
    },
    {
      "cell_type": "markdown",
      "metadata": {
        "id": "58MkBz-u4-QA"
      },
      "source": [
        "참과 거짓을 판단하는 문장\n",
        "\n",
        "- 조건이 참일 경우 실행\n",
        "- 조건이 거짓일 경우 pass\n",
        "- 들여쓰기(indent) 주의\n",
        "- 콜론 주의"
      ]
    },
    {
      "cell_type": "code",
      "metadata": {
        "id": "8gONg4644-vH"
      },
      "source": [
        ""
      ],
      "execution_count": null,
      "outputs": []
    },
    {
      "cell_type": "code",
      "metadata": {
        "id": "Keco_2wx7B4K"
      },
      "source": [
        ""
      ],
      "execution_count": null,
      "outputs": []
    },
    {
      "cell_type": "markdown",
      "metadata": {
        "id": "FBzAgD7Lj8MJ"
      },
      "source": [
        "### 3.1.1 관계연산자\n",
        "\n",
        "- ==\n",
        "- !=\n",
        "- <\n",
        "- \\>\n",
        "- <=\n",
        "- \\>="
      ]
    },
    {
      "cell_type": "code",
      "metadata": {
        "id": "BGHSN7SA5thc"
      },
      "source": [
        ""
      ],
      "execution_count": null,
      "outputs": []
    },
    {
      "cell_type": "markdown",
      "metadata": {
        "id": "hBAWoR5x5uHD"
      },
      "source": [
        "### 3.1.2 논리 연산자\n",
        "\n",
        "- not\n",
        "- and\n",
        "- or"
      ]
    },
    {
      "cell_type": "code",
      "metadata": {
        "id": "LJTfVIPW5v6K"
      },
      "source": [
        ""
      ],
      "execution_count": null,
      "outputs": []
    },
    {
      "cell_type": "code",
      "metadata": {
        "id": "ABNVNkVF8Fa3"
      },
      "source": [
        ""
      ],
      "execution_count": null,
      "outputs": []
    },
    {
      "cell_type": "markdown",
      "metadata": {
        "id": "lNJU42pV58CU"
      },
      "source": [
        "### 3.1.3 if/else 문"
      ]
    },
    {
      "cell_type": "code",
      "metadata": {
        "id": "y2HapeuH6B78"
      },
      "source": [
        ""
      ],
      "execution_count": null,
      "outputs": []
    },
    {
      "cell_type": "code",
      "metadata": {
        "id": "h4SDhDrK8jms"
      },
      "source": [
        ""
      ],
      "execution_count": null,
      "outputs": []
    },
    {
      "cell_type": "markdown",
      "metadata": {
        "id": "Hdz5d1cX6CSc"
      },
      "source": [
        "### 3.1.4 in / not in"
      ]
    },
    {
      "cell_type": "code",
      "metadata": {
        "id": "y6qWYrKe6ZaD"
      },
      "source": [
        ""
      ],
      "execution_count": null,
      "outputs": []
    },
    {
      "cell_type": "markdown",
      "metadata": {
        "id": "wznNhlel6PWU"
      },
      "source": [
        "### 3.1.5 pass\n",
        "\n",
        "조건을 만족하지만 아무 일도 수행하고 싶지 않을 때, 사용"
      ]
    },
    {
      "cell_type": "code",
      "metadata": {
        "id": "edD6URFq6Y_j"
      },
      "source": [
        ""
      ],
      "execution_count": null,
      "outputs": []
    },
    {
      "cell_type": "markdown",
      "metadata": {
        "id": "CUwPCNY46gDj"
      },
      "source": [
        "### 3.1.6 elif 문\n",
        "\n",
        "다양한 조건을 사용할 때 사용"
      ]
    },
    {
      "cell_type": "code",
      "metadata": {
        "id": "sD4lnJD86gcU"
      },
      "source": [
        ""
      ],
      "execution_count": null,
      "outputs": []
    },
    {
      "cell_type": "markdown",
      "metadata": {
        "id": "XVCMyDlbKoM6"
      },
      "source": [
        "## 3.2 반복문 -1 (while 문)"
      ]
    },
    {
      "cell_type": "markdown",
      "metadata": {
        "id": "0cG3NdRV4_N-"
      },
      "source": [
        "조건을 만족하는 한, 반복적으로 실행시키는 문장\n",
        "\n",
        "(! 무한반복되지 않도록 주의)"
      ]
    },
    {
      "cell_type": "code",
      "metadata": {
        "id": "nHJq5CoH4_eW"
      },
      "source": [
        ""
      ],
      "execution_count": null,
      "outputs": []
    },
    {
      "cell_type": "markdown",
      "metadata": {
        "id": "lNPeNb6D7xfy"
      },
      "source": [
        "### 3.2.1 break문"
      ]
    },
    {
      "cell_type": "code",
      "metadata": {
        "id": "Kzonm-Sr7wqD"
      },
      "source": [
        ""
      ],
      "execution_count": null,
      "outputs": []
    },
    {
      "cell_type": "markdown",
      "metadata": {
        "id": "ofFW9mXX77Uo"
      },
      "source": [
        "### 3.2.2 continue문"
      ]
    },
    {
      "cell_type": "code",
      "metadata": {
        "id": "lG2ogBns8BUK"
      },
      "source": [
        ""
      ],
      "execution_count": null,
      "outputs": []
    },
    {
      "cell_type": "markdown",
      "metadata": {
        "id": "pqZIuJd68Bmh"
      },
      "source": [
        "### 3.2.3 무한루프"
      ]
    },
    {
      "cell_type": "code",
      "metadata": {
        "id": "5MA0AIfq8Vly"
      },
      "source": [
        ""
      ],
      "execution_count": null,
      "outputs": []
    },
    {
      "cell_type": "markdown",
      "metadata": {
        "id": "tm7isAXVKoVy"
      },
      "source": [
        "## 3.3 반목문 -2 (for 문)"
      ]
    },
    {
      "cell_type": "markdown",
      "metadata": {
        "id": "7og4WNCd5BGt"
      },
      "source": [
        "시퀀스 자료를 이용하여 원하는 일을 반복 수행할 때 사용."
      ]
    },
    {
      "cell_type": "code",
      "metadata": {
        "id": "fk4mAnl_5Bw3"
      },
      "source": [
        ""
      ],
      "execution_count": null,
      "outputs": []
    },
    {
      "cell_type": "markdown",
      "metadata": {
        "id": "-2VyEtkn8oeX"
      },
      "source": [
        "### 3.3.1 range함수"
      ]
    },
    {
      "cell_type": "code",
      "metadata": {
        "id": "C571IKGg8o73"
      },
      "source": [
        ""
      ],
      "execution_count": null,
      "outputs": []
    },
    {
      "cell_type": "code",
      "metadata": {
        "id": "dSCVVpFwHGu2"
      },
      "source": [
        ""
      ],
      "execution_count": null,
      "outputs": []
    },
    {
      "cell_type": "code",
      "metadata": {
        "id": "7Ibi_lnqIBdG"
      },
      "source": [
        ""
      ],
      "execution_count": null,
      "outputs": []
    },
    {
      "cell_type": "markdown",
      "metadata": {
        "id": "dvYWIzfrjLJ3"
      },
      "source": [
        "# 4.표현식(Comprehension)"
      ]
    },
    {
      "cell_type": "markdown",
      "metadata": {
        "id": "N0I2hhWmEFhb"
      },
      "source": [
        "다른 언어에서는 잘 볼 수 없는 파이썬만의 편리한 문법\n",
        "\n",
        "list, set, dictionary 안에서 for문과 if문을 사용하여, 원소들을 구성하는 방법"
      ]
    },
    {
      "cell_type": "markdown",
      "metadata": {
        "id": "keUEKAKB7CO6"
      },
      "source": [
        "## 4.1 if문 표현식"
      ]
    },
    {
      "cell_type": "code",
      "metadata": {
        "id": "TwJ73-_fDwjO"
      },
      "source": [
        ""
      ],
      "execution_count": null,
      "outputs": []
    },
    {
      "cell_type": "markdown",
      "metadata": {
        "id": "k7KnCBSAjSqA"
      },
      "source": [
        "## 4.2 List Comprehension\n",
        "\n",
        "- [item **for** item **in** iterable]\n",
        "- [item **for** item **in** iterable **if** condition]"
      ]
    },
    {
      "cell_type": "code",
      "metadata": {
        "id": "Hs8wqkMrDxvM"
      },
      "source": [
        ""
      ],
      "execution_count": null,
      "outputs": []
    },
    {
      "cell_type": "code",
      "metadata": {
        "id": "zMSdfmpoE_N7"
      },
      "source": [
        ""
      ],
      "execution_count": null,
      "outputs": []
    },
    {
      "cell_type": "markdown",
      "metadata": {
        "id": "y1R9aMvWjSax"
      },
      "source": [
        "## 4.3 Set Comprehension"
      ]
    },
    {
      "cell_type": "markdown",
      "metadata": {
        "id": "K3T2cBlYFIDx"
      },
      "source": [
        "- {item **for** item **in** iterable}\n",
        "- {item **for** item **in** iterable **if** condition}"
      ]
    },
    {
      "cell_type": "code",
      "metadata": {
        "id": "6XyPXKiJDyRE"
      },
      "source": [
        ""
      ],
      "execution_count": null,
      "outputs": []
    },
    {
      "cell_type": "markdown",
      "metadata": {
        "id": "HQhWoEqnjSNY"
      },
      "source": [
        "## 4.4 Dictionary Comprehension"
      ]
    },
    {
      "cell_type": "markdown",
      "metadata": {
        "id": "hfXwqmY8Fr3i"
      },
      "source": [
        "- {key : value **for** item **in** iterable}\n",
        "- {key : value **for** item **in** iterable **if** condition}"
      ]
    },
    {
      "cell_type": "code",
      "metadata": {
        "id": "jNvZIZPUDynd"
      },
      "source": [
        ""
      ],
      "execution_count": null,
      "outputs": []
    },
    {
      "cell_type": "code",
      "metadata": {
        "id": "FcgXP3yrHkqJ"
      },
      "source": [
        ""
      ],
      "execution_count": null,
      "outputs": []
    },
    {
      "cell_type": "code",
      "metadata": {
        "id": "_UeBv7FSHkNO"
      },
      "source": [
        ""
      ],
      "execution_count": null,
      "outputs": []
    },
    {
      "cell_type": "markdown",
      "metadata": {
        "id": "uSjMhFa3iK0i"
      },
      "source": [
        "# 5.자료형과 제어문 활용 예제"
      ]
    },
    {
      "cell_type": "code",
      "metadata": {
        "id": "9o0ZrOO9Hk0W"
      },
      "source": [
        "# 1. 홍길동 평균 점수\n",
        "# 국어 80, 영어 75, 수학 55\n"
      ],
      "execution_count": null,
      "outputs": []
    },
    {
      "cell_type": "code",
      "metadata": {
        "id": "xSkdmsKaQCln"
      },
      "source": [
        "# 2. 짝수 홀수 판별\n"
      ],
      "execution_count": null,
      "outputs": []
    },
    {
      "cell_type": "code",
      "metadata": {
        "id": "Gej7bCO9Sx4M"
      },
      "source": [
        "# 3. 주민등록번호 성별 숫자 인덱싱\n"
      ],
      "execution_count": null,
      "outputs": []
    },
    {
      "cell_type": "code",
      "metadata": {
        "id": "KZ8Ao0hxTbhW"
      },
      "source": [
        "# 4. : to #\n"
      ],
      "execution_count": null,
      "outputs": []
    },
    {
      "cell_type": "code",
      "metadata": {
        "id": "061r0mAxTv_P"
      },
      "source": [
        "# 5. 중복값 제거\n"
      ],
      "execution_count": null,
      "outputs": []
    },
    {
      "cell_type": "code",
      "metadata": {
        "id": "E6Z1abFKT_Wb"
      },
      "source": [
        "# 6. shirts!\n"
      ],
      "execution_count": null,
      "outputs": []
    },
    {
      "cell_type": "code",
      "metadata": {
        "id": "hAaEK96sUNMS"
      },
      "source": [
        "# 7. 3의 배수합\n"
      ],
      "execution_count": null,
      "outputs": []
    },
    {
      "cell_type": "code",
      "metadata": {
        "id": "BoslQN6LUx66"
      },
      "source": [
        "# 8. *그리기\n"
      ],
      "execution_count": null,
      "outputs": []
    },
    {
      "cell_type": "code",
      "metadata": {
        "id": "XMIPG9NzVMup"
      },
      "source": [
        "# 9. 학급 평균\n"
      ],
      "execution_count": null,
      "outputs": []
    }
  ]
}