{
  "nbformat": 4,
  "nbformat_minor": 0,
  "metadata": {
    "colab": {
      "name": "1_1_python_tutorial_1.ipynb",
      "provenance": [],
      "collapsed_sections": [
        "ZTBwldgTJXch"
      ],
      "include_colab_link": true
    },
    "kernelspec": {
      "name": "python3",
      "display_name": "Python 3"
    },
    "language_info": {
      "name": "python"
    }
  },
  "cells": [
    {
      "cell_type": "markdown",
      "metadata": {
        "id": "view-in-github",
        "colab_type": "text"
      },
      "source": [
        "<a href=\"https://colab.research.google.com/github/nicecarrot/AI-Study/blob/main/1_1_python_tutorial_1.ipynb\" target=\"_parent\"><img src=\"https://colab.research.google.com/assets/colab-badge.svg\" alt=\"Open In Colab\"/></a>"
      ]
    },
    {
      "cell_type": "code",
      "metadata": {
        "id": "YnwsrHA1-Vlp"
      },
      "source": [
        "# 한 줄 주석. ( ctrl + / )"
      ],
      "execution_count": null,
      "outputs": []
    },
    {
      "cell_type": "markdown",
      "metadata": {
        "id": "QmRY5LQnvHMm"
      },
      "source": [
        "# 1.변수선언 및 출력"
      ]
    },
    {
      "cell_type": "markdown",
      "metadata": {
        "id": "_0cXhsO90MBm"
      },
      "source": [
        "## 1.1 변수 (Variable)\n",
        "\n",
        "어떠한 값(value)을 담는 저장 공간(storage location)과 그에 상응하는 이름(symbolic name)\n",
        "\n",
        "- 첫 문자는 영문 혹은 underscore (_)\n",
        "- 대소문자 구분\n",
        "- 예약어는 변수명으로 사용 불가능. >> 함수명은 변수명으로 사용하지 말 것 !\n",
        "- 값(value)의 의미를 추측할 수 있는 이름을 사용하면 유용함\n",
        "- 변수에 줄 수 있는 값은 숫자, 문자, 다른 데이터타입의 형들이 모두 가능\n",
        "- 변수를 만들고 나면 변수를 저장하는 메모리를 자동으로 생성하고 주소가 생김\n",
        "- 변수는 변할 수 있음\n"
      ]
    },
    {
      "cell_type": "markdown",
      "metadata": {
        "id": "chFqmh6V09V7"
      },
      "source": [
        "### 1.1.1 변수 선언"
      ]
    },
    {
      "cell_type": "code",
      "metadata": {
        "id": "QAo7dOzi1UHj"
      },
      "source": [
        "a = 7\n",
        "A = 6"
      ],
      "execution_count": null,
      "outputs": []
    },
    {
      "cell_type": "markdown",
      "metadata": {
        "id": "d03q1s9G1aJ0"
      },
      "source": [
        "### 1.1.2 변수 출력"
      ]
    },
    {
      "cell_type": "code",
      "metadata": {
        "id": "XiPzlM1v1ejy",
        "colab": {
          "base_uri": "https://localhost:8080/"
        },
        "outputId": "5d95fa8b-8a18-48c1-b8ab-01500f105004"
      },
      "source": [
        "print(a)\n",
        "print(A)"
      ],
      "execution_count": null,
      "outputs": [
        {
          "output_type": "stream",
          "text": [
            "7\n",
            "6\n"
          ],
          "name": "stdout"
        }
      ]
    },
    {
      "cell_type": "markdown",
      "metadata": {
        "id": "R2vLBIgi1y8k"
      },
      "source": [
        "### 1.1.3 변수 복사"
      ]
    },
    {
      "cell_type": "code",
      "metadata": {
        "id": "Jf5v39NZ1tEM"
      },
      "source": [
        "a = 7 \n",
        "b = a"
      ],
      "execution_count": null,
      "outputs": []
    },
    {
      "cell_type": "code",
      "metadata": {
        "id": "q_5DZ_Cx128A",
        "colab": {
          "base_uri": "https://localhost:8080/"
        },
        "outputId": "9571a2e4-173b-4364-ca76-0c103e6151e1"
      },
      "source": [
        "print(b)"
      ],
      "execution_count": null,
      "outputs": [
        {
          "output_type": "stream",
          "text": [
            "7\n"
          ],
          "name": "stdout"
        }
      ]
    },
    {
      "cell_type": "code",
      "metadata": {
        "id": "ZjNnJRE713Im"
      },
      "source": [
        ""
      ],
      "execution_count": null,
      "outputs": []
    },
    {
      "cell_type": "markdown",
      "metadata": {
        "id": "fn9d33PK2VM4"
      },
      "source": [
        "### 1.1.4 변수 선언 방법\n",
        "\n",
        "1. 하나의 변수에 하나의 값을 대입\n",
        "2. 두개의 변수에 같은 값을 대입\n",
        "3. 변수에 변수를 대입\n",
        "\n",
        "(+ 한줄에 여러 변수를 선언하고 싶을 때는 \";\"를 이용한다.)"
      ]
    },
    {
      "cell_type": "code",
      "metadata": {
        "colab": {
          "base_uri": "https://localhost:8080/"
        },
        "id": "2I-Iy0j5oANQ",
        "outputId": "98d0ebab-c0b4-4461-a0dc-d24bb3b6d669"
      },
      "source": [
        "print(a)\n",
        "print(b)"
      ],
      "execution_count": null,
      "outputs": [
        {
          "output_type": "stream",
          "text": [
            "1\n",
            "1\n"
          ],
          "name": "stdout"
        }
      ]
    },
    {
      "cell_type": "code",
      "metadata": {
        "id": "McH2UsoqB2zV"
      },
      "source": [
        "a = 1\n",
        "b = 1"
      ],
      "execution_count": null,
      "outputs": []
    },
    {
      "cell_type": "code",
      "metadata": {
        "id": "3HLuMfm42V5e"
      },
      "source": [
        "a = b = 1"
      ],
      "execution_count": null,
      "outputs": []
    },
    {
      "cell_type": "code",
      "metadata": {
        "id": "xNoPEn8tCKBN"
      },
      "source": [
        "a = 1\n",
        "b = a"
      ],
      "execution_count": null,
      "outputs": []
    },
    {
      "cell_type": "markdown",
      "metadata": {
        "id": "vNn5wjPQ2V-N"
      },
      "source": [
        "# 2.자료형\n"
      ]
    },
    {
      "cell_type": "markdown",
      "metadata": {
        "id": "H-HTtMhmKbmN"
      },
      "source": [
        "- 수치형 (number) : 정수, 실수 등\n",
        "- 문자열 (string) : 문자들의 모임\n",
        "- 리스트 (list) : 순서를 가지는 python 객체의 집합\n",
        "- 사전 (dictionary) : 순서를 가지지 않는 객체의 쌍 (key & value)\n",
        "- 튜플 (tuple) : 순서를 가지는 python 객체의 집합\n",
        "- 집합 (set) : 중복이 없고 순서를 가지지 않는 객체의 집합(집합 관련 데이터 처리)\n",
        "- 부울 (bool) : 참과 거짓을 나타냄"
      ]
    },
    {
      "cell_type": "markdown",
      "metadata": {
        "id": "Ome5ZhTi2WCK"
      },
      "source": [
        "## 2.1 수치형 (number)"
      ]
    },
    {
      "cell_type": "code",
      "metadata": {
        "id": "bNW3RNIl2WFq",
        "colab": {
          "base_uri": "https://localhost:8080/"
        },
        "outputId": "03e4a408-348b-4543-cd97-23c735f86656"
      },
      "source": [
        "print(3)\n",
        "print(3.2)\n",
        "print(-1.2e5)\n",
        "print(1.2E-10)\n",
        "# e3 = 10^3\n",
        "# 0.000000000012"
      ],
      "execution_count": null,
      "outputs": [
        {
          "output_type": "stream",
          "text": [
            "3\n",
            "3.2\n",
            "-120000.0\n",
            "1.2e-10\n"
          ],
          "name": "stdout"
        }
      ]
    },
    {
      "cell_type": "markdown",
      "metadata": {
        "id": "v53Bdvxq2WJX"
      },
      "source": [
        "### 2.1.1 수치형 연산\n",
        "\n",
        "- 사칙연산 : +  -  * /\n",
        "- 나머지 연산: %\n",
        "- 몫: //\n",
        "- 제곱 연산: ** "
      ]
    },
    {
      "cell_type": "code",
      "metadata": {
        "id": "yVBC_8H14lH4"
      },
      "source": [
        "a = 4\n",
        "b = 3.2\n",
        "c = 2"
      ],
      "execution_count": null,
      "outputs": []
    },
    {
      "cell_type": "code",
      "metadata": {
        "id": "BK0tseFkDNXw",
        "colab": {
          "base_uri": "https://localhost:8080/"
        },
        "outputId": "695c18de-3091-4f6e-edb4-cba20694ab5e"
      },
      "source": [
        "print(a+b)\n",
        "print(a-b)\n",
        "print(a*b)\n",
        "print(a/b)"
      ],
      "execution_count": null,
      "outputs": [
        {
          "output_type": "stream",
          "text": [
            "7.2\n",
            "0.7999999999999998\n",
            "12.8\n",
            "1.25\n"
          ],
          "name": "stdout"
        }
      ]
    },
    {
      "cell_type": "code",
      "metadata": {
        "id": "elxAiYFNDNiN",
        "colab": {
          "base_uri": "https://localhost:8080/"
        },
        "outputId": "98b6fe52-e1f5-4f4d-cd5b-b6ce5e27f262"
      },
      "source": [
        "print(a/c)\n",
        "print(a%c)\n",
        "print(a//c)"
      ],
      "execution_count": null,
      "outputs": [
        {
          "output_type": "stream",
          "text": [
            "2.0\n",
            "0\n",
            "2\n"
          ],
          "name": "stdout"
        }
      ]
    },
    {
      "cell_type": "code",
      "metadata": {
        "id": "g7U92REZDNnz",
        "colab": {
          "base_uri": "https://localhost:8080/"
        },
        "outputId": "559f0cd3-f861-404c-fbe2-28dbb2b305c0"
      },
      "source": [
        "print(a**c)"
      ],
      "execution_count": null,
      "outputs": [
        {
          "output_type": "stream",
          "text": [
            "16\n"
          ],
          "name": "stdout"
        }
      ]
    },
    {
      "cell_type": "code",
      "metadata": {
        "id": "qnCK6gktDNtG",
        "colab": {
          "base_uri": "https://localhost:8080/"
        },
        "outputId": "5079ae9d-64ec-40b8-af77-80d0c75242f9"
      },
      "source": [
        "print(a**b) # 4^3.2"
      ],
      "execution_count": null,
      "outputs": [
        {
          "output_type": "stream",
          "text": [
            "84.44850628946526\n"
          ],
          "name": "stdout"
        }
      ]
    },
    {
      "cell_type": "code",
      "metadata": {
        "id": "aM8Zk72wDgLw"
      },
      "source": [
        ""
      ],
      "execution_count": null,
      "outputs": []
    },
    {
      "cell_type": "markdown",
      "metadata": {
        "id": "U-VKoFYX4U6r"
      },
      "source": [
        "### 2.1.2 수치형 관련 함수\n",
        "\n",
        "자주 사용하는 함수형 연산\n",
        "- abs()\n",
        "- int()\n",
        "- float()\n",
        "- pow()"
      ]
    },
    {
      "cell_type": "code",
      "metadata": {
        "id": "IcXFnltZ4lqj",
        "colab": {
          "base_uri": "https://localhost:8080/"
        },
        "outputId": "3527297b-c6d4-4ad6-9c2a-e137ef057336"
      },
      "source": [
        "print(int(6.2))\n",
        "print(int(-6.2))"
      ],
      "execution_count": null,
      "outputs": [
        {
          "output_type": "stream",
          "text": [
            "6\n",
            "-6\n"
          ],
          "name": "stdout"
        }
      ]
    },
    {
      "cell_type": "code",
      "metadata": {
        "id": "IEjlB814D94r",
        "colab": {
          "base_uri": "https://localhost:8080/"
        },
        "outputId": "12a4577a-26c1-4c5b-9717-1c39ef224bbf"
      },
      "source": [
        "print(5)\n",
        "print(float(5))"
      ],
      "execution_count": null,
      "outputs": [
        {
          "output_type": "stream",
          "text": [
            "5\n",
            "5.0\n"
          ],
          "name": "stdout"
        }
      ]
    },
    {
      "cell_type": "code",
      "metadata": {
        "id": "aOx5E0iSD-Db",
        "colab": {
          "base_uri": "https://localhost:8080/"
        },
        "outputId": "76e8df34-6b2e-4b7c-af0e-a5413674a5f5"
      },
      "source": [
        "print(abs(-6.2))"
      ],
      "execution_count": null,
      "outputs": [
        {
          "output_type": "stream",
          "text": [
            "6.2\n"
          ],
          "name": "stdout"
        }
      ]
    },
    {
      "cell_type": "code",
      "metadata": {
        "id": "yCaBZJieD-NM",
        "colab": {
          "base_uri": "https://localhost:8080/"
        },
        "outputId": "f313e4a4-f7d8-4dd0-dc8f-eaefa0a8c9e0"
      },
      "source": [
        "print(pow(4,2))"
      ],
      "execution_count": null,
      "outputs": [
        {
          "output_type": "stream",
          "text": [
            "16\n"
          ],
          "name": "stdout"
        }
      ]
    },
    {
      "cell_type": "markdown",
      "metadata": {
        "id": "8Rvv9RgN4l5e"
      },
      "source": [
        "## 2.2 문자열 (string)\n",
        "\n",
        "문자, 단어 등으로 구성된 문자들의 집합을 의미함"
      ]
    },
    {
      "cell_type": "markdown",
      "metadata": {
        "id": "v42bq8M65Jwy"
      },
      "source": [
        "### 2.2.1 문자열 입력 방법\n",
        "\n",
        "1. ' '\n",
        "2. \" \"\n",
        "3. ''' '''\n",
        "4. \"\"\" \"\"\"\n",
        "\n",
        "[why?] 이렇게 여러가지 방법을 만들었을까?"
      ]
    },
    {
      "cell_type": "code",
      "metadata": {
        "id": "ZUqpJRjAJCeD",
        "colab": {
          "base_uri": "https://localhost:8080/"
        },
        "outputId": "1d4ee495-d083-46f0-b95f-6aa2e7dca7ff"
      },
      "source": [
        "word = \"phone\"\n",
        "print(word)"
      ],
      "execution_count": null,
      "outputs": [
        {
          "output_type": "stream",
          "text": [
            "phone\n"
          ],
          "name": "stdout"
        }
      ]
    },
    {
      "cell_type": "code",
      "metadata": {
        "id": "-b2muBiuEfU1",
        "colab": {
          "base_uri": "https://localhost:8080/"
        },
        "outputId": "15248051-b4ef-4fdf-ea0a-19bec29f9eb3"
      },
      "source": [
        "print(\"I'm smart\")"
      ],
      "execution_count": null,
      "outputs": [
        {
          "output_type": "stream",
          "text": [
            "I'm smart\n"
          ],
          "name": "stdout"
        }
      ]
    },
    {
      "cell_type": "code",
      "metadata": {
        "id": "W-4hzq_oEfMt",
        "colab": {
          "base_uri": "https://localhost:8080/"
        },
        "outputId": "dc71f1d6-2c04-4a36-cfd0-0f02411c760c"
      },
      "source": [
        "sentence = \"\"\"글을 이렇게\n",
        "여러줄 쓰고 싶어요.\n",
        "세 줄도 되고\n",
        "네 줄도 되는\"\"\"\n",
        "print(sentence)"
      ],
      "execution_count": null,
      "outputs": [
        {
          "output_type": "stream",
          "text": [
            "글을 이렇게\n",
            "여러줄 쓰고 싶어요.\n",
            "세 줄도 되고\n",
            "네 줄도 되는\n"
          ],
          "name": "stdout"
        }
      ]
    },
    {
      "cell_type": "code",
      "metadata": {
        "id": "5L8Iq61PEfC9",
        "colab": {
          "base_uri": "https://localhost:8080/"
        },
        "outputId": "a5f33b65-ab4d-4485-cb97-40936d7e700b"
      },
      "source": [
        "print('그가 \"바보\"라고 말했다.')"
      ],
      "execution_count": null,
      "outputs": [
        {
          "output_type": "stream",
          "text": [
            "그가 \"바보\"라고 말했다.\n"
          ],
          "name": "stdout"
        }
      ]
    },
    {
      "cell_type": "markdown",
      "metadata": {
        "id": "zYKraFef5YWR"
      },
      "source": [
        "### 2.2.2 이스케이프코드\n",
        "\n",
        "미리 정의해 둔 '문자 조합 >> 출력물을 보기 좋게 만드는 용도 ! (print()와 함께 사용)\n",
        "\n",
        "- 줄바꿈 : \\n\n",
        "- 탭 : \\t\n",
        "- \\: \\\\\n",
        "- ' : \\'\n",
        "- \" : \\\""
      ]
    },
    {
      "cell_type": "code",
      "metadata": {
        "id": "gs8IUAIUFmu6",
        "colab": {
          "base_uri": "https://localhost:8080/"
        },
        "outputId": "a1fe8404-f6d5-44fc-da9a-528e2d2ad006"
      },
      "source": [
        "sentence1 = \"1\\n2\"\n",
        "sentence2 = \"1\\t2\"\n",
        "sentence3 = \"1123\\t2\"\n",
        "sentence4 = '그는 \\'좋다\\'라고 생각했다. 그러나 \"싫다\"라고 말했다'\n",
        "\n",
        "print(sentence1)\n",
        "print(sentence2)\n",
        "print(sentence3)\n",
        "print(sentence4)"
      ],
      "execution_count": null,
      "outputs": [
        {
          "output_type": "stream",
          "text": [
            "1\n",
            "2\n",
            "1\t2\n",
            "1123\t2\n",
            "그는 '좋다'라고 생각했다. 그러나 \"싫다\"라고 말했다\n"
          ],
          "name": "stdout"
        }
      ]
    },
    {
      "cell_type": "code",
      "metadata": {
        "colab": {
          "base_uri": "https://localhost:8080/"
        },
        "id": "_npjCLuS50aw",
        "outputId": "8847ef32-c99b-4296-dd41-e8419cb105f0"
      },
      "source": [
        "# 어떻게 하면 아래 결과가 나올까요~~~?\n",
        "# sentence를 하나의 문자열로 선언하여 아래의 출력 결과를 만들어 봅시다.\n",
        "sentence = \"커피 한 잔\\n매실차 두 잔\\n'커피콩빵도 있잖아?'\\t\\\"강릉 커피콩빵이랑 비교해보자\\\"\"\n",
        "print(sentence)"
      ],
      "execution_count": null,
      "outputs": [
        {
          "output_type": "stream",
          "text": [
            "커피 한 잔\n",
            "매실차 두잔\n",
            "'커피콩빵도 있잖아?'\t\"강릉 커피콩빵이랑 비교해보자\"\n"
          ],
          "name": "stdout"
        }
      ]
    },
    {
      "cell_type": "markdown",
      "metadata": {
        "id": "FP_eYHqO6TUx"
      },
      "source": [
        "### 정답은 아래!"
      ]
    },
    {
      "cell_type": "code",
      "metadata": {
        "id": "1lPCg0E46aWE"
      },
      "source": [
        "sentence = \"커피 한 잔\\n매실차 두 잔\\n\\'커피콩빵도 있잖아?\\'\\t\\\"강릉 커피콩빵이랑 비교해보자!\\\"\""
      ],
      "execution_count": null,
      "outputs": []
    },
    {
      "cell_type": "markdown",
      "metadata": {
        "id": "vBgTveRU6ap2"
      },
      "source": [
        "### 2.2.3 문자열 연산\n",
        "\n",
        "문자열도 숫자형처럼 연산이 가능합니다."
      ]
    },
    {
      "cell_type": "code",
      "metadata": {
        "id": "201FD9ba6a2y",
        "colab": {
          "base_uri": "https://localhost:8080/"
        },
        "outputId": "b7560ceb-fe14-4ecc-ef78-e210a316c0ce"
      },
      "source": [
        "a = \"python! \"\n",
        "b = \"good!\"\n",
        "print(a+b)"
      ],
      "execution_count": null,
      "outputs": [
        {
          "output_type": "stream",
          "text": [
            "python! good!\n"
          ],
          "name": "stdout"
        }
      ]
    },
    {
      "cell_type": "code",
      "metadata": {
        "colab": {
          "base_uri": "https://localhost:8080/"
        },
        "id": "9OMPMfg3zvQT",
        "outputId": "e41a6308-8fa2-4dea-dc75-bf2e5f10c655"
      },
      "source": [
        "print(a*5)"
      ],
      "execution_count": null,
      "outputs": [
        {
          "output_type": "stream",
          "text": [
            "python! python! python! python! python! \n"
          ],
          "name": "stdout"
        }
      ]
    },
    {
      "cell_type": "code",
      "metadata": {
        "colab": {
          "base_uri": "https://localhost:8080/"
        },
        "id": "nrJwyfMB7hlj",
        "outputId": "64c3e38f-a85a-4af7-f966-e6a333a15ef0"
      },
      "source": [
        "# 어떻게 하면 아래 결과가 나올까요~~~?\n",
        "# 문자열 곱셈과 문자열 덧셈을 이용해 아래 모양을 만들어봅시다.\n",
        "equal = \"=\"*30\n",
        "sentence = equal + \"\\n파이썬 하루만에 끝내보자!\\n\" + equal\n",
        "print(sentence)"
      ],
      "execution_count": null,
      "outputs": [
        {
          "output_type": "stream",
          "text": [
            "==============================\n",
            "파이썬 하루만에 끝내보자!\n",
            "==============================\n"
          ],
          "name": "stdout"
        }
      ]
    },
    {
      "cell_type": "markdown",
      "metadata": {
        "id": "erTDBJmq7htj"
      },
      "source": [
        "### 정답은 아래에"
      ]
    },
    {
      "cell_type": "code",
      "metadata": {
        "id": "-zqLrRfm8j1K"
      },
      "source": [
        "sentence = '='*30 + '\\n파이썬 하루만에 끝내보자!\\n' + '='*30"
      ],
      "execution_count": null,
      "outputs": []
    },
    {
      "cell_type": "markdown",
      "metadata": {
        "id": "Dz-w-F2R7QjP"
      },
      "source": [
        "### 2.2.4 문자열 인덱싱\n",
        "\n",
        "index = 색인 = 찾아보기\n",
        "\n",
        "- 순방향 인덱스: 0 부터 시작\n",
        "- 역방향 인덱스: -1 부터 시작\n",
        "- 문자열[인덱스]로 호출"
      ]
    },
    {
      "cell_type": "code",
      "metadata": {
        "id": "mTnfsjYG9TJY"
      },
      "source": [
        "sentence = '파이썬 하루만에 끝내보자!'\n",
        "#           0 1 2 34 5 6 7 89 10111213\n",
        "#                                 -2-1"
      ],
      "execution_count": null,
      "outputs": []
    },
    {
      "cell_type": "code",
      "metadata": {
        "id": "wZABv7ab9TSs",
        "colab": {
          "base_uri": "https://localhost:8080/"
        },
        "outputId": "f40919a4-9fc6-4541-ed83-8d3878f2f7c1"
      },
      "source": [
        "print(sentence)\n",
        "print(sentence[-1])"
      ],
      "execution_count": null,
      "outputs": [
        {
          "output_type": "stream",
          "text": [
            "파이썬 하루만에 끝내보자!\n",
            "!\n"
          ],
          "name": "stdout"
        }
      ]
    },
    {
      "cell_type": "code",
      "metadata": {
        "id": "WUZfbKLQ9TY3"
      },
      "source": [
        "### 문자열 인덱싱으로, 문자열을 변경할 수 있나요?\n",
        "sentence = '파이썬 하루만에 끝내보자!'\n",
        "# sentence[-1] = '.'\n",
        "sentence = '파이썬 하루만에 끝내보자.'\n",
        "# mutable = 변화할 수 있는\n",
        "# immutable = 변화할 수 없다."
      ],
      "execution_count": null,
      "outputs": []
    },
    {
      "cell_type": "markdown",
      "metadata": {
        "id": "m4pD7dOj9TuP"
      },
      "source": [
        "### 2.2.5 문자열 슬라이싱\n",
        "\n",
        "slicing = 잘라내기\n",
        "\n",
        "- 문자열[인덱스1:인덱스2]로 호출 (인덱스1 이상, 인덱스2 미만)"
      ]
    },
    {
      "cell_type": "code",
      "metadata": {
        "id": "z4SfSH8WAj2b"
      },
      "source": [
        "#           0 1 2 34 5 6 7 89 10111213\n",
        "sentence = '파이썬 하루만에 끝내보자!'"
      ],
      "execution_count": null,
      "outputs": []
    },
    {
      "cell_type": "code",
      "metadata": {
        "colab": {
          "base_uri": "https://localhost:8080/"
        },
        "id": "utZMSiMS2_S8",
        "outputId": "1d66555d-1d51-40d7-c705-6fba104cc3d2"
      },
      "source": [
        "print(sentence[4:8]) # 4:8 = 4, 5, 6, 7"
      ],
      "execution_count": null,
      "outputs": [
        {
          "output_type": "stream",
          "text": [
            "하루만에\n"
          ],
          "name": "stdout"
        }
      ]
    },
    {
      "cell_type": "markdown",
      "metadata": {
        "id": "SjqbCDY-9Twk"
      },
      "source": [
        "### 2.2.6 문자열 포맷팅\n",
        "\n",
        "1. % 포맷팅 (c 스타일, %d: 정수 / %f: 실수 / %s: 문자열)\n",
        "2. '{}'.format\n",
        "3. f-string"
      ]
    },
    {
      "cell_type": "code",
      "metadata": {
        "colab": {
          "base_uri": "https://localhost:8080/"
        },
        "id": "gsG6GoDd3ha4",
        "outputId": "621b5d52-52f0-41f7-99e4-b7558cd7f400"
      },
      "source": [
        "a = 6\n",
        "b = 7\n",
        "sentence = \"나는 a호선을 타고 다녀.\"\n",
        "print(sentence) "
      ],
      "execution_count": null,
      "outputs": [
        {
          "output_type": "stream",
          "text": [
            "나는 6호선을 타고 다녀.\n"
          ],
          "name": "stdout"
        }
      ]
    },
    {
      "cell_type": "code",
      "metadata": {
        "id": "eJbcdycTAkgf",
        "colab": {
          "base_uri": "https://localhost:8080/"
        },
        "outputId": "ae0f5260-d626-4e84-9651-27359dfe42ee"
      },
      "source": [
        "# % 포맷팅\n",
        "print(\"나는 %d호선을 타고 다녀.\" % a)"
      ],
      "execution_count": null,
      "outputs": [
        {
          "output_type": "stream",
          "text": [
            "나는 6호선을 타고 다녀.\n"
          ],
          "name": "stdout"
        }
      ]
    },
    {
      "cell_type": "code",
      "metadata": {
        "id": "8ymBs226HdJM",
        "colab": {
          "base_uri": "https://localhost:8080/"
        },
        "outputId": "843d267e-c127-4acc-b369-5e7952285d22"
      },
      "source": [
        "# {}.format() / {index}.format(), / {variable}.format(variable=)\n",
        "a = 6\n",
        "b = 7\n",
        "c = 9\n",
        "#            \n",
        "# print(\"나는 {1}호선과 {0}호선, {1}호선을 주로 타고 다녀.\".format(a, b, c))\n",
        "print(\"나는 {}호선과 {}호선, {}호선을 주로 타고 다녀.\".format(a, b, c))\n",
        "#                                                             0  1  2\n",
        "print(\"나는 {line1}호선과 {favorite}호선, {hate}호선을 주로 타고 다녀.\".format(line1=a, favorite=c, hate=b))\n",
        "#사용하는 곳!: 파일의 경로를 만들어줄 때, 자연어 처리"
      ],
      "execution_count": null,
      "outputs": [
        {
          "output_type": "stream",
          "text": [
            "나는 6호선과 7호선, 9호선을 주로 타고 다녀.\n",
            "나는 6호선과 9호선, 7호선을 주로 타고 다녀.\n"
          ],
          "name": "stdout"
        }
      ]
    },
    {
      "cell_type": "code",
      "metadata": {
        "id": "MHFLvalaHlAX",
        "colab": {
          "base_uri": "https://localhost:8080/"
        },
        "outputId": "79a4444f-2944-45e2-e5aa-aacba7d07fb8"
      },
      "source": [
        "# f-string\n",
        "print(f\"나는 {a}호선과 {b+c}호선, {c}호선을 주로 타고 다녀.\")"
      ],
      "execution_count": null,
      "outputs": [
        {
          "output_type": "stream",
          "text": [
            "나는 6호선과 16호선, 9호선을 주로 타고 다녀.\n"
          ],
          "name": "stdout"
        }
      ]
    },
    {
      "cell_type": "markdown",
      "metadata": {
        "id": "kD-eFMq5AlSq"
      },
      "source": [
        "### 2.2.7 문자열 관련 함수\n",
        "\n",
        "- len(x)\n",
        "\n",
        "\n",
        "- .count(x)\n",
        "- .find(x)\n",
        "- .join(x)\n",
        "- .upper()\n",
        "- .lower()\n",
        "- .replace(a, b)\n",
        "- .split()"
      ]
    },
    {
      "cell_type": "code",
      "metadata": {
        "id": "1oyrDsxWCwjw",
        "colab": {
          "base_uri": "https://localhost:8080/"
        },
        "outputId": "f0f53f3d-25cf-4227-c40a-53ed3d1ac1f4"
      },
      "source": [
        "sentence = \"나는 7호선을 타고 다녀.\"\n",
        "print(len(sentence))"
      ],
      "execution_count": null,
      "outputs": [
        {
          "output_type": "stream",
          "text": [
            "14\n"
          ],
          "name": "stdout"
        }
      ]
    },
    {
      "cell_type": "code",
      "metadata": {
        "colab": {
          "base_uri": "https://localhost:8080/"
        },
        "id": "oZlCcOsJ-yYp",
        "outputId": "2b5cdbf2-2d1c-447f-97af-f7b56791d794"
      },
      "source": [
        "print(sentence.split())"
      ],
      "execution_count": null,
      "outputs": [
        {
          "output_type": "stream",
          "text": [
            "['나는', '7호선을', '타고', '다녀.']\n"
          ],
          "name": "stdout"
        }
      ]
    },
    {
      "cell_type": "code",
      "metadata": {
        "id": "9BQdy7fDSI3g",
        "colab": {
          "base_uri": "https://localhost:8080/"
        },
        "outputId": "cad815b1-aabd-4b9d-9b60-57c93bdf6fa0"
      },
      "source": [
        "haha = \"hahahahahahahohohohihihihoho\"\n",
        "print(haha.count('hi'))"
      ],
      "execution_count": null,
      "outputs": [
        {
          "output_type": "stream",
          "text": [
            "3\n"
          ],
          "name": "stdout"
        }
      ]
    },
    {
      "cell_type": "code",
      "metadata": {
        "colab": {
          "base_uri": "https://localhost:8080/"
        },
        "id": "l_u-H7l1-pf4",
        "outputId": "ebb50804-2149-4d8f-c96e-1f3f2571a785"
      },
      "source": [
        "kiki = haha.replace('ha','ki')\n",
        "print(kiki)\n",
        "print(haha)"
      ],
      "execution_count": null,
      "outputs": [
        {
          "output_type": "stream",
          "text": [
            "kikikikikikihohohohihihihoho\n",
            "hahahahahahahohohohihihihoho\n"
          ],
          "name": "stdout"
        }
      ]
    },
    {
      "cell_type": "code",
      "metadata": {
        "id": "V4k3loFHSItv",
        "colab": {
          "base_uri": "https://localhost:8080/"
        },
        "outputId": "c7af599c-cd84-4942-c6cf-d311b6e00b66"
      },
      "source": [
        "file_name = 'JIAT_20210803_fieis.jpg'\n",
        "print(file_name.find('.'))\n",
        "print(file_name.split('.'))"
      ],
      "execution_count": null,
      "outputs": [
        {
          "output_type": "stream",
          "text": [
            "19\n",
            "['JIAT_20210803_fieis', 'jpg']\n"
          ],
          "name": "stdout"
        }
      ]
    },
    {
      "cell_type": "code",
      "metadata": {
        "id": "exPR5klPTOT6",
        "colab": {
          "base_uri": "https://localhost:8080/"
        },
        "outputId": "8533bfd8-9312-4dd6-ca32-b401185be9ff"
      },
      "source": [
        "print(haha.upper())"
      ],
      "execution_count": null,
      "outputs": [
        {
          "output_type": "stream",
          "text": [
            "HAHAHAHAHAHAHOHOHOHIHIHIHOHO\n"
          ],
          "name": "stdout"
        }
      ]
    },
    {
      "cell_type": "code",
      "metadata": {
        "id": "Hs0DGhisTfdS",
        "colab": {
          "base_uri": "https://localhost:8080/"
        },
        "outputId": "41d86eeb-1295-4efb-c0f7-d567094a0c5f"
      },
      "source": [
        "print(file_name.lower())"
      ],
      "execution_count": null,
      "outputs": [
        {
          "output_type": "stream",
          "text": [
            "jiat_20210803_fieis.jpg\n"
          ],
          "name": "stdout"
        }
      ]
    },
    {
      "cell_type": "code",
      "metadata": {
        "id": "3TKHCuYTT4eh",
        "colab": {
          "base_uri": "https://localhost:8080/"
        },
        "outputId": "966090af-4c6c-4743-fb02-81992fc14a4b"
      },
      "source": [
        "sentence = '.'.join('abcde')\n",
        "print(sentence)"
      ],
      "execution_count": null,
      "outputs": [
        {
          "output_type": "stream",
          "text": [
            "a.b.c.d.e\n"
          ],
          "name": "stdout"
        }
      ]
    },
    {
      "cell_type": "markdown",
      "metadata": {
        "id": "sZfzqS9ZHywA"
      },
      "source": [
        "## 2.3 리스트 (list)"
      ]
    },
    {
      "cell_type": "markdown",
      "metadata": {
        "id": "2oOeqW3NJXMH"
      },
      "source": [
        "여러 자료형을 담을 수 있고, 여러 요소를 하나의 변수로 사용하고 싶을 때 사용.\n",
        "\n",
        "- [ ]를 사용해서 초기화\n",
        "- 리스트 또한 인덱싱과 슬라이싱 가능\n",
        "- 다차원 배열 표현 가능 << 리스트 안에 리스트\n",
        "- 리스트 안의 원소는 리스트, 집합, 딕셔너리 등도 가능"
      ]
    },
    {
      "cell_type": "code",
      "metadata": {
        "id": "GMLTJ6ewJNJl",
        "colab": {
          "base_uri": "https://localhost:8080/"
        },
        "outputId": "1e0682eb-69af-493c-d730-3ed7d5e07726"
      },
      "source": [
        "myList = [1, 1.25, 1, 'word', [1, 2, [3,4]]]\n",
        "print(myList)"
      ],
      "execution_count": null,
      "outputs": [
        {
          "output_type": "stream",
          "text": [
            "[1, 1.25, 1, 'word', [1, 2, [3, 4]]]\n"
          ],
          "name": "stdout"
        }
      ]
    },
    {
      "cell_type": "markdown",
      "metadata": {
        "id": "EnmBGAM3JXU9"
      },
      "source": [
        "### 2.3.1 리스트의 인덱싱과 슬라이싱"
      ]
    },
    {
      "cell_type": "code",
      "metadata": {
        "id": "RgYvipWLJNlX",
        "colab": {
          "base_uri": "https://localhost:8080/"
        },
        "outputId": "b3967095-6851-48e1-dcc8-54e16c0553d8"
      },
      "source": [
        "print(myList)\n",
        "print(myList[4])\n",
        "print(myList[4][2])\n",
        "print(myList[4][2][0])\n",
        "print(myList[2:4])\n",
        "print(myList[3][0])"
      ],
      "execution_count": null,
      "outputs": [
        {
          "output_type": "stream",
          "text": [
            "[1, 1.25, 1, 'word', [1, 2, [3, 4]]]\n",
            "[1, 2, [3, 4]]\n",
            "[3, 4]\n",
            "3\n",
            "[1, 'word']\n",
            "w\n"
          ],
          "name": "stdout"
        }
      ]
    },
    {
      "cell_type": "code",
      "metadata": {
        "colab": {
          "base_uri": "https://localhost:8080/"
        },
        "id": "pOAJnTUNjL8z",
        "outputId": "85190753-760f-49e5-c972-43d81f112618"
      },
      "source": [
        "# 어떻게 하면 아래 결과가 나올까요~~~?\n",
        "# 리스트의 인덱싱과 슬라이싱을 이용해 봅시다.\n",
        "#         0   1    2     3-0        3-1      3-2-0      3-2-1\n",
        "myList = [1, 5.2, 2*3, ['coffee', 'water', ['매실차', '유자차']]]\n",
        "print(myList[3][2][0][:2])"
      ],
      "execution_count": null,
      "outputs": [
        {
          "output_type": "stream",
          "text": [
            "매실\n"
          ],
          "name": "stdout"
        }
      ]
    },
    {
      "cell_type": "markdown",
      "metadata": {
        "id": "ZTBwldgTJXch"
      },
      "source": [
        "### 정답은 아래"
      ]
    },
    {
      "cell_type": "code",
      "metadata": {
        "id": "iFNK7XY4j8uh",
        "colab": {
          "base_uri": "https://localhost:8080/",
          "height": 36
        },
        "outputId": "e33c2853-a478-4621-fdc7-e6e9345669f1"
      },
      "source": [
        "myList[-1][-1][0][:2]"
      ],
      "execution_count": null,
      "outputs": [
        {
          "output_type": "execute_result",
          "data": {
            "application/vnd.google.colaboratory.intrinsic+json": {
              "type": "string"
            },
            "text/plain": [
              "'매실'"
            ]
          },
          "metadata": {
            "tags": []
          },
          "execution_count": 130
        }
      ]
    },
    {
      "cell_type": "markdown",
      "metadata": {
        "id": "ZvUhLu5ZkM5c"
      },
      "source": [
        "### 2.3.2 리스트의 연산"
      ]
    },
    {
      "cell_type": "code",
      "metadata": {
        "id": "ysW-sJ30kRSs",
        "colab": {
          "base_uri": "https://localhost:8080/"
        },
        "outputId": "b2b4ce9f-94ca-4d11-ffaf-661529876805"
      },
      "source": [
        "list1 = [1,2,3]\n",
        "list2 = [4,5,6]\n",
        "print(list1*2 + list2)\n",
        "print(len(list1))"
      ],
      "execution_count": null,
      "outputs": [
        {
          "output_type": "stream",
          "text": [
            "[1, 2, 3, 1, 2, 3, 4, 5, 6]\n",
            "3\n"
          ],
          "name": "stdout"
        }
      ]
    },
    {
      "cell_type": "markdown",
      "metadata": {
        "id": "S7DTXi5wkRl-"
      },
      "source": [
        "### 2.3.3 리스트의 수정"
      ]
    },
    {
      "cell_type": "code",
      "metadata": {
        "id": "DD0VNatWkUSc",
        "colab": {
          "base_uri": "https://localhost:8080/"
        },
        "outputId": "0ee480b2-3ebc-4374-8ae7-4d182ce2e060"
      },
      "source": [
        "### 리스트 인덱싱으로, 리스트를 변경할 수 있나요? -> 가능합니다.\n",
        "myList = [1, 5.2, 2*3, ['coffee', 'water', ['매실차', '유자차']]]\n",
        "print(myList)\n",
        "myList[3] = 4\n",
        "print(myList)"
      ],
      "execution_count": null,
      "outputs": [
        {
          "output_type": "stream",
          "text": [
            "[1, 5.2, 6, ['coffee', 'water', ['매실차', '유자차']]]\n",
            "[1, 5.2, 6, 4]\n"
          ],
          "name": "stdout"
        }
      ]
    },
    {
      "cell_type": "markdown",
      "metadata": {
        "id": "VAkIafrDkZUd"
      },
      "source": [
        "### 2.3.4 리스트 관련 함수\n",
        "\n",
        "- append(x)\n",
        "- extend(x)\n",
        "- sort()\n",
        "- reverse()\n",
        "- insert(a, b) : a는 index, b는 값\n",
        "- remove(x)\n",
        "- pop()\n",
        "- count(x)\n",
        "\n",
        "\n",
        "- del"
      ]
    },
    {
      "cell_type": "code",
      "metadata": {
        "id": "UBC0zJUWk8nQ"
      },
      "source": [
        "myList = [1, 5.2, 2, 6, 2]"
      ],
      "execution_count": null,
      "outputs": []
    },
    {
      "cell_type": "code",
      "metadata": {
        "id": "JQ2ZtCcOb1Am",
        "colab": {
          "base_uri": "https://localhost:8080/"
        },
        "outputId": "394cfb1b-bffd-432b-9b73-2bf0806360e5"
      },
      "source": [
        "# myList.append([1,2])\n",
        "myList.extend([1,2])\n",
        "print(myList)"
      ],
      "execution_count": null,
      "outputs": [
        {
          "output_type": "stream",
          "text": [
            "[1, 5.2, 2, 6, 2, 1, 2]\n"
          ],
          "name": "stdout"
        }
      ]
    },
    {
      "cell_type": "code",
      "metadata": {
        "colab": {
          "base_uri": "https://localhost:8080/"
        },
        "id": "pDYsgP9LHVXZ",
        "outputId": "6b9f98e6-4afd-4e09-f899-255eb26fe6ae"
      },
      "source": [
        "myList.sort()\n",
        "print(myList)"
      ],
      "execution_count": null,
      "outputs": [
        {
          "output_type": "stream",
          "text": [
            "[1, 2, 2, 5.2, 6]\n"
          ],
          "name": "stdout"
        }
      ]
    },
    {
      "cell_type": "code",
      "metadata": {
        "colab": {
          "base_uri": "https://localhost:8080/"
        },
        "id": "jlXAm0HgHign",
        "outputId": "0e144361-e64f-4f71-f151-09d1030e5644"
      },
      "source": [
        "myList.reverse()\n",
        "print(myList)"
      ],
      "execution_count": null,
      "outputs": [
        {
          "output_type": "stream",
          "text": [
            "[6, 5.2, 2, 2, 1]\n"
          ],
          "name": "stdout"
        }
      ]
    },
    {
      "cell_type": "code",
      "metadata": {
        "colab": {
          "base_uri": "https://localhost:8080/"
        },
        "id": "NXZRV9X2Hyof",
        "outputId": "65bccc9a-ef57-4018-e4a5-f9a4f54593ae"
      },
      "source": [
        "myList.insert(2,3)\n",
        "print(myList)"
      ],
      "execution_count": null,
      "outputs": [
        {
          "output_type": "stream",
          "text": [
            "[6, 5.2, 3, 3, 3, 3, 2, 2, 1]\n"
          ],
          "name": "stdout"
        }
      ]
    },
    {
      "cell_type": "code",
      "metadata": {
        "colab": {
          "base_uri": "https://localhost:8080/"
        },
        "id": "y0o-qw6TIhtk",
        "outputId": "15a2d818-9941-4893-d76f-a09ad00cd784"
      },
      "source": [
        "temp = myList.remove(3)\n",
        "print(myList)\n",
        "print(temp)"
      ],
      "execution_count": null,
      "outputs": [
        {
          "output_type": "stream",
          "text": [
            "[6, 5.2, 2, 2, 1]\n",
            "None\n"
          ],
          "name": "stdout"
        }
      ]
    },
    {
      "cell_type": "code",
      "metadata": {
        "colab": {
          "base_uri": "https://localhost:8080/"
        },
        "id": "wA0MK59YIxHK",
        "outputId": "adf9774c-4858-4df6-83b4-6654b92e9620"
      },
      "source": [
        "lastWord = myList.pop()\n",
        "print(myList)\n",
        "print(lastWord)"
      ],
      "execution_count": null,
      "outputs": [
        {
          "output_type": "stream",
          "text": [
            "[6, 5.2, 2, 2]\n",
            "1\n"
          ],
          "name": "stdout"
        }
      ]
    },
    {
      "cell_type": "code",
      "metadata": {
        "colab": {
          "base_uri": "https://localhost:8080/"
        },
        "id": "jfgaYF-QJSWm",
        "outputId": "e1de89f2-a16c-4634-eb1e-b4e3a2b9ab0b"
      },
      "source": [
        "print(myList)\n",
        "print(myList.count(0))\n",
        "del myList[1]\n",
        "print(myList)"
      ],
      "execution_count": null,
      "outputs": [
        {
          "output_type": "stream",
          "text": [
            "[6, 5.2, 2, 2]\n",
            "0\n",
            "[6, 2, 2]\n"
          ],
          "name": "stdout"
        }
      ]
    },
    {
      "cell_type": "code",
      "metadata": {
        "id": "4JCk7FMhnFT9",
        "colab": {
          "base_uri": "https://localhost:8080/"
        },
        "outputId": "874d34c0-66eb-4d70-80a2-71e1f26f42a6"
      },
      "source": [
        "# 리스트 관련 함수 예제 1\n",
        "myList = [1,2,3,4,5]\n",
        "myList.insert(2, 6)\n",
        "print(myList)\n",
        "# 결과 : [1, 2, 6, 3, 4, 5]"
      ],
      "execution_count": null,
      "outputs": [
        {
          "output_type": "stream",
          "text": [
            "[1, 2, 6, 3, 4, 5]\n"
          ],
          "name": "stdout"
        }
      ]
    },
    {
      "cell_type": "code",
      "metadata": {
        "id": "n6R9zaOfnFig",
        "colab": {
          "base_uri": "https://localhost:8080/"
        },
        "outputId": "5b368a47-0be1-43a7-d71b-4b2c16b2b17e"
      },
      "source": [
        "# 리스트 관련 함수 예제 2\n",
        "myList = [3,4,1,2,5]\n",
        "myList.sort()\n",
        "myList.reverse()\n",
        "print(myList)\n",
        "# 결과 : [5,4,3,2,1]"
      ],
      "execution_count": null,
      "outputs": [
        {
          "output_type": "stream",
          "text": [
            "[5, 4, 3, 2, 1]\n"
          ],
          "name": "stdout"
        }
      ]
    },
    {
      "cell_type": "code",
      "metadata": {
        "colab": {
          "base_uri": "https://localhost:8080/"
        },
        "id": "ZSHKb4xToZyY",
        "outputId": "c8811ba3-1fbb-49fd-8615-1a7af5b39565"
      },
      "source": [
        "# 리스트 관련 함수 예제 3\n",
        "myList = [1,2,3]\n",
        "myList.extend([4,5,6])\n",
        "print(myList)\n",
        "# 결과 : [1, 2, 3, 4, 5, 6]"
      ],
      "execution_count": null,
      "outputs": [
        {
          "output_type": "stream",
          "text": [
            "[1, 2, 3, 4, 5, 6]\n"
          ],
          "name": "stdout"
        }
      ]
    },
    {
      "cell_type": "markdown",
      "metadata": {
        "id": "pTzX50g8JXkf"
      },
      "source": [
        "## 2.4 사전 (dictionary)"
      ]
    },
    {
      "cell_type": "markdown",
      "metadata": {
        "id": "pB0OHjgFonZF"
      },
      "source": [
        "대응 관계를 나타내는 자료형\n",
        "\n",
        "- { }를 사용해서 초기화.\n",
        "- 순서를 따지지 않음.\n",
        "- key:value 의 쌍으로 이루어짐.\n",
        "- key는 숫자형 혹은 문자열. 중복 불가능.\n",
        "- value는 숫자형, 문자형, 리스트형, 사전형 등 대부분의 형식 가능."
      ]
    },
    {
      "cell_type": "code",
      "metadata": {
        "id": "imzqrKh0onuu",
        "colab": {
          "base_uri": "https://localhost:8080/"
        },
        "outputId": "5cf357e7-dd13-42a9-b323-febccba1c54b"
      },
      "source": [
        "myDictionary = {'name':'jihoon', 'age':30}\n",
        "print(myDictionary)"
      ],
      "execution_count": null,
      "outputs": [
        {
          "output_type": "stream",
          "text": [
            "{'name': 'jihoon', 'age': 30}\n"
          ],
          "name": "stdout"
        }
      ]
    },
    {
      "cell_type": "code",
      "metadata": {
        "id": "9_sdYVnMfA7H",
        "colab": {
          "base_uri": "https://localhost:8080/"
        },
        "outputId": "644f2550-5334-448e-a74a-8e15406abb9a"
      },
      "source": [
        "print(myDictionary['name'])"
      ],
      "execution_count": null,
      "outputs": [
        {
          "output_type": "stream",
          "text": [
            "jihoon\n"
          ],
          "name": "stdout"
        }
      ]
    },
    {
      "cell_type": "code",
      "metadata": {
        "id": "HtgcatuJfnX9",
        "colab": {
          "base_uri": "https://localhost:8080/"
        },
        "outputId": "7ce80969-a230-4609-c9ac-e2cbae7e761f"
      },
      "source": [
        "myDictionary['grade'] = [10, 12, 8]\n",
        "print(myDictionary)"
      ],
      "execution_count": null,
      "outputs": [
        {
          "output_type": "stream",
          "text": [
            "{'name': 'jihoon', 'age': 30, 'grade': [10, 12, 8]}\n"
          ],
          "name": "stdout"
        }
      ]
    },
    {
      "cell_type": "code",
      "metadata": {
        "id": "owCzUhuUfNYb",
        "colab": {
          "base_uri": "https://localhost:8080/"
        },
        "outputId": "2effc8c0-b243-4ded-ee30-19989375f57d"
      },
      "source": [
        "myDictionary['age'] = 1\n",
        "print(myDictionary)"
      ],
      "execution_count": null,
      "outputs": [
        {
          "output_type": "stream",
          "text": [
            "{'name': 'jihoon', 'age': 1, 'grade': [10, 12, 8]}\n"
          ],
          "name": "stdout"
        }
      ]
    },
    {
      "cell_type": "code",
      "metadata": {
        "id": "GPO741TOfan2"
      },
      "source": [
        ""
      ],
      "execution_count": null,
      "outputs": []
    },
    {
      "cell_type": "markdown",
      "metadata": {
        "id": "E5x9Poh4on6t"
      },
      "source": [
        "### 2.4.1 사전의 수정"
      ]
    },
    {
      "cell_type": "code",
      "metadata": {
        "colab": {
          "base_uri": "https://localhost:8080/"
        },
        "id": "uPErgUNufmAP",
        "outputId": "312a62b9-6eb9-41ac-dcd1-796c6c3eb3dc"
      },
      "source": [
        "del myDictionary['grade']\n",
        "print(myDictionary)"
      ],
      "execution_count": null,
      "outputs": [
        {
          "output_type": "stream",
          "text": [
            "{'name': 'jihoon', 'age': 1}\n"
          ],
          "name": "stdout"
        }
      ]
    },
    {
      "cell_type": "markdown",
      "metadata": {
        "id": "vXL_KU7PooNi"
      },
      "source": [
        "### 2.4.2 사전 관련 함수\n",
        "\n",
        "- keys()\n",
        "- values()\n",
        "- items()\n",
        "- clear()\n",
        "- get()\n",
        "\n",
        "\n",
        "- del\n",
        "- in"
      ]
    },
    {
      "cell_type": "code",
      "metadata": {
        "id": "vpsiDeMuooE7"
      },
      "source": [
        "myDictionary = {'name':'jihoon', 'age':30, 'grade': [10,12,8]}"
      ],
      "execution_count": null,
      "outputs": []
    },
    {
      "cell_type": "code",
      "metadata": {
        "id": "ldJIjLbSooVT",
        "colab": {
          "base_uri": "https://localhost:8080/"
        },
        "outputId": "4f284500-3294-4ce4-fe90-c66cface6557"
      },
      "source": [
        "print(myDictionary)\n",
        "print(myDictionary.keys())\n",
        "print(myDictionary.values())\n",
        "print(myDictionary.items())"
      ],
      "execution_count": null,
      "outputs": [
        {
          "output_type": "stream",
          "text": [
            "{'name': 'jihoon', 'age': 30, 'grade': [10, 12, 8]}\n",
            "dict_keys(['name', 'age', 'grade'])\n",
            "dict_values(['jihoon', 30, [10, 12, 8]])\n",
            "dict_items([('name', 'jihoon'), ('age', 30), ('grade', [10, 12, 8])])\n"
          ],
          "name": "stdout"
        }
      ]
    },
    {
      "cell_type": "code",
      "metadata": {
        "id": "tIEGFJUphAyh",
        "colab": {
          "base_uri": "https://localhost:8080/"
        },
        "outputId": "c99b6adc-b0df-4ba8-c463-60d8b88fba67"
      },
      "source": [
        "myDictionary.clear()\n",
        "print(myDictionary)"
      ],
      "execution_count": null,
      "outputs": [
        {
          "output_type": "stream",
          "text": [
            "{}\n"
          ],
          "name": "stdout"
        }
      ]
    },
    {
      "cell_type": "code",
      "metadata": {
        "colab": {
          "base_uri": "https://localhost:8080/"
        },
        "id": "_Id1jVrhkKAr",
        "outputId": "a717e459-e343-4bd7-9ca2-db42b4fd30ee"
      },
      "source": [
        "myDictionary.clear()\n",
        "myDictionary['name']='jack'\n",
        "myDictionary['age'] = 20\n",
        "print(myDictionary)"
      ],
      "execution_count": null,
      "outputs": [
        {
          "output_type": "stream",
          "text": [
            "{'name': 'jack', 'age': 20}\n"
          ],
          "name": "stdout"
        }
      ]
    },
    {
      "cell_type": "code",
      "metadata": {
        "id": "8C-No-AyhBDt",
        "colab": {
          "base_uri": "https://localhost:8080/"
        },
        "outputId": "03978780-ab77-45a1-a2de-17d3877d9e0d"
      },
      "source": [
        "print(myDictionary.get('grade'))"
      ],
      "execution_count": null,
      "outputs": [
        {
          "output_type": "stream",
          "text": [
            "None\n"
          ],
          "name": "stdout"
        }
      ]
    },
    {
      "cell_type": "code",
      "metadata": {
        "colab": {
          "base_uri": "https://localhost:8080/"
        },
        "id": "OKBGgMjClCnm",
        "outputId": "7a7020d5-d32d-4c7b-9395-8d3d763306ae"
      },
      "source": [
        "print('jack' in myDictionary)"
      ],
      "execution_count": null,
      "outputs": [
        {
          "output_type": "stream",
          "text": [
            "False\n"
          ],
          "name": "stdout"
        }
      ]
    },
    {
      "cell_type": "code",
      "metadata": {
        "colab": {
          "base_uri": "https://localhost:8080/"
        },
        "id": "bvYh_N0xqyQe",
        "outputId": "fc6d7d43-334f-457f-ca54-81585d03996e"
      },
      "source": [
        "# 사전 관련 함수 예제\n",
        "myDict = {'coffee': 4000, 'water': 2000, 'milk': 2500}\n",
        "\n",
        "\"\"\"\n",
        "myDict에 cake 목록(아래)을 추가하고, 결과를 확인해보세요!\n",
        "choco : 2000\n",
        "banana : 4000\n",
        "straw berry : 5000\n",
        "\"\"\"\n",
        "myDict['cake'] = {'choco': 2000, 'banana': 4000, 'straw berry': 5000}\n",
        "\n",
        "print(myDict['cake']['choco'])\n",
        "print(myDict['cake'].keys())\n",
        "print('mint choco' in myDict['cake'])"
      ],
      "execution_count": null,
      "outputs": [
        {
          "output_type": "stream",
          "text": [
            "2000\n",
            "dict_keys(['choco', 'banana', 'straw berry'])\n",
            "False\n"
          ],
          "name": "stdout"
        }
      ]
    },
    {
      "cell_type": "markdown",
      "metadata": {
        "id": "8bpiHHVoJXsI"
      },
      "source": [
        "## 2.5 튜플 (tuple)"
      ]
    },
    {
      "cell_type": "markdown",
      "metadata": {
        "id": "4_LagDa7ueQe"
      },
      "source": [
        "리스트와 비슷하지만, 값을 추가, 삭제, 수정할 수 없음!\n",
        "\n",
        "- ( )를 이용하여 초기화 (( ) 없이도 선언 가능)\n",
        "- 값 한개를 가질 때는 마지막에 \",\"를 써줘야 함\n",
        "- 수정해서는 안되는 값들을 저장할 때 사용"
      ]
    },
    {
      "cell_type": "code",
      "metadata": {
        "id": "hKuJY3-CueeR",
        "colab": {
          "base_uri": "https://localhost:8080/"
        },
        "outputId": "a13c119c-0ffc-4536-c243-d0ef3ff623c4"
      },
      "source": [
        "tuple1 = (2.3,)\n",
        "tuple2 = (2.3)\n",
        "tuple3 = 1,2,3,4,5\n",
        "\n",
        "print(tuple1)\n",
        "print(tuple2)\n",
        "print(tuple3)"
      ],
      "execution_count": null,
      "outputs": [
        {
          "output_type": "stream",
          "text": [
            "(2.3,)\n",
            "2.3\n",
            "(1, 2, 3, 4, 5)\n"
          ],
          "name": "stdout"
        }
      ]
    },
    {
      "cell_type": "code",
      "metadata": {
        "id": "rpsBlsz2z4pN",
        "colab": {
          "base_uri": "https://localhost:8080/"
        },
        "outputId": "af3b941b-6930-4f99-9009-399b1e37c628"
      },
      "source": [
        "tuple1 = 1,2,3,'?',[1, 23]\n",
        "print(tuple1[1:-2]*2)"
      ],
      "execution_count": null,
      "outputs": [
        {
          "output_type": "stream",
          "text": [
            "(2, 3, 2, 3)\n"
          ],
          "name": "stdout"
        }
      ]
    },
    {
      "cell_type": "markdown",
      "metadata": {
        "id": "KzXlpznvJjPt"
      },
      "source": [
        "## 2.6 집합 (set)"
      ]
    },
    {
      "cell_type": "markdown",
      "metadata": {
        "id": "uQzFXX4JfxJF"
      },
      "source": [
        "집합 관련 자료를 쉽게 처리하기 위해 만든 자료형\n",
        "\n",
        "- { }을 사용해서 초기화\n",
        "- 중복을 허용하지 않고 순서가 없음 >> 인덱싱 x\n",
        "- 순서를 사용하고 싶다면, list나 tuple로 변형"
      ]
    },
    {
      "cell_type": "code",
      "metadata": {
        "id": "WRRMqefKgGvT",
        "colab": {
          "base_uri": "https://localhost:8080/"
        },
        "outputId": "8dff187e-5393-4ed5-d1bc-c782b5dc70f3"
      },
      "source": [
        "set1 = {1, 4, 5}\n",
        "print(set1)"
      ],
      "execution_count": null,
      "outputs": [
        {
          "output_type": "stream",
          "text": [
            "{1, 4, 5}\n"
          ],
          "name": "stdout"
        }
      ]
    },
    {
      "cell_type": "code",
      "metadata": {
        "id": "KTwstoCs018G",
        "colab": {
          "base_uri": "https://localhost:8080/"
        },
        "outputId": "0766b7d3-6bf4-4ecd-8147-6ddcaa9a17d7"
      },
      "source": [
        "list1 = [1,2, 3, 4, 1, 3, 5, 7, 9]\n",
        "print(list1)\n",
        "print(set(list1))\n",
        "print(list(set(list1)))"
      ],
      "execution_count": null,
      "outputs": [
        {
          "output_type": "stream",
          "text": [
            "[1, 2, 3, 4, 1, 3, 5, 7, 9]\n",
            "{1, 2, 3, 4, 5, 7, 9}\n",
            "[1, 2, 3, 4, 5, 7, 9]\n"
          ],
          "name": "stdout"
        }
      ]
    },
    {
      "cell_type": "markdown",
      "metadata": {
        "id": "ArWO4uv3gKpU"
      },
      "source": [
        "### 2.6.1 합집합, 교집합, 차집합\n",
        "\n",
        "- 합집합 : |\n",
        "- 교집합 : &\n",
        "- 차집합 : -"
      ]
    },
    {
      "cell_type": "code",
      "metadata": {
        "id": "HBr1xAL4gREK"
      },
      "source": [
        "set1 = {1, 2, 3, 4, 5}\n",
        "set2 = {1, 3, 5, 7, 9}"
      ],
      "execution_count": null,
      "outputs": []
    },
    {
      "cell_type": "code",
      "metadata": {
        "colab": {
          "base_uri": "https://localhost:8080/"
        },
        "id": "H-RqWxXupia0",
        "outputId": "5f708f66-3b95-4a21-b64a-908e78ae0df3"
      },
      "source": [
        "print(set1 or set2)\n",
        "print(set1 | set2) # or 합집합\n",
        "\n",
        "print(set1 and set2) # and 교집합\n",
        "# 즉, x and y 가 있으면 x가 False면 x를 반환하고, x가 True면 y값을 반환합니다.\n",
        "print(set1 & set2) # and 교집합\n",
        "print(set1 - set2)"
      ],
      "execution_count": null,
      "outputs": [
        {
          "output_type": "stream",
          "text": [
            "{1, 2, 3, 4, 5}\n",
            "{1, 2, 3, 4, 5, 7, 9}\n",
            "{1, 3, 5, 7, 9}\n",
            "{1, 3, 5}\n",
            "{2, 4}\n"
          ],
          "name": "stdout"
        }
      ]
    },
    {
      "cell_type": "markdown",
      "metadata": {
        "id": "Q9RMsFKygR7b"
      },
      "source": [
        "### 2.6.2 집합 관련 함수\n",
        "\n",
        "- .add()\n",
        "- .updata()\n",
        "- .remove()\n",
        "- .union()\n",
        "- .defference()"
      ]
    },
    {
      "cell_type": "code",
      "metadata": {
        "id": "Cx8sgFtzgYyq",
        "colab": {
          "base_uri": "https://localhost:8080/"
        },
        "outputId": "b4b73003-159a-477e-c17a-cf1c236cc501"
      },
      "source": [
        "set1 = {1, 2, 3, 4, 5}\n",
        "set2 = {1, 3, 5, 7, 9}\n",
        "print(f\"set1: {set1}\\t\\tset2: {set2}\")\n",
        "set1.add(6)\n",
        "print(f\"set1: {set1}\\tset2: {set2}\")\n",
        "set2.update([11, 13])\n",
        "print(f\"set1: {set1}\\tset2: {set2}\")\n",
        "set1.remove(1)\n",
        "print(f\"set1: {set1}\\t\\tset2: {set2}\")\n",
        "print(f\"union: {set1.union(set2)}\")\n",
        "print(f\"union: {set1 | set2}\")\n",
        "print(f\"diff: {set1.difference(set2)}\")\n",
        "print(f\"diff: {set1 - set2}\")"
      ],
      "execution_count": null,
      "outputs": [
        {
          "output_type": "stream",
          "text": [
            "set1: {1, 2, 3, 4, 5}\t\tset2: {1, 3, 5, 7, 9}\n",
            "set1: {1, 2, 3, 4, 5, 6}\tset2: {1, 3, 5, 7, 9}\n",
            "set1: {1, 2, 3, 4, 5, 6}\tset2: {1, 3, 5, 7, 9, 11, 13}\n",
            "set1: {2, 3, 4, 5, 6}\t\tset2: {1, 3, 5, 7, 9, 11, 13}\n",
            "union: {1, 2, 3, 4, 5, 6, 7, 9, 11, 13}\n",
            "union: {1, 2, 3, 4, 5, 6, 7, 9, 11, 13}\n",
            "diff: {2, 4, 6}\n",
            "diff: {2, 4, 6}\n"
          ],
          "name": "stdout"
        }
      ]
    },
    {
      "cell_type": "markdown",
      "metadata": {
        "id": "qTpAQiTEJjXR"
      },
      "source": [
        "## 2.7 부울 (bool)"
      ]
    },
    {
      "cell_type": "markdown",
      "metadata": {
        "id": "-tz8NWENg4F7"
      },
      "source": [
        "참과 거짓을 나타내는 자료형\n",
        "\n",
        "- True / False\n",
        "- 주로 조건문의 반환 값으로 사용"
      ]
    },
    {
      "cell_type": "code",
      "metadata": {
        "id": "NkSNQryYg4oZ",
        "colab": {
          "base_uri": "https://localhost:8080/"
        },
        "outputId": "1eb949ad-3f49-4267-bfbe-af1a239b05d5"
      },
      "source": [
        "a = True\n",
        "b = False\n",
        "print(type(a))"
      ],
      "execution_count": null,
      "outputs": [
        {
          "output_type": "stream",
          "text": [
            "<class 'bool'>\n"
          ],
          "name": "stdout"
        }
      ]
    },
    {
      "cell_type": "code",
      "metadata": {
        "colab": {
          "base_uri": "https://localhost:8080/"
        },
        "id": "rDjIA1YKv58-",
        "outputId": "7af1cca6-6698-4495-be5c-72517530df5d"
      },
      "source": [
        "# &는 모두가 참이여야 참!\n",
        "print(True & True)\n",
        "print(True & False)\n",
        "print(False & True)\n",
        "print(False & False)"
      ],
      "execution_count": null,
      "outputs": [
        {
          "output_type": "stream",
          "text": [
            "True\n",
            "False\n",
            "False\n",
            "False\n"
          ],
          "name": "stdout"
        }
      ]
    },
    {
      "cell_type": "code",
      "metadata": {
        "id": "2lsyCFEgj8uW",
        "colab": {
          "base_uri": "https://localhost:8080/"
        },
        "outputId": "82a8176a-736a-4bb9-d033-62b44853432a"
      },
      "source": [
        "# |은 하나라도 참이면 참!\n",
        "print(True | True)\n",
        "print(True | False)\n",
        "print(False | True)\n",
        "print(False | False)"
      ],
      "execution_count": null,
      "outputs": [
        {
          "output_type": "stream",
          "text": [
            "True\n",
            "True\n",
            "True\n",
            "False\n"
          ],
          "name": "stdout"
        }
      ]
    },
    {
      "cell_type": "code",
      "metadata": {
        "colab": {
          "base_uri": "https://localhost:8080/"
        },
        "id": "63q2dKt7wo1N",
        "outputId": "7bcc84f9-8cb6-451c-8a32-98c309a2a0a4"
      },
      "source": [
        "myList = [1,2,3]\n",
        "myDict = {'name': 'jack'} # bool(myDict) -> True\n",
        "print(bool(myList))\n",
        "print(bool([]))\n",
        "print(bool(myDict))\n",
        "print(bool({}))"
      ],
      "execution_count": null,
      "outputs": [
        {
          "output_type": "stream",
          "text": [
            "True\n",
            "False\n",
            "True\n",
            "False\n"
          ],
          "name": "stdout"
        }
      ]
    },
    {
      "cell_type": "markdown",
      "metadata": {
        "id": "UKjSyC3_h2oy"
      },
      "source": [
        "## 2.8 input 함수"
      ]
    },
    {
      "cell_type": "markdown",
      "metadata": {
        "id": "QcfJ_6Jkh-4J"
      },
      "source": [
        "문자열을 띄워 질문하고 사용자의 입력값을 받음"
      ]
    },
    {
      "cell_type": "code",
      "metadata": {
        "id": "uHrF4v2nhSHq",
        "colab": {
          "base_uri": "https://localhost:8080/"
        },
        "outputId": "5e1ce5c7-12e1-413f-8206-658871452273"
      },
      "source": [
        "print(\"hello\")"
      ],
      "execution_count": null,
      "outputs": [
        {
          "output_type": "stream",
          "text": [
            "hello\n"
          ],
          "name": "stdout"
        }
      ]
    },
    {
      "cell_type": "code",
      "metadata": {
        "id": "A3HXPyKp4f9h",
        "colab": {
          "base_uri": "https://localhost:8080/"
        },
        "outputId": "6514abb8-3b85-41a3-b860-7d020559e69b"
      },
      "source": [
        "number = input(\"값을 입력해주세요.\\n\")"
      ],
      "execution_count": null,
      "outputs": [
        {
          "output_type": "stream",
          "text": [
            "값을 입력해주세요.\n",
            "123789\n"
          ],
          "name": "stdout"
        }
      ]
    },
    {
      "cell_type": "code",
      "metadata": {
        "colab": {
          "base_uri": "https://localhost:8080/"
        },
        "id": "5ZDPFLqUyHKP",
        "outputId": "3af364c6-93a9-4f12-99ec-82b58c200729"
      },
      "source": [
        "print(float(number))\n",
        "print(type(number))"
      ],
      "execution_count": null,
      "outputs": [
        {
          "output_type": "stream",
          "text": [
            "123789.0\n",
            "<class 'str'>\n"
          ],
          "name": "stdout"
        }
      ]
    }
  ]
}